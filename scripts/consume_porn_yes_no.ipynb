{
 "cells": [
  {
   "cell_type": "code",
   "execution_count": 1,
   "id": "cfca8ec6",
   "metadata": {
    "ExecuteTime": {
     "end_time": "2022-12-17T08:24:56.224899Z",
     "start_time": "2022-12-17T08:24:54.648974Z"
    }
   },
   "outputs": [
    {
     "data": {
      "text/html": [
       "<div>\n",
       "<style scoped>\n",
       "    .dataframe tbody tr th:only-of-type {\n",
       "        vertical-align: middle;\n",
       "    }\n",
       "\n",
       "    .dataframe tbody tr th {\n",
       "        vertical-align: top;\n",
       "    }\n",
       "\n",
       "    .dataframe thead th {\n",
       "        text-align: right;\n",
       "    }\n",
       "</style>\n",
       "<table border=\"1\" class=\"dataframe\">\n",
       "  <thead>\n",
       "    <tr style=\"text-align: right;\">\n",
       "      <th></th>\n",
       "      <th>caseid</th>\n",
       "      <th>birthyr</th>\n",
       "      <th>gender</th>\n",
       "      <th>race</th>\n",
       "      <th>educ</th>\n",
       "      <th>pid3</th>\n",
       "      <th>pid7</th>\n",
       "      <th>presvote20post</th>\n",
       "      <th>inputstate</th>\n",
       "      <th>region</th>\n",
       "      <th>...</th>\n",
       "      <th>duration_adult</th>\n",
       "      <th>duration_nonadult</th>\n",
       "      <th>duration</th>\n",
       "      <th>prop_adult_duration</th>\n",
       "      <th>yes_visit_adults</th>\n",
       "      <th>race2</th>\n",
       "      <th>cohort</th>\n",
       "      <th>age</th>\n",
       "      <th>age2</th>\n",
       "      <th>educ2</th>\n",
       "    </tr>\n",
       "  </thead>\n",
       "  <tbody>\n",
       "    <tr>\n",
       "      <th>0</th>\n",
       "      <td>200661421</td>\n",
       "      <td>1963</td>\n",
       "      <td>2</td>\n",
       "      <td>1</td>\n",
       "      <td>4</td>\n",
       "      <td>3</td>\n",
       "      <td>3</td>\n",
       "      <td>1</td>\n",
       "      <td>39</td>\n",
       "      <td>2</td>\n",
       "      <td>...</td>\n",
       "      <td>0.0</td>\n",
       "      <td>77642.0</td>\n",
       "      <td>77642.0</td>\n",
       "      <td>0.00000</td>\n",
       "      <td>0.0</td>\n",
       "      <td>1</td>\n",
       "      <td>1960</td>\n",
       "      <td>60</td>\n",
       "      <td>3600</td>\n",
       "      <td>4</td>\n",
       "    </tr>\n",
       "    <tr>\n",
       "      <th>1</th>\n",
       "      <td>200686597</td>\n",
       "      <td>1992</td>\n",
       "      <td>2</td>\n",
       "      <td>6</td>\n",
       "      <td>5</td>\n",
       "      <td>5</td>\n",
       "      <td>8</td>\n",
       "      <td>-1</td>\n",
       "      <td>48</td>\n",
       "      <td>3</td>\n",
       "      <td>...</td>\n",
       "      <td>25952.0</td>\n",
       "      <td>234196.0</td>\n",
       "      <td>260148.0</td>\n",
       "      <td>9.97586</td>\n",
       "      <td>1.0</td>\n",
       "      <td>5</td>\n",
       "      <td>1990</td>\n",
       "      <td>31</td>\n",
       "      <td>961</td>\n",
       "      <td>4</td>\n",
       "    </tr>\n",
       "    <tr>\n",
       "      <th>2</th>\n",
       "      <td>200953869</td>\n",
       "      <td>1959</td>\n",
       "      <td>2</td>\n",
       "      <td>1</td>\n",
       "      <td>5</td>\n",
       "      <td>2</td>\n",
       "      <td>7</td>\n",
       "      <td>2</td>\n",
       "      <td>42</td>\n",
       "      <td>1</td>\n",
       "      <td>...</td>\n",
       "      <td>0.0</td>\n",
       "      <td>1182.0</td>\n",
       "      <td>1182.0</td>\n",
       "      <td>0.00000</td>\n",
       "      <td>0.0</td>\n",
       "      <td>1</td>\n",
       "      <td>1960</td>\n",
       "      <td>64</td>\n",
       "      <td>4096</td>\n",
       "      <td>4</td>\n",
       "    </tr>\n",
       "  </tbody>\n",
       "</table>\n",
       "<p>3 rows × 26 columns</p>\n",
       "</div>"
      ],
      "text/plain": [
       "      caseid  birthyr  gender  race  educ  pid3  pid7  presvote20post  \\\n",
       "0  200661421     1963       2     1     4     3     3               1   \n",
       "1  200686597     1992       2     6     5     5     8              -1   \n",
       "2  200953869     1959       2     1     5     2     7               2   \n",
       "\n",
       "   inputstate  region  ... duration_adult  duration_nonadult  duration  \\\n",
       "0          39       2  ...            0.0            77642.0   77642.0   \n",
       "1          48       3  ...        25952.0           234196.0  260148.0   \n",
       "2          42       1  ...            0.0             1182.0    1182.0   \n",
       "\n",
       "   prop_adult_duration  yes_visit_adults  race2  cohort  age  age2  educ2  \n",
       "0              0.00000               0.0      1    1960   60  3600      4  \n",
       "1              9.97586               1.0      5    1990   31   961      4  \n",
       "2              0.00000               0.0      1    1960   64  4096      4  \n",
       "\n",
       "[3 rows x 26 columns]"
      ]
     },
     "execution_count": 1,
     "metadata": {},
     "output_type": "execute_result"
    }
   ],
   "source": [
    "import os\n",
    "import pandas as pd\n",
    "from utils.utils import save_mpl_fig\n",
    "import matplotlib.pyplot as plt\n",
    "import seaborn as sns\n",
    "sns.set_theme(context=\"notebook\", font_scale=1.05, \n",
    "              style='whitegrid', palette='dark') #  Darkgrid Whitegrid Dark White Ticksimport matplotlib.pyplot as plt\n",
    "import matplotlib.ticker as ticker\n",
    "\n",
    "DATAPATH = \"../data/individual_browsing_data.csv\"        \n",
    "FIGSAVEDIR = \"../figs\"\n",
    "\n",
    "df_ind = pd.read_csv(DATAPATH)\n",
    "df_ind.head(3)"
   ]
  },
  {
   "cell_type": "code",
   "execution_count": 2,
   "id": "28bc6fce",
   "metadata": {
    "ExecuteTime": {
     "end_time": "2022-12-17T08:24:56.701961Z",
     "start_time": "2022-12-17T08:24:56.225892Z"
    },
    "code_folding": [
     0
    ]
   },
   "outputs": [
    {
     "data": {
      "image/png": "[encoded data removed]",
      "text/plain": [
       "<Figure size 453.6x453.6 with 1 Axes>"
      ]
     },
     "metadata": {},
     "output_type": "display_data"
    }
   ],
   "source": [
    "# (fold cell) plot\n",
    "scale = .7\n",
    "fig, ax = plt.subplots(figsize=(9*scale, 9*scale))\n",
    "\n",
    "sns.barplot(\n",
    "    data=df_ind,\n",
    "    y=\"yes_visit_adults\", \n",
    "    x=\"party\",\n",
    "    capsize=.08, \n",
    "    errcolor=\".45\",\n",
    "    alpha=.85,\n",
    "#     order=[\"D\", \"I\", \"R\"],\n",
    "    ax=ax,\n",
    ")\n",
    "nRep = len(df_ind.query(\"party=='R'\"))\n",
    "nDem = len(df_ind.query(\"party=='D'\"))\n",
    "nInd = len(df_ind.query(\"party=='I'\"))\n",
    "ax.set_xticklabels([f\"Democrats\\n(N = {nDem})\", f\"Republicans\\n(N = {nRep})\", f\"Independents\\n(N = {nInd})\"])\n",
    "ax.set_ylabel(\"Consume pornography\", size=14)\n",
    "ax.set_xlabel(\"Party\", size=14)\n",
    "ax.get_yaxis().set_minor_locator(ticker.AutoMinorLocator(2))\n",
    "ax.yaxis.grid(True, which=\"both\", color=\".9\")\n",
    "sns.despine(left=True, bottom=True)\n",
    "plt.tight_layout()\n",
    "save_mpl_fig(os.path.join(FIGSAVEDIR, \"consume_porn_yes_no\"))"
   ]
  },
  {
   "cell_type": "code",
   "execution_count": null,
   "id": "496ae6b5",
   "metadata": {},
   "outputs": [],
   "source": []
  }
 ],
 "metadata": {
  "kernelspec": {
   "display_name": "Python 3",
   "language": "python",
   "name": "python3"
  },
  "language_info": {
   "codemirror_mode": {
    "name": "ipython",
    "version": 3
   },
   "file_extension": ".py",
   "mimetype": "text/x-python",
   "name": "python",
   "nbconvert_exporter": "python",
   "pygments_lexer": "ipython3",
   "version": "3.9.12"
  },
  "toc": {
   "base_numbering": 1,
   "nav_menu": {},
   "number_sections": true,
   "sideBar": true,
   "skip_h1_title": false,
   "title_cell": "Table of Contents",
   "title_sidebar": "Contents",
   "toc_cell": false,
   "toc_position": {},
   "toc_section_display": true,
   "toc_window_display": false
  },
  "varInspector": {
   "cols": {
    "lenName": 16,
    "lenType": 16,
    "lenVar": 40
   },
   "kernels_config": {
    "python": {
     "delete_cmd_postfix": "",
     "delete_cmd_prefix": "del ",
     "library": "var_list.py",
     "varRefreshCmd": "print(var_dic_list())"
    },
    "r": {
     "delete_cmd_postfix": ") ",
     "delete_cmd_prefix": "rm(",
     "library": "var_list.r",
     "varRefreshCmd": "cat(var_dic_list()) "
    }
   },
   "types_to_exclude": [
    "module",
    "function",
    "builtin_function_or_method",
    "instance",
    "_Feature"
   ],
   "window_display": false
  }
 },
 "nbformat": 4,
 "nbformat_minor": 5
}
