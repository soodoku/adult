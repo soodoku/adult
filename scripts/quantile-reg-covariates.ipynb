{
 "cells": [
  {
   "cell_type": "code",
   "execution_count": 1,
   "id": "52a31922",
   "metadata": {
    "ExecuteTime": {
     "end_time": "2023-01-07T09:29:15.139566Z",
     "start_time": "2023-01-07T09:29:11.912892Z"
    }
   },
   "outputs": [
    {
     "data": {
      "text/html": [
       "<div>\n",
       "<style scoped>\n",
       "    .dataframe tbody tr th:only-of-type {\n",
       "        vertical-align: middle;\n",
       "    }\n",
       "\n",
       "    .dataframe tbody tr th {\n",
       "        vertical-align: top;\n",
       "    }\n",
       "\n",
       "    .dataframe thead th {\n",
       "        text-align: right;\n",
       "    }\n",
       "</style>\n",
       "<table border=\"1\" class=\"dataframe\">\n",
       "  <thead>\n",
       "    <tr style=\"text-align: right;\">\n",
       "      <th></th>\n",
       "      <th>caseid</th>\n",
       "      <th>birthyr</th>\n",
       "      <th>gender</th>\n",
       "      <th>race</th>\n",
       "      <th>educ</th>\n",
       "      <th>pid3</th>\n",
       "      <th>pid7</th>\n",
       "      <th>presvote20post</th>\n",
       "      <th>inputstate</th>\n",
       "      <th>region</th>\n",
       "      <th>party</th>\n",
       "      <th>visits_adult</th>\n",
       "      <th>visits_nonadult</th>\n",
       "      <th>visits</th>\n",
       "      <th>prop_adult_visits</th>\n",
       "      <th>rep</th>\n",
       "      <th>duration_adult</th>\n",
       "      <th>duration_nonadult</th>\n",
       "      <th>duration</th>\n",
       "      <th>prop_adult_duration</th>\n",
       "      <th>yes_visit_adults</th>\n",
       "      <th>race2</th>\n",
       "      <th>cohort</th>\n",
       "      <th>age</th>\n",
       "      <th>age2</th>\n",
       "      <th>educ2</th>\n",
       "    </tr>\n",
       "  </thead>\n",
       "  <tbody>\n",
       "    <tr>\n",
       "      <th>0</th>\n",
       "      <td>200661421</td>\n",
       "      <td>1963</td>\n",
       "      <td>2</td>\n",
       "      <td>1</td>\n",
       "      <td>4</td>\n",
       "      <td>3</td>\n",
       "      <td>3</td>\n",
       "      <td>1</td>\n",
       "      <td>39</td>\n",
       "      <td>2</td>\n",
       "      <td>D</td>\n",
       "      <td>0.0</td>\n",
       "      <td>1728.0</td>\n",
       "      <td>1728.0</td>\n",
       "      <td>0.000000</td>\n",
       "      <td>0.0</td>\n",
       "      <td>0.000000</td>\n",
       "      <td>21.567222</td>\n",
       "      <td>77642.0</td>\n",
       "      <td>0.000000</td>\n",
       "      <td>0.0</td>\n",
       "      <td>1</td>\n",
       "      <td>1960</td>\n",
       "      <td>60</td>\n",
       "      <td>3600</td>\n",
       "      <td>4</td>\n",
       "    </tr>\n",
       "    <tr>\n",
       "      <th>1</th>\n",
       "      <td>200686597</td>\n",
       "      <td>1992</td>\n",
       "      <td>2</td>\n",
       "      <td>6</td>\n",
       "      <td>5</td>\n",
       "      <td>5</td>\n",
       "      <td>8</td>\n",
       "      <td>-1</td>\n",
       "      <td>48</td>\n",
       "      <td>3</td>\n",
       "      <td>NaN</td>\n",
       "      <td>243.0</td>\n",
       "      <td>3994.0</td>\n",
       "      <td>4237.0</td>\n",
       "      <td>5.735190</td>\n",
       "      <td>NaN</td>\n",
       "      <td>7.208889</td>\n",
       "      <td>65.054444</td>\n",
       "      <td>260148.0</td>\n",
       "      <td>9.975860</td>\n",
       "      <td>1.0</td>\n",
       "      <td>5</td>\n",
       "      <td>1990</td>\n",
       "      <td>31</td>\n",
       "      <td>961</td>\n",
       "      <td>4</td>\n",
       "    </tr>\n",
       "    <tr>\n",
       "      <th>2</th>\n",
       "      <td>200953869</td>\n",
       "      <td>1959</td>\n",
       "      <td>2</td>\n",
       "      <td>1</td>\n",
       "      <td>5</td>\n",
       "      <td>2</td>\n",
       "      <td>7</td>\n",
       "      <td>2</td>\n",
       "      <td>42</td>\n",
       "      <td>1</td>\n",
       "      <td>R</td>\n",
       "      <td>0.0</td>\n",
       "      <td>20.0</td>\n",
       "      <td>20.0</td>\n",
       "      <td>0.000000</td>\n",
       "      <td>1.0</td>\n",
       "      <td>0.000000</td>\n",
       "      <td>0.328333</td>\n",
       "      <td>1182.0</td>\n",
       "      <td>0.000000</td>\n",
       "      <td>0.0</td>\n",
       "      <td>1</td>\n",
       "      <td>1960</td>\n",
       "      <td>64</td>\n",
       "      <td>4096</td>\n",
       "      <td>4</td>\n",
       "    </tr>\n",
       "    <tr>\n",
       "      <th>3</th>\n",
       "      <td>201302005</td>\n",
       "      <td>1966</td>\n",
       "      <td>2</td>\n",
       "      <td>2</td>\n",
       "      <td>3</td>\n",
       "      <td>5</td>\n",
       "      <td>8</td>\n",
       "      <td>1</td>\n",
       "      <td>12</td>\n",
       "      <td>3</td>\n",
       "      <td>NaN</td>\n",
       "      <td>20.0</td>\n",
       "      <td>527.0</td>\n",
       "      <td>547.0</td>\n",
       "      <td>3.656307</td>\n",
       "      <td>NaN</td>\n",
       "      <td>1.712778</td>\n",
       "      <td>6.626389</td>\n",
       "      <td>30021.0</td>\n",
       "      <td>20.538956</td>\n",
       "      <td>1.0</td>\n",
       "      <td>2</td>\n",
       "      <td>1970</td>\n",
       "      <td>57</td>\n",
       "      <td>3249</td>\n",
       "      <td>3</td>\n",
       "    </tr>\n",
       "    <tr>\n",
       "      <th>4</th>\n",
       "      <td>201590505</td>\n",
       "      <td>1977</td>\n",
       "      <td>1</td>\n",
       "      <td>4</td>\n",
       "      <td>5</td>\n",
       "      <td>3</td>\n",
       "      <td>3</td>\n",
       "      <td>1</td>\n",
       "      <td>6</td>\n",
       "      <td>4</td>\n",
       "      <td>D</td>\n",
       "      <td>0.0</td>\n",
       "      <td>11086.0</td>\n",
       "      <td>11086.0</td>\n",
       "      <td>0.000000</td>\n",
       "      <td>0.0</td>\n",
       "      <td>0.000000</td>\n",
       "      <td>106.433611</td>\n",
       "      <td>383161.0</td>\n",
       "      <td>0.000000</td>\n",
       "      <td>0.0</td>\n",
       "      <td>4</td>\n",
       "      <td>1980</td>\n",
       "      <td>46</td>\n",
       "      <td>2116</td>\n",
       "      <td>4</td>\n",
       "    </tr>\n",
       "    <tr>\n",
       "      <th>...</th>\n",
       "      <td>...</td>\n",
       "      <td>...</td>\n",
       "      <td>...</td>\n",
       "      <td>...</td>\n",
       "      <td>...</td>\n",
       "      <td>...</td>\n",
       "      <td>...</td>\n",
       "      <td>...</td>\n",
       "      <td>...</td>\n",
       "      <td>...</td>\n",
       "      <td>...</td>\n",
       "      <td>...</td>\n",
       "      <td>...</td>\n",
       "      <td>...</td>\n",
       "      <td>...</td>\n",
       "      <td>...</td>\n",
       "      <td>...</td>\n",
       "      <td>...</td>\n",
       "      <td>...</td>\n",
       "      <td>...</td>\n",
       "      <td>...</td>\n",
       "      <td>...</td>\n",
       "      <td>...</td>\n",
       "      <td>...</td>\n",
       "      <td>...</td>\n",
       "      <td>...</td>\n",
       "    </tr>\n",
       "    <tr>\n",
       "      <th>1195</th>\n",
       "      <td>1802885</td>\n",
       "      <td>1935</td>\n",
       "      <td>1</td>\n",
       "      <td>1</td>\n",
       "      <td>6</td>\n",
       "      <td>4</td>\n",
       "      <td>5</td>\n",
       "      <td>2</td>\n",
       "      <td>12</td>\n",
       "      <td>3</td>\n",
       "      <td>R</td>\n",
       "      <td>NaN</td>\n",
       "      <td>NaN</td>\n",
       "      <td>NaN</td>\n",
       "      <td>NaN</td>\n",
       "      <td>1.0</td>\n",
       "      <td>NaN</td>\n",
       "      <td>NaN</td>\n",
       "      <td>NaN</td>\n",
       "      <td>NaN</td>\n",
       "      <td>NaN</td>\n",
       "      <td>1</td>\n",
       "      <td>1940</td>\n",
       "      <td>88</td>\n",
       "      <td>7744</td>\n",
       "      <td>4</td>\n",
       "    </tr>\n",
       "    <tr>\n",
       "      <th>1196</th>\n",
       "      <td>1809723</td>\n",
       "      <td>1943</td>\n",
       "      <td>1</td>\n",
       "      <td>1</td>\n",
       "      <td>2</td>\n",
       "      <td>1</td>\n",
       "      <td>1</td>\n",
       "      <td>1</td>\n",
       "      <td>51</td>\n",
       "      <td>3</td>\n",
       "      <td>D</td>\n",
       "      <td>0.0</td>\n",
       "      <td>9805.0</td>\n",
       "      <td>9805.0</td>\n",
       "      <td>0.000000</td>\n",
       "      <td>0.0</td>\n",
       "      <td>0.000000</td>\n",
       "      <td>353.503611</td>\n",
       "      <td>1272613.0</td>\n",
       "      <td>0.000000</td>\n",
       "      <td>0.0</td>\n",
       "      <td>1</td>\n",
       "      <td>1940</td>\n",
       "      <td>80</td>\n",
       "      <td>6400</td>\n",
       "      <td>2</td>\n",
       "    </tr>\n",
       "    <tr>\n",
       "      <th>1197</th>\n",
       "      <td>1827351</td>\n",
       "      <td>1947</td>\n",
       "      <td>1</td>\n",
       "      <td>1</td>\n",
       "      <td>5</td>\n",
       "      <td>3</td>\n",
       "      <td>4</td>\n",
       "      <td>1</td>\n",
       "      <td>31</td>\n",
       "      <td>2</td>\n",
       "      <td>I</td>\n",
       "      <td>0.0</td>\n",
       "      <td>543.0</td>\n",
       "      <td>543.0</td>\n",
       "      <td>0.000000</td>\n",
       "      <td>NaN</td>\n",
       "      <td>0.000000</td>\n",
       "      <td>6.646944</td>\n",
       "      <td>23929.0</td>\n",
       "      <td>0.000000</td>\n",
       "      <td>0.0</td>\n",
       "      <td>1</td>\n",
       "      <td>1950</td>\n",
       "      <td>76</td>\n",
       "      <td>5776</td>\n",
       "      <td>4</td>\n",
       "    </tr>\n",
       "    <tr>\n",
       "      <th>1198</th>\n",
       "      <td>1924249</td>\n",
       "      <td>1980</td>\n",
       "      <td>1</td>\n",
       "      <td>7</td>\n",
       "      <td>4</td>\n",
       "      <td>2</td>\n",
       "      <td>7</td>\n",
       "      <td>2</td>\n",
       "      <td>6</td>\n",
       "      <td>4</td>\n",
       "      <td>R</td>\n",
       "      <td>182.0</td>\n",
       "      <td>21379.0</td>\n",
       "      <td>21561.0</td>\n",
       "      <td>0.844117</td>\n",
       "      <td>1.0</td>\n",
       "      <td>0.581667</td>\n",
       "      <td>86.076667</td>\n",
       "      <td>311970.0</td>\n",
       "      <td>0.671218</td>\n",
       "      <td>1.0</td>\n",
       "      <td>5</td>\n",
       "      <td>1980</td>\n",
       "      <td>43</td>\n",
       "      <td>1849</td>\n",
       "      <td>4</td>\n",
       "    </tr>\n",
       "    <tr>\n",
       "      <th>1199</th>\n",
       "      <td>1988109</td>\n",
       "      <td>1953</td>\n",
       "      <td>2</td>\n",
       "      <td>3</td>\n",
       "      <td>5</td>\n",
       "      <td>3</td>\n",
       "      <td>4</td>\n",
       "      <td>6</td>\n",
       "      <td>51</td>\n",
       "      <td>3</td>\n",
       "      <td>I</td>\n",
       "      <td>0.0</td>\n",
       "      <td>7158.0</td>\n",
       "      <td>7158.0</td>\n",
       "      <td>0.000000</td>\n",
       "      <td>NaN</td>\n",
       "      <td>0.000000</td>\n",
       "      <td>59.665833</td>\n",
       "      <td>214797.0</td>\n",
       "      <td>0.000000</td>\n",
       "      <td>0.0</td>\n",
       "      <td>3</td>\n",
       "      <td>1950</td>\n",
       "      <td>70</td>\n",
       "      <td>4900</td>\n",
       "      <td>4</td>\n",
       "    </tr>\n",
       "  </tbody>\n",
       "</table>\n",
       "<p>1200 rows × 26 columns</p>\n",
       "</div>"
      ],
      "text/plain": [
       "         caseid  birthyr  gender  race  educ  pid3  pid7  presvote20post  \\\n",
       "0     200661421     1963       2     1     4     3     3               1   \n",
       "1     200686597     1992       2     6     5     5     8              -1   \n",
       "2     200953869     1959       2     1     5     2     7               2   \n",
       "3     201302005     1966       2     2     3     5     8               1   \n",
       "4     201590505     1977       1     4     5     3     3               1   \n",
       "...         ...      ...     ...   ...   ...   ...   ...             ...   \n",
       "1195    1802885     1935       1     1     6     4     5               2   \n",
       "1196    1809723     1943       1     1     2     1     1               1   \n",
       "1197    1827351     1947       1     1     5     3     4               1   \n",
       "1198    1924249     1980       1     7     4     2     7               2   \n",
       "1199    1988109     1953       2     3     5     3     4               6   \n",
       "\n",
       "      inputstate  region party  visits_adult  visits_nonadult   visits  \\\n",
       "0             39       2     D           0.0           1728.0   1728.0   \n",
       "1             48       3   NaN         243.0           3994.0   4237.0   \n",
       "2             42       1     R           0.0             20.0     20.0   \n",
       "3             12       3   NaN          20.0            527.0    547.0   \n",
       "4              6       4     D           0.0          11086.0  11086.0   \n",
       "...          ...     ...   ...           ...              ...      ...   \n",
       "1195          12       3     R           NaN              NaN      NaN   \n",
       "1196          51       3     D           0.0           9805.0   9805.0   \n",
       "1197          31       2     I           0.0            543.0    543.0   \n",
       "1198           6       4     R         182.0          21379.0  21561.0   \n",
       "1199          51       3     I           0.0           7158.0   7158.0   \n",
       "\n",
       "      prop_adult_visits  rep  duration_adult  duration_nonadult   duration  \\\n",
       "0              0.000000  0.0        0.000000          21.567222    77642.0   \n",
       "1              5.735190  NaN        7.208889          65.054444   260148.0   \n",
       "2              0.000000  1.0        0.000000           0.328333     1182.0   \n",
       "3              3.656307  NaN        1.712778           6.626389    30021.0   \n",
       "4              0.000000  0.0        0.000000         106.433611   383161.0   \n",
       "...                 ...  ...             ...                ...        ...   \n",
       "1195                NaN  1.0             NaN                NaN        NaN   \n",
       "1196           0.000000  0.0        0.000000         353.503611  1272613.0   \n",
       "1197           0.000000  NaN        0.000000           6.646944    23929.0   \n",
       "1198           0.844117  1.0        0.581667          86.076667   311970.0   \n",
       "1199           0.000000  NaN        0.000000          59.665833   214797.0   \n",
       "\n",
       "      prop_adult_duration  yes_visit_adults  race2  cohort  age  age2  educ2  \n",
       "0                0.000000               0.0      1    1960   60  3600      4  \n",
       "1                9.975860               1.0      5    1990   31   961      4  \n",
       "2                0.000000               0.0      1    1960   64  4096      4  \n",
       "3               20.538956               1.0      2    1970   57  3249      3  \n",
       "4                0.000000               0.0      4    1980   46  2116      4  \n",
       "...                   ...               ...    ...     ...  ...   ...    ...  \n",
       "1195                  NaN               NaN      1    1940   88  7744      4  \n",
       "1196             0.000000               0.0      1    1940   80  6400      2  \n",
       "1197             0.000000               0.0      1    1950   76  5776      4  \n",
       "1198             0.671218               1.0      5    1980   43  1849      4  \n",
       "1199             0.000000               0.0      3    1950   70  4900      4  \n",
       "\n",
       "[1200 rows x 26 columns]"
      ]
     },
     "execution_count": 1,
     "metadata": {},
     "output_type": "execute_result"
    }
   ],
   "source": [
    "import os\n",
    "import pandas as pd\n",
    "import janitor\n",
    "import numpy as np\n",
    "pd.set_option('display.max_columns', 100)\n",
    "\n",
    "from utils.data_utils import fit_quantile_reg, fit_ols_reg, esttab_ols_quantile\n",
    "from utils.utils import save_mpl_fig\n",
    "import matplotlib.pyplot as plt\n",
    "import seaborn as sns\n",
    "sns.set_theme(context=\"notebook\", font_scale=1.05, style=\"whitegrid\", palette=\"dark\")\n",
    "import matplotlib.lines as mlines\n",
    "import matplotlib.patches as mpatches\n",
    "\n",
    "FIGSAVEDIR = \"../figs\"\n",
    "DATAPATH = \"../data/individual_browsing_data.csv\"        \n",
    "\n",
    "df_ind = (pd.read_csv(DATAPATH)\n",
    "          # Normalize seconds to hours\n",
    "          .assign(\n",
    "              duration_adult=lambda df: df.duration_adult/3600,\n",
    "              duration_nonadult=lambda df: df.duration_nonadult/3600,\n",
    "          )\n",
    "         )\n",
    "df_ind"
   ]
  },
  {
   "cell_type": "code",
   "execution_count": 2,
   "id": "6bbeaa00",
   "metadata": {
    "ExecuteTime": {
     "end_time": "2023-01-07T09:29:15.155593Z",
     "start_time": "2023-01-07T09:29:15.140567Z"
    }
   },
   "outputs": [
    {
     "data": {
      "text/plain": [
       "array([0.05, 0.1 , 0.15, 0.2 , 0.25, 0.3 , 0.35, 0.4 , 0.45, 0.5 , 0.55,\n",
       "       0.6 , 0.65, 0.7 , 0.75, 0.8 , 0.85, 0.9 , 0.95])"
      ]
     },
     "execution_count": 2,
     "metadata": {},
     "output_type": "execute_result"
    }
   ],
   "source": [
    "quantiles = np.arange(0.05, 1, 0.05)\n",
    "quantiles"
   ]
  },
  {
   "cell_type": "code",
   "execution_count": 3,
   "id": "5d4ef00f",
   "metadata": {
    "ExecuteTime": {
     "end_time": "2023-01-07T09:29:15.171485Z",
     "start_time": "2023-01-07T09:29:15.156979Z"
    }
   },
   "outputs": [],
   "source": [
    "z = \"C(gender) + age + age2 + C(race2) + C(educ2) + C(region)\""
   ]
  },
  {
   "cell_type": "code",
   "execution_count": 4,
   "id": "359c5051",
   "metadata": {
    "ExecuteTime": {
     "end_time": "2023-01-07T09:29:15.186497Z",
     "start_time": "2023-01-07T09:29:15.173485Z"
    },
    "code_folding": [
     0
    ]
   },
   "outputs": [],
   "source": [
    "# (fold cell) Standard graph opts\n",
    "opts_connected_line = {\n",
    "    \"linewidth\":2,\n",
    "    \"markersize\":7,\n",
    "    \"markerfacecolor\":\"0\",\n",
    "    \"markeredgecolor\":\"0\",\n",
    "    \"color\":\".4\",\n",
    "}\n",
    "opts_fillbetween = {\n",
    "    \"color\":\".7\",\n",
    "    \"zorder\":1,\n",
    "    \"alpha\":.8,\n",
    "}\n",
    "opts_0yline = {\n",
    "    \"color\":\"maroon\",\n",
    "    \"alpha\":.6,\n",
    "    \"linewidth\":2,\n",
    "    \"zorder\":1,\n",
    "}"
   ]
  },
  {
   "cell_type": "markdown",
   "id": "ee55416a",
   "metadata": {},
   "source": [
    "### Duration on adult"
   ]
  },
  {
   "cell_type": "code",
   "execution_count": 5,
   "id": "298f68e3",
   "metadata": {
    "ExecuteTime": {
     "end_time": "2023-01-07T09:29:15.202588Z",
     "start_time": "2023-01-07T09:29:15.187498Z"
    }
   },
   "outputs": [],
   "source": [
    "outcome = \"duration_adult\"\n",
    "savepath = \"quantile_reg_covariates_duration_adult\""
   ]
  },
  {
   "cell_type": "code",
   "execution_count": 6,
   "id": "0281e028",
   "metadata": {
    "ExecuteTime": {
     "end_time": "2023-01-07T09:29:16.604238Z",
     "start_time": "2023-01-07T09:29:15.203589Z"
    },
    "code_folding": [
     0
    ],
    "scrolled": false
   },
   "outputs": [
    {
     "data": {
      "image/png": "[encoded data removed]",
      "text/plain": [
       "<Figure size 648x518.4 with 1 Axes>"
      ]
     },
     "metadata": {},
     "output_type": "display_data"
    }
   ],
   "source": [
    "# (fold cell) plot\n",
    "quantile_results = [\n",
    "    fit_quantile_reg(y=outcome, x=\"rep\", z=z, quantile=quantile, df=df_ind)\n",
    "    for quantile in quantiles\n",
    "]\n",
    "\n",
    "quantile_results = pd.DataFrame(\n",
    "    quantile_results, columns=[\"quantile\", \"intercept\", \"estimate\", \"ll\", \"hl\", \"tstat\", \"pval\", \"obs\"]\n",
    ")\n",
    "\n",
    "\n",
    "scale = 0.9\n",
    "fig, ax = plt.subplots(figsize=(10 * scale, 8 * scale), facecolor=\"white\")\n",
    "\n",
    "y = \"estimate\"\n",
    "x = \"quantile\"\n",
    "plt.plot(\n",
    "    quantile_results[x],\n",
    "    quantile_results[y],\n",
    "    \"o--\",\n",
    "    **opts_connected_line\n",
    ")\n",
    "plt.fill_between(\n",
    "    quantile_results[x],\n",
    "    quantile_results[\"ll\"],\n",
    "    quantile_results[\"hl\"],\n",
    "    **opts_fillbetween\n",
    ")\n",
    "plt.axhline(y=0, **opts_0yline)\n",
    "\n",
    "# Custom Legend\n",
    "quantile_estimates = mlines.Line2D([], [], \n",
    "                                   marker='o', ls=\"--\",\n",
    "                                   **opts_connected_line,\n",
    "                                   label='Quantile estimates (connected)',\n",
    "                                  )\n",
    "ci = mpatches.Patch(**opts_fillbetween, label='95% confidence interval')\n",
    "yline0 = mlines.Line2D([], [], \n",
    "                       **opts_0yline,\n",
    "                       label=\"Estimate = 0\"\n",
    "                      )\n",
    "custom_legend = plt.legend(\n",
    "    handles=[quantile_estimates, ci, yline0], \n",
    "    handlelength=4, \n",
    "    handletextpad=.3,\n",
    "    labelspacing=.3,\n",
    "    frameon=False,\n",
    "    prop={'weight':'bold', \"size\":14},\n",
    "    loc=\"best\",\n",
    "#     title_fontproperties={'weight':'bold', 'size':14},\n",
    ")\n",
    "save_mpl_fig(os.path.join(FIGSAVEDIR, savepath))"
   ]
  },
  {
   "cell_type": "code",
   "execution_count": 7,
   "id": "c6ff800e",
   "metadata": {
    "ExecuteTime": {
     "end_time": "2023-01-07T09:29:17.064833Z",
     "start_time": "2023-01-07T09:29:16.605766Z"
    }
   },
   "outputs": [
    {
     "data": {
      "text/html": [
       "<table style=\"text-align:center\"><tr><td colspan=\"21\" style=\"border-bottom: 1px solid black\"></td></tr><tr><td style=\"text-align:left\"></td><td colspan=\"20\"><em>Dependent variable:duration_adult</em></td></tr><tr><td style=\"text-align:left\"></td><tr><td style=\"text-align:left\"></td><td>(1)</td><td>(2)</td><td>(3)</td><td>(4)</td><td>(5)</td><td>(6)</td><td>(7)</td><td>(8)</td><td>(9)</td><td>(10)</td><td>(11)</td><td>(12)</td><td>(13)</td><td>(14)</td><td>(15)</td><td>(16)</td><td>(17)</td><td>(18)</td><td>(19)</td><td>(20)</td></tr><tr><td colspan=\"21\" style=\"border-bottom: 1px solid black\"></td></tr><tr><td style=\"text-align:left\">Republican</td><td>0.17<sup></sup></td><td>-0.00<sup></sup></td><td>-0.00<sup></sup></td><td>-0.00<sup></sup></td><td>-0.00<sup></sup></td><td>-0.00<sup></sup></td><td>-0.00<sup></sup></td><td>-0.00<sup></sup></td><td>-0.00<sup></sup></td><td>-0.00<sup></sup></td><td>-0.00<sup></sup></td><td>-0.00<sup></sup></td><td>0.00<sup></sup></td><td>0.00<sup></sup></td><td>0.00<sup></sup></td><td>0.00<sup></sup></td><td>0.00<sup></sup></td><td>0.00<sup></sup></td><td>0.01<sup></sup></td><td>0.02<sup></sup></td></tr><tr><td style=\"text-align:left\"></td><td>(0.29)</td><td>(0.00)</td><td>(0.00)</td><td>(0.00)</td><td>(0.00)</td><td>(0.00)</td><td>(0.00)</td><td>(0.00)</td><td>(0.00)</td><td>(0.00)</td><td>(0.00)</td><td>(0.00)</td><td>(0.00)</td><td>(0.01)</td><td>(0.01)</td><td>(0.02)</td><td>(0.04)</td><td>(0.05)</td><td>(0.09)</td><td>(0.14)</td></tr><tr><td style=\"text-align:left\">Female</td><td>-1.56<sup>***</sup></td><td>-0.00<sup></sup></td><td>-0.00<sup></sup></td><td>-0.00<sup></sup></td><td>-0.00<sup></sup></td><td>-0.00<sup></sup></td><td>-0.00<sup></sup></td><td>-0.00<sup></sup></td><td>-0.00<sup></sup></td><td>-0.00<sup></sup></td><td>-0.00<sup></sup></td><td>-0.01<sup>***</sup></td><td>-0.06<sup>***</sup></td><td>-0.17<sup>***</sup></td><td>-0.36<sup>***</sup></td><td>-0.73<sup>***</sup></td><td>-1.53<sup>***</sup></td><td>-2.32<sup>***</sup></td><td>-4.26<sup>***</sup></td><td>-9.40<sup>***</sup></td></tr><tr><td style=\"text-align:left\"></td><td>(0.37)</td><td>(0.00)</td><td>(0.00)</td><td>(0.00)</td><td>(0.00)</td><td>(0.00)</td><td>(0.00)</td><td>(0.00)</td><td>(0.00)</td><td>(0.00)</td><td>(0.00)</td><td>(0.00)</td><td>(0.00)</td><td>(0.01)</td><td>(0.01)</td><td>(0.02)</td><td>(0.04)</td><td>(0.05)</td><td>(0.08)</td><td>(0.14)</td></tr><tr><td style=\"text-align:left\">Educ (HS)</td><td>0.85<sup>**</sup></td><td>0.00<sup></sup></td><td>0.00<sup></sup></td><td>0.00<sup></sup></td><td>0.00<sup></sup></td><td>0.00<sup></sup></td><td>0.00<sup></sup></td><td>0.00<sup></sup></td><td>0.00<sup></sup></td><td>0.00<sup></sup></td><td>0.00<sup></sup></td><td>0.00<sup></sup></td><td>0.00<sup></sup></td><td>0.00<sup></sup></td><td>0.00<sup></sup></td><td>0.00<sup></sup></td><td>0.00<sup></sup></td><td>0.01<sup></sup></td><td>0.02<sup></sup></td><td>0.12<sup></sup></td></tr><tr><td style=\"text-align:left\"></td><td>(0.33)</td><td>(0.00)</td><td>(0.00)</td><td>(0.00)</td><td>(0.00)</td><td>(0.00)</td><td>(0.00)</td><td>(0.00)</td><td>(0.00)</td><td>(0.00)</td><td>(0.00)</td><td>(0.00)</td><td>(0.01)</td><td>(0.01)</td><td>(0.03)</td><td>(0.05)</td><td>(0.09)</td><td>(0.13)</td><td>(0.22)</td><td>(0.40)</td></tr><tr><td style=\"text-align:left\">Educ (some college)</td><td>1.58<sup>**</sup></td><td>0.00<sup></sup></td><td>0.00<sup></sup></td><td>0.00<sup></sup></td><td>0.00<sup></sup></td><td>0.00<sup></sup></td><td>0.00<sup></sup></td><td>0.00<sup></sup></td><td>0.00<sup></sup></td><td>0.00<sup></sup></td><td>0.00<sup></sup></td><td>0.00<sup></sup></td><td>0.00<sup></sup></td><td>0.00<sup></sup></td><td>0.00<sup></sup></td><td>0.02<sup></sup></td><td>0.05<sup></sup></td><td>0.29<sup>**</sup></td><td>0.47<sup>**</sup></td><td>4.61<sup>***</sup></td></tr><tr><td style=\"text-align:left\"></td><td>(0.64)</td><td>(0.00)</td><td>(0.00)</td><td>(0.00)</td><td>(0.00)</td><td>(0.00)</td><td>(0.00)</td><td>(0.00)</td><td>(0.00)</td><td>(0.00)</td><td>(0.00)</td><td>(0.00)</td><td>(0.01)</td><td>(0.01)</td><td>(0.03)</td><td>(0.05)</td><td>(0.10)</td><td>(0.14)</td><td>(0.22)</td><td>(0.41)</td></tr><tr><td style=\"text-align:left\">Educ (college grad)</td><td>0.42<sup>**</sup></td><td>-0.00<sup></sup></td><td>-0.00<sup></sup></td><td>-0.00<sup></sup></td><td>-0.00<sup></sup></td><td>-0.00<sup></sup></td><td>-0.00<sup></sup></td><td>-0.00<sup></sup></td><td>-0.00<sup></sup></td><td>0.00<sup></sup></td><td>0.00<sup></sup></td><td>0.00<sup></sup></td><td>0.00<sup></sup></td><td>0.00<sup></sup></td><td>0.00<sup></sup></td><td>0.00<sup></sup></td><td>0.00<sup></sup></td><td>0.00<sup></sup></td><td>0.00<sup></sup></td><td>0.03<sup></sup></td></tr><tr><td style=\"text-align:left\"></td><td>(0.20)</td><td>(0.00)</td><td>(0.00)</td><td>(0.00)</td><td>(0.00)</td><td>(0.00)</td><td>(0.00)</td><td>(0.00)</td><td>(0.00)</td><td>(0.00)</td><td>(0.00)</td><td>(0.00)</td><td>(0.01)</td><td>(0.01)</td><td>(0.03)</td><td>(0.05)</td><td>(0.09)</td><td>(0.13)</td><td>(0.21)</td><td>(0.39)</td></tr><tr><td style=\"text-align:left\">Age</td><td>0.08<sup></sup></td><td>-0.00<sup></sup></td><td>-0.00<sup></sup></td><td>-0.00<sup></sup></td><td>-0.00<sup></sup></td><td>-0.00<sup></sup></td><td>-0.00<sup></sup></td><td>-0.00<sup></sup></td><td>-0.00<sup></sup></td><td>-0.00<sup></sup></td><td>-0.00<sup></sup></td><td>-0.00<sup></sup></td><td>-0.00<sup></sup></td><td>-0.00<sup></sup></td><td>-0.00<sup></sup></td><td>-0.00<sup></sup></td><td>-0.01<sup></sup></td><td>-0.02<sup>**</sup></td><td>-0.03<sup>**</sup></td><td>-0.01<sup></sup></td></tr><tr><td style=\"text-align:left\"></td><td>(0.05)</td><td>(0.00)</td><td>(0.00)</td><td>(0.00)</td><td>(0.00)</td><td>(0.00)</td><td>(0.00)</td><td>(0.00)</td><td>(0.00)</td><td>(0.00)</td><td>(0.00)</td><td>(0.00)</td><td>(0.00)</td><td>(0.00)</td><td>(0.00)</td><td>(0.00)</td><td>(0.01)</td><td>(0.01)</td><td>(0.01)</td><td>(0.02)</td></tr><tr><td style=\"text-align:left\">Age$^2$</td><td>-0.00<sup>*</sup></td><td>0.00<sup></sup></td><td>-0.00<sup></sup></td><td>-0.00<sup></sup></td><td>-0.00<sup></sup></td><td>-0.00<sup></sup></td><td>-0.00<sup></sup></td><td>-0.00<sup></sup></td><td>-0.00<sup></sup></td><td>-0.00<sup></sup></td><td>0.00<sup></sup></td><td>0.00<sup></sup></td><td>0.00<sup></sup></td><td>0.00<sup></sup></td><td>0.00<sup></sup></td><td>0.00<sup></sup></td><td>0.00<sup></sup></td><td>0.00<sup>*</sup></td><td>0.00<sup>*</sup></td><td>0.00<sup></sup></td></tr><tr><td style=\"text-align:left\"></td><td>(0.00)</td><td>(0.00)</td><td>(0.00)</td><td>(0.00)</td><td>(0.00)</td><td>(0.00)</td><td>(0.00)</td><td>(0.00)</td><td>(0.00)</td><td>(0.00)</td><td>(0.00)</td><td>(0.00)</td><td>(0.00)</td><td>(0.00)</td><td>(0.00)</td><td>(0.00)</td><td>(0.00)</td><td>(0.00)</td><td>(0.00)</td><td>(0.00)</td></tr><tr><td style=\"text-align:left\">Race (Black)</td><td>0.63<sup></sup></td><td>0.00<sup></sup></td><td>0.00<sup></sup></td><td>0.00<sup></sup></td><td>0.00<sup></sup></td><td>0.00<sup></sup></td><td>0.00<sup></sup></td><td>0.00<sup></sup></td><td>0.00<sup></sup></td><td>0.00<sup></sup></td><td>0.00<sup></sup></td><td>0.00<sup></sup></td><td>0.00<sup></sup></td><td>0.00<sup></sup></td><td>0.00<sup></sup></td><td>0.00<sup></sup></td><td>0.00<sup></sup></td><td>0.00<sup></sup></td><td>0.04<sup></sup></td><td>4.31<sup>***</sup></td></tr><tr><td style=\"text-align:left\"></td><td>(0.76)</td><td>(0.00)</td><td>(0.00)</td><td>(0.00)</td><td>(0.00)</td><td>(0.00)</td><td>(0.00)</td><td>(0.00)</td><td>(0.00)</td><td>(0.00)</td><td>(0.00)</td><td>(0.00)</td><td>(0.00)</td><td>(0.01)</td><td>(0.02)</td><td>(0.03)</td><td>(0.06)</td><td>(0.09)</td><td>(0.14)</td><td>(0.24)</td></tr><tr><td style=\"text-align:left\">Race (Hispanic)</td><td>0.26<sup></sup></td><td>0.00<sup></sup></td><td>0.00<sup></sup></td><td>0.00<sup></sup></td><td>0.00<sup></sup></td><td>0.00<sup></sup></td><td>0.00<sup></sup></td><td>0.00<sup></sup></td><td>0.00<sup></sup></td><td>0.00<sup></sup></td><td>0.00<sup></sup></td><td>0.00<sup></sup></td><td>-0.00<sup></sup></td><td>-0.00<sup></sup></td><td>-0.00<sup></sup></td><td>0.00<sup></sup></td><td>0.05<sup></sup></td><td>0.04<sup></sup></td><td>0.01<sup></sup></td><td>0.58<sup>***</sup></td></tr><tr><td style=\"text-align:left\"></td><td>(0.74)</td><td>(0.00)</td><td>(0.00)</td><td>(0.00)</td><td>(0.00)</td><td>(0.00)</td><td>(0.00)</td><td>(0.00)</td><td>(0.00)</td><td>(0.00)</td><td>(0.00)</td><td>(0.00)</td><td>(0.00)</td><td>(0.01)</td><td>(0.02)</td><td>(0.03)</td><td>(0.06)</td><td>(0.07)</td><td>(0.12)</td><td>(0.21)</td></tr><tr><td style=\"text-align:left\">Race (Asian)</td><td>-0.40<sup></sup></td><td>-0.00<sup></sup></td><td>-0.00<sup></sup></td><td>-0.00<sup></sup></td><td>-0.00<sup></sup></td><td>-0.00<sup></sup></td><td>-0.00<sup></sup></td><td>-0.00<sup></sup></td><td>-0.00<sup></sup></td><td>-0.00<sup></sup></td><td>-0.00<sup></sup></td><td>-0.00<sup></sup></td><td>-0.00<sup></sup></td><td>-0.00<sup></sup></td><td>-0.00<sup></sup></td><td>0.00<sup></sup></td><td>-0.00<sup></sup></td><td>-0.02<sup></sup></td><td>-0.03<sup></sup></td><td>-0.09<sup></sup></td></tr><tr><td style=\"text-align:left\"></td><td>(0.51)</td><td>(0.00)</td><td>(0.00)</td><td>(0.00)</td><td>(0.00)</td><td>(0.00)</td><td>(0.00)</td><td>(0.00)</td><td>(0.00)</td><td>(0.00)</td><td>(0.00)</td><td>(0.00)</td><td>(0.01)</td><td>(0.01)</td><td>(0.03)</td><td>(0.05)</td><td>(0.10)</td><td>(0.13)</td><td>(0.25)</td><td>(0.48)</td></tr><tr><td style=\"text-align:left\">Race (Other)</td><td>0.28<sup></sup></td><td>0.00<sup></sup></td><td>0.00<sup></sup></td><td>0.00<sup></sup></td><td>0.00<sup></sup></td><td>0.00<sup></sup></td><td>0.00<sup></sup></td><td>0.00<sup></sup></td><td>0.00<sup></sup></td><td>0.00<sup></sup></td><td>0.00<sup></sup></td><td>0.00<sup></sup></td><td>0.00<sup></sup></td><td>0.03<sup>**</sup></td><td>0.18<sup>***</sup></td><td>0.63<sup>***</sup></td><td>0.26<sup>***</sup></td><td>0.03<sup></sup></td><td>0.84<sup>***</sup></td><td>1.39<sup>***</sup></td></tr><tr><td style=\"text-align:left\"></td><td>(0.48)</td><td>(0.00)</td><td>(0.00)</td><td>(0.00)</td><td>(0.00)</td><td>(0.00)</td><td>(0.00)</td><td>(0.00)</td><td>(0.00)</td><td>(0.00)</td><td>(0.00)</td><td>(0.00)</td><td>(0.01)</td><td>(0.01)</td><td>(0.03)</td><td>(0.05)</td><td>(0.10)</td><td>(0.13)</td><td>(0.22)</td><td>(0.38)</td></tr><tr><td style=\"text-align:left\">Region (MW)</td><td>1.26<sup>**</sup></td><td>0.00<sup></sup></td><td>0.00<sup></sup></td><td>0.00<sup></sup></td><td>0.00<sup></sup></td><td>0.00<sup></sup></td><td>0.00<sup></sup></td><td>0.00<sup></sup></td><td>0.00<sup></sup></td><td>0.00<sup></sup></td><td>0.00<sup></sup></td><td>0.01<sup>*</sup></td><td>0.06<sup>***</sup></td><td>0.17<sup>***</sup></td><td>0.18<sup>***</sup></td><td>0.63<sup>***</sup></td><td>0.32<sup></sup></td><td>0.00<sup></sup></td><td>0.01<sup></sup></td><td>0.45<sup></sup></td></tr><tr><td style=\"text-align:left\"></td><td>(0.60)</td><td>(0.01)</td><td>(0.01)</td><td>(0.01)</td><td>(0.01)</td><td>(0.01)</td><td>(0.01)</td><td>(0.01)</td><td>(0.01)</td><td>(0.01)</td><td>(0.01)</td><td>(0.01)</td><td>(0.01)</td><td>(0.03)</td><td>(0.07)</td><td>(0.13)</td><td>(0.21)</td><td>(0.31)</td><td>(0.60)</td><td>(1.43)</td></tr><tr><td style=\"text-align:left\">Region (South)</td><td>1.00<sup>*</sup></td><td>0.00<sup></sup></td><td>0.00<sup></sup></td><td>0.00<sup></sup></td><td>0.00<sup></sup></td><td>0.00<sup></sup></td><td>0.00<sup></sup></td><td>0.00<sup></sup></td><td>0.00<sup></sup></td><td>0.00<sup></sup></td><td>0.00<sup></sup></td><td>0.01<sup>*</sup></td><td>0.06<sup>***</sup></td><td>0.17<sup>***</sup></td><td>0.18<sup>***</sup></td><td>0.63<sup>***</sup></td><td>0.33<sup></sup></td><td>0.00<sup></sup></td><td>0.01<sup></sup></td><td>0.10<sup></sup></td></tr><tr><td style=\"text-align:left\"></td><td>(0.58)</td><td>(0.01)</td><td>(0.01)</td><td>(0.01)</td><td>(0.01)</td><td>(0.01)</td><td>(0.01)</td><td>(0.01)</td><td>(0.01)</td><td>(0.01)</td><td>(0.01)</td><td>(0.01)</td><td>(0.01)</td><td>(0.03)</td><td>(0.07)</td><td>(0.13)</td><td>(0.21)</td><td>(0.31)</td><td>(0.60)</td><td>(1.43)</td></tr><tr><td style=\"text-align:left\">Region (West)</td><td>1.43<sup>**</sup></td><td>0.00<sup></sup></td><td>0.00<sup></sup></td><td>0.00<sup></sup></td><td>0.00<sup></sup></td><td>0.00<sup></sup></td><td>0.00<sup></sup></td><td>0.00<sup></sup></td><td>0.00<sup></sup></td><td>0.00<sup></sup></td><td>0.00<sup></sup></td><td>0.01<sup>*</sup></td><td>0.06<sup>***</sup></td><td>0.17<sup>***</sup></td><td>0.18<sup>***</sup></td><td>0.63<sup>***</sup></td><td>0.36<sup>*</sup></td><td>0.01<sup></sup></td><td>0.42<sup></sup></td><td>0.13<sup></sup></td></tr><tr><td style=\"text-align:left\"></td><td>(0.58)</td><td>(0.01)</td><td>(0.01)</td><td>(0.01)</td><td>(0.01)</td><td>(0.01)</td><td>(0.01)</td><td>(0.01)</td><td>(0.01)</td><td>(0.01)</td><td>(0.01)</td><td>(0.01)</td><td>(0.01)</td><td>(0.03)</td><td>(0.07)</td><td>(0.13)</td><td>(0.21)</td><td>(0.31)</td><td>(0.60)</td><td>(1.43)</td></tr><tr><td style=\"text-align:left\">Constant</td><td>-1.67<sup></sup></td><td>0.00<sup></sup></td><td>0.00<sup></sup></td><td>0.00<sup></sup></td><td>0.00<sup></sup></td><td>0.00<sup></sup></td><td>0.00<sup></sup></td><td>0.00<sup></sup></td><td>0.00<sup></sup></td><td>0.00<sup></sup></td><td>0.00<sup></sup></td><td>0.00<sup></sup></td><td>0.00<sup></sup></td><td>0.00<sup></sup></td><td>0.18<sup>**</sup></td><td>0.10<sup></sup></td><td>1.43<sup>***</sup></td><td>2.99<sup>***</sup></td><td>5.32<sup>***</sup></td><td>9.64<sup>***</sup></td></tr><tr><td style=\"text-align:left\"></td><td>(1.25)</td><td>(0.01)</td><td>(0.01)</td><td>(0.01)</td><td>(0.01)</td><td>(0.01)</td><td>(0.01)</td><td>(0.01)</td><td>(0.01)</td><td>(0.01)</td><td>(0.01)</td><td>(0.01)</td><td>(0.02)</td><td>(0.04)</td><td>(0.08)</td><td>(0.15)</td><td>(0.25)</td><td>(0.36)</td><td>(0.66)</td><td>(1.51)</td></tr><td colspan=\"21\" style=\"border-bottom: 1px solid black\"></td></tr><tr><td style=\"text-align: left\">Observations</td><td>834</td><td>834</td><td>834</td><td>834</td><td>834</td><td>834</td><td>834</td><td>834</td><td>834</td><td>834</td><td>834</td><td>834</td><td>834</td><td>834</td><td>834</td><td>834</td><td>834</td><td>834</td><td>834</td><td>834</td></tr><tr><td style=\"text-align: left\">R<sup>2</sup></td><td>0.04</td><td>nan</td><td>nan</td><td>nan</td><td>nan</td><td>nan</td><td>nan</td><td>nan</td><td>nan</td><td>nan</td><td>nan</td><td>nan</td><td>nan</td><td>nan</td><td>nan</td><td>nan</td><td>nan</td><td>nan</td><td>nan</td><td>nan</td></tr><tr><td style=\"text-align: left\">Adjusted R<sup>2</sup></td><td>0.02</td><td>nan</td><td>nan</td><td>nan</td><td>nan</td><td>nan</td><td>nan</td><td>nan</td><td>nan</td><td>nan</td><td>nan</td><td>nan</td><td>nan</td><td>nan</td><td>nan</td><td>nan</td><td>nan</td><td>nan</td><td>nan</td><td>nan</td></tr><tr><td style=\"text-align: left\">Residual Std. Error</td><td>5.13 (df=818)</td><td>1.00 (df=818)</td><td>1.00 (df=818)</td><td>1.00 (df=818)</td><td>1.00 (df=818)</td><td>1.00 (df=818)</td><td>1.00 (df=818)</td><td>1.00 (df=818)</td><td>1.00 (df=818)</td><td>1.00 (df=818)</td><td>1.00 (df=818)</td><td>1.00 (df=818)</td><td>1.00 (df=818)</td><td>1.00 (df=818)</td><td>1.00 (df=818)</td><td>1.00 (df=818)</td><td>1.00 (df=818)</td><td>1.00 (df=818)</td><td>1.00 (df=818)</td><td>1.00 (df=818)</td></tr><tr><td style=\"text-align: left\">F Statistic</td><td>3.01<sup>***</sup> (df=15; 818)</td><td>nan<sup>***</sup> (df=15; 818)</td><td>nan<sup>***</sup> (df=15; 818)</td><td>nan<sup>***</sup> (df=15; 818)</td><td>nan<sup>***</sup> (df=15; 818)</td><td>nan<sup>***</sup> (df=15; 818)</td><td>nan<sup>***</sup> (df=15; 818)</td><td>nan<sup>***</sup> (df=15; 818)</td><td>nan<sup>***</sup> (df=15; 818)</td><td>nan<sup>***</sup> (df=15; 818)</td><td>nan<sup>***</sup> (df=15; 818)</td><td>nan<sup>***</sup> (df=15; 818)</td><td>nan<sup>***</sup> (df=15; 818)</td><td>nan<sup>***</sup> (df=15; 818)</td><td>nan<sup>***</sup> (df=15; 818)</td><td>nan<sup>***</sup> (df=15; 818)</td><td>nan<sup>***</sup> (df=15; 818)</td><td>nan<sup>***</sup> (df=15; 818)</td><td>nan<sup>***</sup> (df=15; 818)</td><td>nan<sup>***</sup> (df=15; 818)</td></tr><tr><td colspan=\"21\" style=\"border-bottom: 1px solid black\"></td></tr><tr><td style=\"text-align: left\">Note:</td>\n",
       " <td colspan=\"20\" style=\"text-align: right\">\n",
       "  <sup>*</sup>p&lt;0.1;\n",
       "  <sup>**</sup>p&lt;0.05;\n",
       "  <sup>***</sup>p&lt;0.01\n",
       " </td></tr></table>"
      ],
      "text/plain": [
       "<stargazer.stargazer.Stargazer at 0x14953008eb0>"
      ]
     },
     "execution_count": 7,
     "metadata": {},
     "output_type": "execute_result"
    }
   ],
   "source": [
    "# Get tables\n",
    "regtab_frag, regtab = esttab_ols_quantile(y=outcome, x=\"rep\", z=z, quantiles=quantiles, df=df_ind)\n",
    "with open(f\"../tabs/regtab_{savepath}.tex\", \"w\") as tf:\n",
    "    tf.write(regtab_frag)\n",
    "\n",
    "regtab"
   ]
  },
  {
   "cell_type": "markdown",
   "id": "3e50007e",
   "metadata": {},
   "source": [
    "### Proportion duration on adult"
   ]
  },
  {
   "cell_type": "code",
   "execution_count": 8,
   "id": "609e7139",
   "metadata": {
    "ExecuteTime": {
     "end_time": "2023-01-07T09:29:17.080869Z",
     "start_time": "2023-01-07T09:29:17.065873Z"
    }
   },
   "outputs": [],
   "source": [
    "outcome = \"prop_adult_duration\"\n",
    "savepath = \"quantile_reg_covariates_proportion_duration_adult\""
   ]
  },
  {
   "cell_type": "code",
   "execution_count": 9,
   "id": "84f4446d",
   "metadata": {
    "ExecuteTime": {
     "end_time": "2023-01-07T09:29:18.420016Z",
     "start_time": "2023-01-07T09:29:17.081870Z"
    },
    "code_folding": [
     0
    ]
   },
   "outputs": [
    {
     "data": {
      "image/png": "[encoded data removed]",
      "text/plain": [
       "<Figure size 648x518.4 with 1 Axes>"
      ]
     },
     "metadata": {},
     "output_type": "display_data"
    }
   ],
   "source": [
    "# (fold cell) plot\n",
    "quantile_results = [\n",
    "    fit_quantile_reg(y=outcome, x=\"rep\", z=z, quantile=quantile, df=df_ind)\n",
    "    for quantile in quantiles\n",
    "]\n",
    "\n",
    "quantile_results = pd.DataFrame(\n",
    "    quantile_results, columns=[\"quantile\", \"intercept\", \"estimate\", \"ll\", \"hl\", \"tstat\", \"pval\", \"obs\"]\n",
    ")\n",
    "\n",
    "\n",
    "scale = 0.9\n",
    "fig, ax = plt.subplots(figsize=(10 * scale, 8 * scale), facecolor=\"white\")\n",
    "\n",
    "y = \"estimate\"\n",
    "x = \"quantile\"\n",
    "plt.plot(\n",
    "    quantile_results[x],\n",
    "    quantile_results[y],\n",
    "    \"o--\",\n",
    "    **opts_connected_line\n",
    ")\n",
    "plt.fill_between(\n",
    "    quantile_results[x],\n",
    "    quantile_results[\"ll\"],\n",
    "    quantile_results[\"hl\"],\n",
    "    **opts_fillbetween\n",
    ")\n",
    "plt.axhline(y=0, **opts_0yline)\n",
    "\n",
    "# Custom Legend\n",
    "quantile_estimates = mlines.Line2D([], [], \n",
    "                                   marker='o', ls=\"--\",\n",
    "                                   **opts_connected_line,\n",
    "                                   label='Quantile estimates (connected)',\n",
    "                                  )\n",
    "ci = mpatches.Patch(**opts_fillbetween, label='95% confidence interval')\n",
    "yline0 = mlines.Line2D([], [], \n",
    "                       **opts_0yline,\n",
    "                       label=\"Estimate = 0\"\n",
    "                      )\n",
    "custom_legend = plt.legend(\n",
    "    handles=[quantile_estimates, ci, yline0], \n",
    "    handlelength=4, \n",
    "    handletextpad=.3,\n",
    "    labelspacing=.3,\n",
    "    frameon=False,\n",
    "    prop={'weight':'bold', \"size\":14},\n",
    "    loc=\"best\",\n",
    "#     title_fontproperties={'weight':'bold', 'size':14},\n",
    ")\n",
    "save_mpl_fig(os.path.join(FIGSAVEDIR, savepath))"
   ]
  },
  {
   "cell_type": "code",
   "execution_count": 10,
   "id": "027b78c5",
   "metadata": {
    "ExecuteTime": {
     "end_time": "2023-01-07T09:29:18.943495Z",
     "start_time": "2023-01-07T09:29:18.423016Z"
    }
   },
   "outputs": [
    {
     "data": {
      "text/html": [
       "<table style=\"text-align:center\"><tr><td colspan=\"21\" style=\"border-bottom: 1px solid black\"></td></tr><tr><td style=\"text-align:left\"></td><td colspan=\"20\"><em>Dependent variable:prop_adult_duration</em></td></tr><tr><td style=\"text-align:left\"></td><tr><td style=\"text-align:left\"></td><td>(1)</td><td>(2)</td><td>(3)</td><td>(4)</td><td>(5)</td><td>(6)</td><td>(7)</td><td>(8)</td><td>(9)</td><td>(10)</td><td>(11)</td><td>(12)</td><td>(13)</td><td>(14)</td><td>(15)</td><td>(16)</td><td>(17)</td><td>(18)</td><td>(19)</td><td>(20)</td></tr><tr><td colspan=\"21\" style=\"border-bottom: 1px solid black\"></td></tr><tr><td style=\"text-align:left\">Republican</td><td>0.45<sup></sup></td><td>-0.00<sup></sup></td><td>-0.00<sup></sup></td><td>-0.00<sup></sup></td><td>-0.00<sup></sup></td><td>-0.00<sup></sup></td><td>-0.00<sup></sup></td><td>-0.00<sup></sup></td><td>-0.00<sup></sup></td><td>-0.00<sup></sup></td><td>-0.00<sup></sup></td><td>-0.00<sup></sup></td><td>-0.00<sup></sup></td><td>0.00<sup></sup></td><td>0.00<sup></sup></td><td>0.00<sup></sup></td><td>0.01<sup></sup></td><td>0.01<sup></sup></td><td>0.02<sup></sup></td><td>0.54<sup></sup></td></tr><tr><td style=\"text-align:left\"></td><td>(0.76)</td><td>(0.00)</td><td>(0.00)</td><td>(0.00)</td><td>(0.00)</td><td>(0.00)</td><td>(0.00)</td><td>(0.00)</td><td>(0.00)</td><td>(0.00)</td><td>(0.00)</td><td>(0.00)</td><td>(0.00)</td><td>(0.01)</td><td>(0.03)</td><td>(0.07)</td><td>(0.13)</td><td>(0.20)</td><td>(0.41)</td><td>(0.49)</td></tr><tr><td style=\"text-align:left\">Female</td><td>-4.39<sup>***</sup></td><td>-0.00<sup></sup></td><td>-0.00<sup></sup></td><td>-0.00<sup></sup></td><td>-0.00<sup></sup></td><td>-0.00<sup></sup></td><td>-0.00<sup></sup></td><td>-0.00<sup></sup></td><td>-0.00<sup></sup></td><td>-0.00<sup></sup></td><td>-0.00<sup></sup></td><td>-0.02<sup>***</sup></td><td>-0.10<sup>***</sup></td><td>-0.41<sup>***</sup></td><td>-0.98<sup>***</sup></td><td>-2.26<sup>***</sup></td><td>-4.66<sup>***</sup></td><td>-7.30<sup>***</sup></td><td>-15.17<sup>***</sup></td><td>-27.43<sup>***</sup></td></tr><tr><td style=\"text-align:left\"></td><td>(0.78)</td><td>(0.00)</td><td>(0.00)</td><td>(0.00)</td><td>(0.00)</td><td>(0.00)</td><td>(0.00)</td><td>(0.00)</td><td>(0.00)</td><td>(0.00)</td><td>(0.00)</td><td>(0.00)</td><td>(0.00)</td><td>(0.01)</td><td>(0.03)</td><td>(0.06)</td><td>(0.12)</td><td>(0.18)</td><td>(0.38)</td><td>(0.46)</td></tr><tr><td style=\"text-align:left\">Educ (HS)</td><td>3.50<sup>***</sup></td><td>0.00<sup></sup></td><td>0.00<sup></sup></td><td>0.00<sup></sup></td><td>0.00<sup></sup></td><td>0.00<sup></sup></td><td>0.00<sup></sup></td><td>0.00<sup></sup></td><td>0.00<sup></sup></td><td>0.00<sup></sup></td><td>0.00<sup></sup></td><td>0.00<sup></sup></td><td>0.00<sup></sup></td><td>0.00<sup></sup></td><td>0.00<sup></sup></td><td>0.00<sup></sup></td><td>0.07<sup></sup></td><td>0.05<sup></sup></td><td>0.06<sup></sup></td><td>2.37<sup>**</sup></td></tr><tr><td style=\"text-align:left\"></td><td>(0.94)</td><td>(0.01)</td><td>(0.00)</td><td>(0.00)</td><td>(0.00)</td><td>(0.00)</td><td>(0.00)</td><td>(0.00)</td><td>(0.00)</td><td>(0.00)</td><td>(0.00)</td><td>(0.00)</td><td>(0.01)</td><td>(0.03)</td><td>(0.07)</td><td>(0.16)</td><td>(0.32)</td><td>(0.46)</td><td>(1.00)</td><td>(1.03)</td></tr><tr><td style=\"text-align:left\">Educ (some college)</td><td>3.97<sup>***</sup></td><td>0.00<sup></sup></td><td>0.00<sup></sup></td><td>0.00<sup></sup></td><td>0.00<sup></sup></td><td>0.00<sup></sup></td><td>0.00<sup></sup></td><td>0.00<sup></sup></td><td>0.00<sup></sup></td><td>0.00<sup></sup></td><td>0.00<sup></sup></td><td>0.00<sup></sup></td><td>0.00<sup></sup></td><td>0.00<sup></sup></td><td>0.00<sup></sup></td><td>0.05<sup></sup></td><td>0.63<sup>*</sup></td><td>1.36<sup>***</sup></td><td>4.51<sup>***</sup></td><td>8.10<sup>***</sup></td></tr><tr><td style=\"text-align:left\"></td><td>(1.07)</td><td>(0.01)</td><td>(0.00)</td><td>(0.00)</td><td>(0.00)</td><td>(0.00)</td><td>(0.00)</td><td>(0.00)</td><td>(0.00)</td><td>(0.00)</td><td>(0.00)</td><td>(0.00)</td><td>(0.01)</td><td>(0.03)</td><td>(0.07)</td><td>(0.17)</td><td>(0.32)</td><td>(0.47)</td><td>(1.02)</td><td>(1.07)</td></tr><tr><td style=\"text-align:left\">Educ (college grad)</td><td>1.23<sup>**</sup></td><td>-0.00<sup></sup></td><td>-0.00<sup></sup></td><td>-0.00<sup></sup></td><td>-0.00<sup></sup></td><td>-0.00<sup></sup></td><td>-0.00<sup></sup></td><td>0.00<sup></sup></td><td>-0.00<sup></sup></td><td>0.00<sup></sup></td><td>0.00<sup></sup></td><td>0.00<sup></sup></td><td>0.00<sup></sup></td><td>0.00<sup></sup></td><td>0.00<sup></sup></td><td>0.00<sup></sup></td><td>0.01<sup></sup></td><td>0.01<sup></sup></td><td>-0.00<sup></sup></td><td>-0.34<sup></sup></td></tr><tr><td style=\"text-align:left\"></td><td>(0.56)</td><td>(0.01)</td><td>(0.00)</td><td>(0.00)</td><td>(0.00)</td><td>(0.00)</td><td>(0.00)</td><td>(0.00)</td><td>(0.00)</td><td>(0.00)</td><td>(0.00)</td><td>(0.00)</td><td>(0.01)</td><td>(0.03)</td><td>(0.07)</td><td>(0.16)</td><td>(0.31)</td><td>(0.44)</td><td>(0.98)</td><td>(1.05)</td></tr><tr><td style=\"text-align:left\">Age</td><td>0.16<sup></sup></td><td>-0.00<sup></sup></td><td>-0.00<sup></sup></td><td>-0.00<sup></sup></td><td>-0.00<sup></sup></td><td>-0.00<sup></sup></td><td>-0.00<sup></sup></td><td>-0.00<sup></sup></td><td>-0.00<sup></sup></td><td>-0.00<sup></sup></td><td>-0.00<sup></sup></td><td>-0.00<sup></sup></td><td>-0.00<sup></sup></td><td>-0.00<sup></sup></td><td>-0.00<sup></sup></td><td>-0.00<sup></sup></td><td>-0.02<sup></sup></td><td>-0.04<sup></sup></td><td>-0.03<sup></sup></td><td>0.07<sup></sup></td></tr><tr><td style=\"text-align:left\"></td><td>(0.11)</td><td>(0.00)</td><td>(0.00)</td><td>(0.00)</td><td>(0.00)</td><td>(0.00)</td><td>(0.00)</td><td>(0.00)</td><td>(0.00)</td><td>(0.00)</td><td>(0.00)</td><td>(0.00)</td><td>(0.00)</td><td>(0.00)</td><td>(0.00)</td><td>(0.01)</td><td>(0.02)</td><td>(0.03)</td><td>(0.06)</td><td>(0.08)</td></tr><tr><td style=\"text-align:left\">Age$^2$</td><td>-0.00<sup>*</sup></td><td>0.00<sup></sup></td><td>-0.00<sup></sup></td><td>-0.00<sup></sup></td><td>-0.00<sup></sup></td><td>-0.00<sup></sup></td><td>-0.00<sup></sup></td><td>-0.00<sup></sup></td><td>-0.00<sup></sup></td><td>-0.00<sup></sup></td><td>0.00<sup></sup></td><td>0.00<sup></sup></td><td>0.00<sup></sup></td><td>0.00<sup></sup></td><td>0.00<sup></sup></td><td>0.00<sup></sup></td><td>0.00<sup></sup></td><td>0.00<sup></sup></td><td>0.00<sup></sup></td><td>-0.00<sup></sup></td></tr><tr><td style=\"text-align:left\"></td><td>(0.00)</td><td>(0.00)</td><td>(0.00)</td><td>(0.00)</td><td>(0.00)</td><td>(0.00)</td><td>(0.00)</td><td>(0.00)</td><td>(0.00)</td><td>(0.00)</td><td>(0.00)</td><td>(0.00)</td><td>(0.00)</td><td>(0.00)</td><td>(0.00)</td><td>(0.00)</td><td>(0.00)</td><td>(0.00)</td><td>(0.00)</td><td>(0.00)</td></tr><tr><td style=\"text-align:left\">Race (Black)</td><td>2.19<sup></sup></td><td>0.00<sup></sup></td><td>0.00<sup></sup></td><td>0.00<sup></sup></td><td>0.00<sup></sup></td><td>0.00<sup></sup></td><td>0.00<sup></sup></td><td>0.00<sup></sup></td><td>0.00<sup></sup></td><td>0.00<sup></sup></td><td>0.00<sup></sup></td><td>0.00<sup></sup></td><td>0.00<sup></sup></td><td>0.00<sup></sup></td><td>0.00<sup></sup></td><td>0.01<sup></sup></td><td>0.01<sup></sup></td><td>1.05<sup>***</sup></td><td>3.38<sup>***</sup></td><td>14.43<sup>***</sup></td></tr><tr><td style=\"text-align:left\"></td><td>(1.64)</td><td>(0.00)</td><td>(0.00)</td><td>(0.00)</td><td>(0.00)</td><td>(0.00)</td><td>(0.00)</td><td>(0.00)</td><td>(0.00)</td><td>(0.00)</td><td>(0.00)</td><td>(0.00)</td><td>(0.01)</td><td>(0.02)</td><td>(0.05)</td><td>(0.11)</td><td>(0.20)</td><td>(0.31)</td><td>(0.65)</td><td>(0.74)</td></tr><tr><td style=\"text-align:left\">Race (Hispanic)</td><td>1.29<sup></sup></td><td>0.00<sup></sup></td><td>0.00<sup></sup></td><td>0.00<sup></sup></td><td>0.00<sup></sup></td><td>0.00<sup></sup></td><td>0.00<sup></sup></td><td>0.00<sup></sup></td><td>0.00<sup></sup></td><td>0.00<sup></sup></td><td>0.00<sup></sup></td><td>0.00<sup></sup></td><td>-0.00<sup></sup></td><td>-0.00<sup></sup></td><td>-0.00<sup></sup></td><td>0.00<sup></sup></td><td>0.58<sup>***</sup></td><td>1.36<sup>***</sup></td><td>6.51<sup>***</sup></td><td>12.24<sup>***</sup></td></tr><tr><td style=\"text-align:left\"></td><td>(1.33)</td><td>(0.00)</td><td>(0.00)</td><td>(0.00)</td><td>(0.00)</td><td>(0.00)</td><td>(0.00)</td><td>(0.00)</td><td>(0.00)</td><td>(0.00)</td><td>(0.00)</td><td>(0.00)</td><td>(0.01)</td><td>(0.02)</td><td>(0.04)</td><td>(0.10)</td><td>(0.18)</td><td>(0.28)</td><td>(0.55)</td><td>(0.68)</td></tr><tr><td style=\"text-align:left\">Race (Asian)</td><td>-1.99<sup>**</sup></td><td>-0.00<sup></sup></td><td>-0.00<sup></sup></td><td>-0.00<sup></sup></td><td>-0.00<sup></sup></td><td>-0.00<sup></sup></td><td>-0.00<sup></sup></td><td>-0.00<sup></sup></td><td>-0.00<sup></sup></td><td>-0.00<sup></sup></td><td>-0.00<sup></sup></td><td>-0.00<sup></sup></td><td>-0.00<sup></sup></td><td>-0.00<sup></sup></td><td>-0.00<sup></sup></td><td>-0.01<sup></sup></td><td>-0.01<sup></sup></td><td>-0.03<sup></sup></td><td>-0.03<sup></sup></td><td>-0.95<sup></sup></td></tr><tr><td style=\"text-align:left\"></td><td>(0.92)</td><td>(0.00)</td><td>(0.00)</td><td>(0.00)</td><td>(0.00)</td><td>(0.00)</td><td>(0.00)</td><td>(0.00)</td><td>(0.00)</td><td>(0.00)</td><td>(0.00)</td><td>(0.00)</td><td>(0.01)</td><td>(0.04)</td><td>(0.08)</td><td>(0.17)</td><td>(0.32)</td><td>(0.53)</td><td>(1.09)</td><td>(1.22)</td></tr><tr><td style=\"text-align:left\">Race (Other)</td><td>-0.65<sup></sup></td><td>0.00<sup></sup></td><td>0.00<sup></sup></td><td>0.00<sup></sup></td><td>0.00<sup></sup></td><td>0.00<sup></sup></td><td>0.00<sup></sup></td><td>0.00<sup></sup></td><td>0.00<sup></sup></td><td>0.00<sup></sup></td><td>0.00<sup></sup></td><td>0.00<sup></sup></td><td>0.00<sup></sup></td><td>0.25<sup>***</sup></td><td>0.08<sup></sup></td><td>0.53<sup>***</sup></td><td>0.02<sup></sup></td><td>-0.04<sup></sup></td><td>-0.01<sup></sup></td><td>-0.82<sup></sup></td></tr><tr><td style=\"text-align:left\"></td><td>(1.04)</td><td>(0.01)</td><td>(0.00)</td><td>(0.00)</td><td>(0.00)</td><td>(0.00)</td><td>(0.00)</td><td>(0.00)</td><td>(0.00)</td><td>(0.00)</td><td>(0.00)</td><td>(0.00)</td><td>(0.01)</td><td>(0.03)</td><td>(0.08)</td><td>(0.17)</td><td>(0.31)</td><td>(0.47)</td><td>(1.01)</td><td>(1.54)</td></tr><tr><td style=\"text-align:left\">Region (MW)</td><td>2.34<sup></sup></td><td>0.00<sup></sup></td><td>0.00<sup></sup></td><td>0.00<sup></sup></td><td>0.00<sup></sup></td><td>0.00<sup></sup></td><td>0.00<sup></sup></td><td>0.00<sup></sup></td><td>0.00<sup></sup></td><td>0.00<sup></sup></td><td>0.00<sup></sup></td><td>0.02<sup>*</sup></td><td>0.10<sup>***</sup></td><td>0.41<sup>***</sup></td><td>0.08<sup></sup></td><td>0.55<sup></sup></td><td>0.19<sup></sup></td><td>0.02<sup></sup></td><td>0.04<sup></sup></td><td>0.85<sup></sup></td></tr><tr><td style=\"text-align:left\"></td><td>(1.59)</td><td>(0.01)</td><td>(0.01)</td><td>(0.01)</td><td>(0.01)</td><td>(0.01)</td><td>(0.01)</td><td>(0.01)</td><td>(0.01)</td><td>(0.01)</td><td>(0.01)</td><td>(0.01)</td><td>(0.02)</td><td>(0.08)</td><td>(0.18)</td><td>(0.42)</td><td>(0.68)</td><td>(1.15)</td><td>(2.80)</td><td>(4.36)</td></tr><tr><td style=\"text-align:left\">Region (South)</td><td>3.01<sup>*</sup></td><td>0.00<sup></sup></td><td>0.00<sup></sup></td><td>0.00<sup></sup></td><td>0.00<sup></sup></td><td>0.00<sup></sup></td><td>0.00<sup></sup></td><td>0.00<sup></sup></td><td>0.00<sup></sup></td><td>0.00<sup></sup></td><td>0.00<sup></sup></td><td>0.02<sup>*</sup></td><td>0.10<sup>***</sup></td><td>0.41<sup>***</sup></td><td>0.08<sup></sup></td><td>0.55<sup></sup></td><td>0.20<sup></sup></td><td>0.04<sup></sup></td><td>0.06<sup></sup></td><td>0.31<sup></sup></td></tr><tr><td style=\"text-align:left\"></td><td>(1.55)</td><td>(0.01)</td><td>(0.01)</td><td>(0.01)</td><td>(0.01)</td><td>(0.01)</td><td>(0.01)</td><td>(0.01)</td><td>(0.01)</td><td>(0.01)</td><td>(0.01)</td><td>(0.01)</td><td>(0.02)</td><td>(0.08)</td><td>(0.18)</td><td>(0.42)</td><td>(0.67)</td><td>(1.14)</td><td>(2.78)</td><td>(4.37)</td></tr><tr><td style=\"text-align:left\">Region (West)</td><td>3.34<sup>**</sup></td><td>0.00<sup></sup></td><td>0.00<sup></sup></td><td>0.00<sup></sup></td><td>0.00<sup></sup></td><td>0.00<sup></sup></td><td>0.00<sup></sup></td><td>0.00<sup></sup></td><td>0.00<sup></sup></td><td>0.00<sup></sup></td><td>0.00<sup></sup></td><td>0.02<sup>*</sup></td><td>0.10<sup>***</sup></td><td>0.41<sup>***</sup></td><td>0.08<sup></sup></td><td>0.55<sup></sup></td><td>0.21<sup></sup></td><td>0.05<sup></sup></td><td>0.05<sup></sup></td><td>2.08<sup></sup></td></tr><tr><td style=\"text-align:left\"></td><td>(1.59)</td><td>(0.01)</td><td>(0.01)</td><td>(0.01)</td><td>(0.01)</td><td>(0.01)</td><td>(0.01)</td><td>(0.01)</td><td>(0.01)</td><td>(0.01)</td><td>(0.01)</td><td>(0.01)</td><td>(0.02)</td><td>(0.08)</td><td>(0.18)</td><td>(0.42)</td><td>(0.67)</td><td>(1.15)</td><td>(2.78)</td><td>(4.36)</td></tr><tr><td style=\"text-align:left\">Constant</td><td>-2.77<sup></sup></td><td>0.00<sup></sup></td><td>0.00<sup></sup></td><td>0.00<sup></sup></td><td>0.00<sup></sup></td><td>0.00<sup></sup></td><td>0.00<sup></sup></td><td>0.00<sup></sup></td><td>0.00<sup></sup></td><td>0.00<sup></sup></td><td>0.00<sup></sup></td><td>0.00<sup></sup></td><td>0.00<sup></sup></td><td>0.00<sup></sup></td><td>0.90<sup>***</sup></td><td>1.79<sup>***</sup></td><td>5.09<sup>***</sup></td><td>8.72<sup>***</sup></td><td>16.09<sup>***</sup></td><td>27.29<sup>***</sup></td></tr><tr><td style=\"text-align:left\"></td><td>(2.90)</td><td>(0.01)</td><td>(0.01)</td><td>(0.01)</td><td>(0.01)</td><td>(0.01)</td><td>(0.01)</td><td>(0.01)</td><td>(0.01)</td><td>(0.01)</td><td>(0.01)</td><td>(0.01)</td><td>(0.03)</td><td>(0.09)</td><td>(0.21)</td><td>(0.49)</td><td>(0.81)</td><td>(1.32)</td><td>(3.11)</td><td>(4.58)</td></tr><td colspan=\"21\" style=\"border-bottom: 1px solid black\"></td></tr><tr><td style=\"text-align: left\">Observations</td><td>834</td><td>834</td><td>834</td><td>834</td><td>834</td><td>834</td><td>834</td><td>834</td><td>834</td><td>834</td><td>834</td><td>834</td><td>834</td><td>834</td><td>834</td><td>834</td><td>834</td><td>834</td><td>834</td><td>834</td></tr><tr><td style=\"text-align: left\">R<sup>2</sup></td><td>0.07</td><td>nan</td><td>nan</td><td>nan</td><td>nan</td><td>nan</td><td>nan</td><td>nan</td><td>nan</td><td>nan</td><td>nan</td><td>nan</td><td>nan</td><td>nan</td><td>nan</td><td>nan</td><td>nan</td><td>nan</td><td>nan</td><td>nan</td></tr><tr><td style=\"text-align: left\">Adjusted R<sup>2</sup></td><td>0.06</td><td>nan</td><td>nan</td><td>nan</td><td>nan</td><td>nan</td><td>nan</td><td>nan</td><td>nan</td><td>nan</td><td>nan</td><td>nan</td><td>nan</td><td>nan</td><td>nan</td><td>nan</td><td>nan</td><td>nan</td><td>nan</td><td>nan</td></tr><tr><td style=\"text-align: left\">Residual Std. Error</td><td>10.50 (df=818)</td><td>1.00 (df=818)</td><td>1.00 (df=818)</td><td>1.00 (df=818)</td><td>1.00 (df=818)</td><td>1.00 (df=818)</td><td>1.00 (df=818)</td><td>1.00 (df=818)</td><td>1.00 (df=818)</td><td>1.00 (df=818)</td><td>1.00 (df=818)</td><td>1.00 (df=818)</td><td>1.00 (df=818)</td><td>1.00 (df=818)</td><td>1.00 (df=818)</td><td>1.00 (df=818)</td><td>1.00 (df=818)</td><td>1.00 (df=818)</td><td>1.00 (df=818)</td><td>1.00 (df=818)</td></tr><tr><td style=\"text-align: left\">F Statistic</td><td>3.41<sup>***</sup> (df=15; 818)</td><td>nan<sup>***</sup> (df=15; 818)</td><td>nan<sup>***</sup> (df=15; 818)</td><td>nan<sup>***</sup> (df=15; 818)</td><td>nan<sup>***</sup> (df=15; 818)</td><td>nan<sup>***</sup> (df=15; 818)</td><td>nan<sup>***</sup> (df=15; 818)</td><td>nan<sup>***</sup> (df=15; 818)</td><td>nan<sup>***</sup> (df=15; 818)</td><td>nan<sup>***</sup> (df=15; 818)</td><td>nan<sup>***</sup> (df=15; 818)</td><td>nan<sup>***</sup> (df=15; 818)</td><td>nan<sup>***</sup> (df=15; 818)</td><td>nan<sup>***</sup> (df=15; 818)</td><td>nan<sup>***</sup> (df=15; 818)</td><td>nan<sup>***</sup> (df=15; 818)</td><td>nan<sup>***</sup> (df=15; 818)</td><td>nan<sup>***</sup> (df=15; 818)</td><td>nan<sup>***</sup> (df=15; 818)</td><td>nan<sup>***</sup> (df=15; 818)</td></tr><tr><td colspan=\"21\" style=\"border-bottom: 1px solid black\"></td></tr><tr><td style=\"text-align: left\">Note:</td>\n",
       " <td colspan=\"20\" style=\"text-align: right\">\n",
       "  <sup>*</sup>p&lt;0.1;\n",
       "  <sup>**</sup>p&lt;0.05;\n",
       "  <sup>***</sup>p&lt;0.01\n",
       " </td></tr></table>"
      ],
      "text/plain": [
       "<stargazer.stargazer.Stargazer at 0x14953128940>"
      ]
     },
     "execution_count": 10,
     "metadata": {},
     "output_type": "execute_result"
    }
   ],
   "source": [
    "# Get tables\n",
    "regtab_frag, regtab = esttab_ols_quantile(y=outcome, x=\"rep\", z=z, quantiles=quantiles, df=df_ind)\n",
    "with open(f\"../tabs/regtab_{savepath}.tex\", \"w\") as tf:\n",
    "    tf.write(regtab_frag)\n",
    "\n",
    "regtab"
   ]
  },
  {
   "cell_type": "markdown",
   "id": "7cc7b145",
   "metadata": {},
   "source": [
    "### Visits to adult"
   ]
  },
  {
   "cell_type": "code",
   "execution_count": 11,
   "id": "42b8148c",
   "metadata": {
    "ExecuteTime": {
     "end_time": "2023-01-07T09:29:18.959499Z",
     "start_time": "2023-01-07T09:29:18.945498Z"
    }
   },
   "outputs": [],
   "source": [
    "outcome = \"visits_adult\"\n",
    "savepath = \"quantile_reg_covariates_visits_adult\""
   ]
  },
  {
   "cell_type": "code",
   "execution_count": 12,
   "id": "da8f378b",
   "metadata": {
    "ExecuteTime": {
     "end_time": "2023-01-07T09:29:22.306036Z",
     "start_time": "2023-01-07T09:29:18.960499Z"
    },
    "code_folding": [
     0
    ]
   },
   "outputs": [
    {
     "name": "stderr",
     "output_type": "stream",
     "text": [
      "D:\\ProgramData\\Anaconda3\\lib\\site-packages\\statsmodels\\regression\\quantile_regression.py:191: IterationLimitWarning: Maximum number of iterations (10000) reached.\n",
      "  warnings.warn(\"Maximum number of iterations (\" + str(max_iter) +\n"
     ]
    },
    {
     "data": {
      "image/png": "[encoded data removed]",
      "text/plain": [
       "<Figure size 648x518.4 with 1 Axes>"
      ]
     },
     "metadata": {},
     "output_type": "display_data"
    }
   ],
   "source": [
    "# (fold cell) plot\n",
    "quantile_results = [\n",
    "    fit_quantile_reg(y=outcome, x=\"rep\", z=z, quantile=quantile, df=df_ind)\n",
    "    for quantile in quantiles\n",
    "]\n",
    "\n",
    "quantile_results = pd.DataFrame(\n",
    "    quantile_results, columns=[\"quantile\", \"intercept\", \"estimate\", \"ll\", \"hl\", \"tstat\", \"pval\", \"obs\"]\n",
    ")\n",
    "\n",
    "scale = 0.9\n",
    "fig, ax = plt.subplots(figsize=(10 * scale, 8 * scale), facecolor=\"white\")\n",
    "\n",
    "y = \"estimate\"\n",
    "x = \"quantile\"\n",
    "plt.plot(\n",
    "    quantile_results[x],\n",
    "    quantile_results[y],\n",
    "    \"o--\",\n",
    "    **opts_connected_line\n",
    ")\n",
    "plt.fill_between(\n",
    "    quantile_results[x],\n",
    "    quantile_results[\"ll\"],\n",
    "    quantile_results[\"hl\"],\n",
    "    **opts_fillbetween\n",
    ")\n",
    "plt.axhline(y=0, **opts_0yline)\n",
    "\n",
    "# Custom Legend\n",
    "quantile_estimates = mlines.Line2D([], [], \n",
    "                                   marker='o', ls=\"--\",\n",
    "                                   **opts_connected_line,\n",
    "                                   label='Quantile estimates (connected)',\n",
    "                                  )\n",
    "ci = mpatches.Patch(**opts_fillbetween, label='95% confidence interval')\n",
    "yline0 = mlines.Line2D([], [], \n",
    "                       **opts_0yline,\n",
    "                       label=\"Estimate = 0\"\n",
    "                      )\n",
    "custom_legend = plt.legend(\n",
    "    handles=[quantile_estimates, ci, yline0], \n",
    "    handlelength=4, \n",
    "    handletextpad=.3,\n",
    "    labelspacing=.3,\n",
    "    frameon=False,\n",
    "    prop={'weight':'bold', \"size\":14},\n",
    "    loc=\"best\",\n",
    ")\n",
    "save_mpl_fig(os.path.join(FIGSAVEDIR, savepath))"
   ]
  },
  {
   "cell_type": "markdown",
   "id": "6ea59dd7",
   "metadata": {
    "ExecuteTime": {
     "end_time": "2022-12-05T06:50:24.012627Z",
     "start_time": "2022-12-05T06:50:24.008658Z"
    }
   },
   "source": [
    "### Proportion visits to adult"
   ]
  },
  {
   "cell_type": "code",
   "execution_count": 13,
   "id": "f1ba01bc",
   "metadata": {
    "ExecuteTime": {
     "end_time": "2023-01-07T09:29:22.321956Z",
     "start_time": "2023-01-07T09:29:22.306949Z"
    }
   },
   "outputs": [],
   "source": [
    "outcome = \"prop_adult_visits\"\n",
    "savepath = \"quantile_reg_covariates_proportion_visits_adult\""
   ]
  },
  {
   "cell_type": "code",
   "execution_count": 14,
   "id": "317540dc",
   "metadata": {
    "ExecuteTime": {
     "end_time": "2023-01-07T09:29:23.721711Z",
     "start_time": "2023-01-07T09:29:22.323957Z"
    },
    "code_folding": [
     0
    ]
   },
   "outputs": [
    {
     "data": {
      "image/png": "[encoded data removed]",
      "text/plain": [
       "<Figure size 648x518.4 with 1 Axes>"
      ]
     },
     "metadata": {},
     "output_type": "display_data"
    }
   ],
   "source": [
    "# (fold cell) plot\n",
    "quantile_results = [\n",
    "    fit_quantile_reg(y=outcome, x=\"rep\", z=z, quantile=quantile, df=df_ind)\n",
    "    for quantile in quantiles\n",
    "]\n",
    "\n",
    "quantile_results = pd.DataFrame(\n",
    "    quantile_results, columns=[\"quantile\", \"intercept\", \"estimate\", \"ll\", \"hl\", \"tstat\", \"pval\", \"obs\"]\n",
    ")\n",
    "\n",
    "\n",
    "scale = 0.9\n",
    "fig, ax = plt.subplots(figsize=(10 * scale, 8 * scale), facecolor=\"white\")\n",
    "\n",
    "y = \"estimate\"\n",
    "x = \"quantile\"\n",
    "plt.plot(\n",
    "    quantile_results[x],\n",
    "    quantile_results[y],\n",
    "    \"o--\",\n",
    "    **opts_connected_line\n",
    ")\n",
    "plt.fill_between(\n",
    "    quantile_results[x],\n",
    "    quantile_results[\"ll\"],\n",
    "    quantile_results[\"hl\"],\n",
    "    **opts_fillbetween\n",
    ")\n",
    "plt.axhline(y=0, **opts_0yline)\n",
    "\n",
    "# Custom Legend\n",
    "quantile_estimates = mlines.Line2D([], [], \n",
    "                                   marker='o', ls=\"--\",\n",
    "                                   **opts_connected_line,\n",
    "                                   label='Quantile estimates (connected)',\n",
    "                                  )\n",
    "ci = mpatches.Patch(**opts_fillbetween, label='95% confidence interval')\n",
    "yline0 = mlines.Line2D([], [], \n",
    "                       **opts_0yline,\n",
    "                       label=\"Estimate = 0\"\n",
    "                      )\n",
    "custom_legend = plt.legend(\n",
    "    handles=[quantile_estimates, ci, yline0], \n",
    "    handlelength=4, \n",
    "    handletextpad=.3,\n",
    "    labelspacing=.3,\n",
    "    frameon=False,\n",
    "    prop={'weight':'bold', \"size\":14},\n",
    "    loc=\"best\",\n",
    "#     title_fontproperties={'weight':'bold', 'size':14},\n",
    ")\n",
    "save_mpl_fig(os.path.join(FIGSAVEDIR, savepath))"
   ]
  },
  {
   "cell_type": "code",
   "execution_count": null,
   "id": "4be2e0f6",
   "metadata": {},
   "outputs": [],
   "source": []
  }
 ],
 "metadata": {
  "kernelspec": {
   "display_name": "Python 3",
   "language": "python",
   "name": "python3"
  },
  "language_info": {
   "codemirror_mode": {
    "name": "ipython",
    "version": 3
   },
   "file_extension": ".py",
   "mimetype": "text/x-python",
   "name": "python",
   "nbconvert_exporter": "python",
   "pygments_lexer": "ipython3",
   "version": "3.9.12"
  },
  "toc": {
   "base_numbering": 1,
   "nav_menu": {},
   "number_sections": true,
   "sideBar": true,
   "skip_h1_title": false,
   "title_cell": "Table of Contents",
   "title_sidebar": "Contents",
   "toc_cell": false,
   "toc_position": {},
   "toc_section_display": true,
   "toc_window_display": false
  },
  "varInspector": {
   "cols": {
    "lenName": 16,
    "lenType": 16,
    "lenVar": 40
   },
   "kernels_config": {
    "python": {
     "delete_cmd_postfix": "",
     "delete_cmd_prefix": "del ",
     "library": "var_list.py",
     "varRefreshCmd": "print(var_dic_list())"
    },
    "r": {
     "delete_cmd_postfix": ") ",
     "delete_cmd_prefix": "rm(",
     "library": "var_list.r",
     "varRefreshCmd": "cat(var_dic_list()) "
    }
   },
   "types_to_exclude": [
    "module",
    "function",
    "builtin_function_or_method",
    "instance",
    "_Feature"
   ],
   "window_display": false
  }
 },
 "nbformat": 4,
 "nbformat_minor": 5
}
