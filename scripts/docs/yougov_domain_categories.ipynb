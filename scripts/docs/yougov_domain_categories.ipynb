{
 "cells": [
  {
   "cell_type": "code",
   "execution_count": 1,
   "id": "e1677b93",
   "metadata": {
    "ExecuteTime": {
     "end_time": "2023-04-19T05:54:48.893718Z",
     "start_time": "2023-04-19T05:54:48.541993Z"
    }
   },
   "outputs": [],
   "source": [
    "import os\n",
    "import pandas as pd\n",
    "import janitor\n",
    "import numpy as np\n",
    "pd.set_option('display.max_columns', 100)\n",
    "\n",
    "DATAPATH = \"../adult-data\"        "
   ]
  },
  {
   "cell_type": "code",
   "execution_count": 2,
   "id": "490b0d3b",
   "metadata": {
    "ExecuteTime": {
     "end_time": "2023-04-19T05:55:18.083993Z",
     "start_time": "2023-04-19T05:54:53.834974Z"
    },
    "code_folding": [],
    "scrolled": true
   },
   "outputs": [
    {
     "name": "stdout",
     "output_type": "stream",
     "text": [
      "output = df with web browses\n",
      "len(df)=6,297,382\n"
     ]
    },
    {
     "data": {
      "text/html": [
       "<div>\n",
       "<style scoped>\n",
       "    .dataframe tbody tr th:only-of-type {\n",
       "        vertical-align: middle;\n",
       "    }\n",
       "\n",
       "    .dataframe tbody tr th {\n",
       "        vertical-align: top;\n",
       "    }\n",
       "\n",
       "    .dataframe thead th {\n",
       "        text-align: right;\n",
       "    }\n",
       "</style>\n",
       "<table border=\"1\" class=\"dataframe\">\n",
       "  <thead>\n",
       "    <tr style=\"text-align: right;\">\n",
       "      <th></th>\n",
       "      <th>caseid</th>\n",
       "      <th>private_domain</th>\n",
       "      <th>category</th>\n",
       "      <th>visit_time_local</th>\n",
       "      <th>visit_duration</th>\n",
       "    </tr>\n",
       "  </thead>\n",
       "  <tbody>\n",
       "    <tr>\n",
       "      <th>0</th>\n",
       "      <td>205323077</td>\n",
       "      <td>google.com</td>\n",
       "      <td>Search Engines and Portals</td>\n",
       "      <td>2022-05-31 23:52:37</td>\n",
       "      <td>2</td>\n",
       "    </tr>\n",
       "    <tr>\n",
       "      <th>1</th>\n",
       "      <td>205323077</td>\n",
       "      <td>coupons.com</td>\n",
       "      <td>Business, Shopping</td>\n",
       "      <td>2022-06-01 01:07:35</td>\n",
       "      <td>457</td>\n",
       "    </tr>\n",
       "    <tr>\n",
       "      <th>2</th>\n",
       "      <td>205323077</td>\n",
       "      <td>google.com</td>\n",
       "      <td>Business</td>\n",
       "      <td>2022-06-01 01:15:12</td>\n",
       "      <td>55</td>\n",
       "    </tr>\n",
       "    <tr>\n",
       "      <th>3</th>\n",
       "      <td>205323077</td>\n",
       "      <td>coupons.com</td>\n",
       "      <td>Business, Shopping</td>\n",
       "      <td>2022-06-01 01:16:07</td>\n",
       "      <td>2225</td>\n",
       "    </tr>\n",
       "    <tr>\n",
       "      <th>4</th>\n",
       "      <td>205323077</td>\n",
       "      <td>google.com</td>\n",
       "      <td>Search Engines and Portals</td>\n",
       "      <td>2022-06-01 04:38:10</td>\n",
       "      <td>10</td>\n",
       "    </tr>\n",
       "  </tbody>\n",
       "</table>\n",
       "</div>"
      ],
      "text/plain": [
       "      caseid private_domain                    category     visit_time_local  \\\n",
       "0  205323077     google.com  Search Engines and Portals  2022-05-31 23:52:37   \n",
       "1  205323077    coupons.com          Business, Shopping  2022-06-01 01:07:35   \n",
       "2  205323077     google.com                    Business  2022-06-01 01:15:12   \n",
       "3  205323077    coupons.com          Business, Shopping  2022-06-01 01:16:07   \n",
       "4  205323077     google.com  Search Engines and Portals  2022-06-01 04:38:10   \n",
       "\n",
       "   visit_duration  \n",
       "0               2  \n",
       "1             457  \n",
       "2              55  \n",
       "3            2225  \n",
       "4              10  "
      ]
     },
     "execution_count": 2,
     "metadata": {},
     "output_type": "execute_result"
    }
   ],
   "source": [
    "# (fold cell) Load and prep web browsing data\n",
    "# output = df with visits to adult sites\n",
    "usecols_web_desktop = [\"caseid\", \"category\", \"private_domain\", \"visit_duration\", \"visit_time_local\"]\n",
    "usecols = [\"caseid\", \"category\", \"private_domain\", \"page_duration\", \"session_start_time\"]\n",
    "\n",
    "df = (pd.concat([\n",
    "        # Get web_mobile\n",
    "        pd.read_csv(\n",
    "            os.path.join(DATAPATH, \"output/realityMine_web_mobile_2022-06-01_2022-06-30.csv\"),\n",
    "            usecols=usecols_web_desktop,\n",
    "            low_memory=False,\n",
    "        ), \n",
    "        # Get web_desktop\n",
    "        pd.read_csv(\n",
    "            os.path.join(DATAPATH, \"output/realityMine_web_desktop_2022-06-01_2022-06-30.csv\"),\n",
    "            usecols=usecols_web_desktop,\n",
    "            low_memory=False,\n",
    "        ),\n",
    "        # Get web\n",
    "        (pd.read_csv(\n",
    "            os.path.join(DATAPATH, \"output/realityMine_web_2022-06-01_2022-06-30.csv\"),\n",
    "            usecols=usecols,\n",
    "            low_memory=False,\n",
    "        )\n",
    "         # Renaming columns to be consistent w/ web_mobile & web_desktop\n",
    "         .rename_column(\"session_start_time\", \"visit_time_local\")\n",
    "         .rename_column(\"page_duration\", \"visit_duration\")\n",
    "        )\n",
    "    ])\n",
    "     )\n",
    "print(\"output = df with web browses\")\n",
    "print(f\"{len(df)=:,}\")\n",
    "df.head()"
   ]
  },
  {
   "cell_type": "code",
   "execution_count": 3,
   "id": "c4ade6ae",
   "metadata": {
    "ExecuteTime": {
     "end_time": "2023-04-19T05:57:54.097812Z",
     "start_time": "2023-04-19T05:57:53.890642Z"
    }
   },
   "outputs": [
    {
     "data": {
      "text/plain": [
       "array(['google.com', 'coupons.com', 'myfwc.com', ...,\n",
       "       'streetsideclassics.com', 'cryptopolitan.com', 'mychart.pr'],\n",
       "      dtype=object)"
      ]
     },
     "execution_count": 3,
     "metadata": {},
     "output_type": "execute_result"
    }
   ],
   "source": [
    "df[\"private_domain\"].unique()"
   ]
  },
  {
   "cell_type": "code",
   "execution_count": 16,
   "id": "51f5ebd0",
   "metadata": {
    "ExecuteTime": {
     "end_time": "2023-04-19T06:02:58.115792Z",
     "start_time": "2023-04-19T06:02:56.342854Z"
    }
   },
   "outputs": [
    {
     "data": {
      "text/html": [
       "<div>\n",
       "<style scoped>\n",
       "    .dataframe tbody tr th:only-of-type {\n",
       "        vertical-align: middle;\n",
       "    }\n",
       "\n",
       "    .dataframe tbody tr th {\n",
       "        vertical-align: top;\n",
       "    }\n",
       "\n",
       "    .dataframe thead th {\n",
       "        text-align: right;\n",
       "    }\n",
       "</style>\n",
       "<table border=\"1\" class=\"dataframe\">\n",
       "  <thead>\n",
       "    <tr style=\"text-align: right;\">\n",
       "      <th></th>\n",
       "      <th>private_domain</th>\n",
       "      <th>category</th>\n",
       "    </tr>\n",
       "  </thead>\n",
       "  <tbody>\n",
       "    <tr>\n",
       "      <th>0</th>\n",
       "      <td>007james.com</td>\n",
       "      <td>Business, Entertainment</td>\n",
       "    </tr>\n",
       "    <tr>\n",
       "      <th>1</th>\n",
       "      <td>0123movie.net</td>\n",
       "      <td>Entertainment, Illegal Content</td>\n",
       "    </tr>\n",
       "    <tr>\n",
       "      <th>2</th>\n",
       "      <td>0410690.com</td>\n",
       "      <td>NaN</td>\n",
       "    </tr>\n",
       "    <tr>\n",
       "      <th>3</th>\n",
       "      <td>042jam.com</td>\n",
       "      <td>NaN</td>\n",
       "    </tr>\n",
       "    <tr>\n",
       "      <th>4</th>\n",
       "      <td>042nobs.com</td>\n",
       "      <td>NaN</td>\n",
       "    </tr>\n",
       "    <tr>\n",
       "      <th>...</th>\n",
       "      <td>...</td>\n",
       "      <td>...</td>\n",
       "    </tr>\n",
       "    <tr>\n",
       "      <th>69846</th>\n",
       "      <td>zyvr.com</td>\n",
       "      <td>NaN</td>\n",
       "    </tr>\n",
       "    <tr>\n",
       "      <th>69847</th>\n",
       "      <td>zzounds.com</td>\n",
       "      <td>Business, Shopping</td>\n",
       "    </tr>\n",
       "    <tr>\n",
       "      <th>69848</th>\n",
       "      <td>zztop.com</td>\n",
       "      <td>NaN</td>\n",
       "    </tr>\n",
       "    <tr>\n",
       "      <th>69849</th>\n",
       "      <td>zzzperform.com</td>\n",
       "      <td>NaN</td>\n",
       "    </tr>\n",
       "    <tr>\n",
       "      <th>69850</th>\n",
       "      <td>ᝤᝳgoogle.com</td>\n",
       "      <td>NaN</td>\n",
       "    </tr>\n",
       "  </tbody>\n",
       "</table>\n",
       "<p>69851 rows × 2 columns</p>\n",
       "</div>"
      ],
      "text/plain": [
       "       private_domain                        category\n",
       "0        007james.com         Business, Entertainment\n",
       "1       0123movie.net  Entertainment, Illegal Content\n",
       "2         0410690.com                             NaN\n",
       "3          042jam.com                             NaN\n",
       "4         042nobs.com                             NaN\n",
       "...               ...                             ...\n",
       "69846        zyvr.com                             NaN\n",
       "69847     zzounds.com              Business, Shopping\n",
       "69848       zztop.com                             NaN\n",
       "69849  zzzperform.com                             NaN\n",
       "69850    ᝤᝳgoogle.com                             NaN\n",
       "\n",
       "[69851 rows x 2 columns]"
      ]
     },
     "execution_count": 16,
     "metadata": {},
     "output_type": "execute_result"
    }
   ],
   "source": [
    "df_domains = (\n",
    "    df\n",
    "    .dropna(subset=[\"private_domain\"])\n",
    "    .select_columns([\"private_domain\", \"category\"])\n",
    "    .drop_duplicates([\"private_domain\", \"category\"])\n",
    "    .sort_values(\"private_domain\", ignore_index=True)\n",
    ")\n",
    "df_domains.to_csv(\"domains_categories.csv\", index=False)\n",
    "df_domains"
   ]
  },
  {
   "cell_type": "code",
   "execution_count": 15,
   "id": "0260a425",
   "metadata": {
    "ExecuteTime": {
     "end_time": "2023-04-19T06:02:33.752666Z",
     "start_time": "2023-04-19T06:02:33.742234Z"
    }
   },
   "outputs": [
    {
     "data": {
      "text/html": [
       "<div>\n",
       "<style scoped>\n",
       "    .dataframe tbody tr th:only-of-type {\n",
       "        vertical-align: middle;\n",
       "    }\n",
       "\n",
       "    .dataframe tbody tr th {\n",
       "        vertical-align: top;\n",
       "    }\n",
       "\n",
       "    .dataframe thead th {\n",
       "        text-align: right;\n",
       "    }\n",
       "</style>\n",
       "<table border=\"1\" class=\"dataframe\">\n",
       "  <thead>\n",
       "    <tr style=\"text-align: right;\">\n",
       "      <th></th>\n",
       "      <th>private_domain</th>\n",
       "      <th>category</th>\n",
       "    </tr>\n",
       "  </thead>\n",
       "  <tbody>\n",
       "    <tr>\n",
       "      <th>24832</th>\n",
       "      <td>google.com</td>\n",
       "      <td>Business, Education</td>\n",
       "    </tr>\n",
       "    <tr>\n",
       "      <th>24833</th>\n",
       "      <td>google.com</td>\n",
       "      <td>Business, Chat and Instant Messaging, Informat...</td>\n",
       "    </tr>\n",
       "    <tr>\n",
       "      <th>24834</th>\n",
       "      <td>google.com</td>\n",
       "      <td>Business</td>\n",
       "    </tr>\n",
       "    <tr>\n",
       "      <th>24835</th>\n",
       "      <td>google.com</td>\n",
       "      <td>Media Sharing</td>\n",
       "    </tr>\n",
       "    <tr>\n",
       "      <th>24836</th>\n",
       "      <td>google.com</td>\n",
       "      <td>News and Media</td>\n",
       "    </tr>\n",
       "    <tr>\n",
       "      <th>24837</th>\n",
       "      <td>google.com</td>\n",
       "      <td>Information Technology, Shopping</td>\n",
       "    </tr>\n",
       "    <tr>\n",
       "      <th>24838</th>\n",
       "      <td>google.com</td>\n",
       "      <td>Business, Education, Information Technology</td>\n",
       "    </tr>\n",
       "    <tr>\n",
       "      <th>24839</th>\n",
       "      <td>google.com</td>\n",
       "      <td>Translation Sites</td>\n",
       "    </tr>\n",
       "    <tr>\n",
       "      <th>24840</th>\n",
       "      <td>google.com</td>\n",
       "      <td>Information Technology</td>\n",
       "    </tr>\n",
       "    <tr>\n",
       "      <th>24841</th>\n",
       "      <td>google.com</td>\n",
       "      <td>NaN</td>\n",
       "    </tr>\n",
       "    <tr>\n",
       "      <th>24842</th>\n",
       "      <td>google.com</td>\n",
       "      <td>Education, Information Technology</td>\n",
       "    </tr>\n",
       "    <tr>\n",
       "      <th>24843</th>\n",
       "      <td>google.com</td>\n",
       "      <td>Chat and Instant Messaging</td>\n",
       "    </tr>\n",
       "    <tr>\n",
       "      <th>24844</th>\n",
       "      <td>google.com</td>\n",
       "      <td>Job Related</td>\n",
       "    </tr>\n",
       "    <tr>\n",
       "      <th>24845</th>\n",
       "      <td>google.com</td>\n",
       "      <td>Business, Information Technology</td>\n",
       "    </tr>\n",
       "    <tr>\n",
       "      <th>24846</th>\n",
       "      <td>google.com</td>\n",
       "      <td>Shopping</td>\n",
       "    </tr>\n",
       "    <tr>\n",
       "      <th>24847</th>\n",
       "      <td>google.com</td>\n",
       "      <td>Information Technology, Proxy and Filter Avoid...</td>\n",
       "    </tr>\n",
       "    <tr>\n",
       "      <th>24848</th>\n",
       "      <td>google.com</td>\n",
       "      <td>Education</td>\n",
       "    </tr>\n",
       "    <tr>\n",
       "      <th>24849</th>\n",
       "      <td>google.com</td>\n",
       "      <td>Messageboards and Forums</td>\n",
       "    </tr>\n",
       "    <tr>\n",
       "      <th>24850</th>\n",
       "      <td>google.com</td>\n",
       "      <td>Entertainment, Games</td>\n",
       "    </tr>\n",
       "    <tr>\n",
       "      <th>24851</th>\n",
       "      <td>google.com</td>\n",
       "      <td>Search Engines and Portals</td>\n",
       "    </tr>\n",
       "    <tr>\n",
       "      <th>24852</th>\n",
       "      <td>google.com</td>\n",
       "      <td>Social Networking</td>\n",
       "    </tr>\n",
       "  </tbody>\n",
       "</table>\n",
       "</div>"
      ],
      "text/plain": [
       "      private_domain                                           category\n",
       "24832     google.com                                Business, Education\n",
       "24833     google.com  Business, Chat and Instant Messaging, Informat...\n",
       "24834     google.com                                           Business\n",
       "24835     google.com                                      Media Sharing\n",
       "24836     google.com                                     News and Media\n",
       "24837     google.com                   Information Technology, Shopping\n",
       "24838     google.com        Business, Education, Information Technology\n",
       "24839     google.com                                  Translation Sites\n",
       "24840     google.com                             Information Technology\n",
       "24841     google.com                                                NaN\n",
       "24842     google.com                  Education, Information Technology\n",
       "24843     google.com                         Chat and Instant Messaging\n",
       "24844     google.com                                        Job Related\n",
       "24845     google.com                   Business, Information Technology\n",
       "24846     google.com                                           Shopping\n",
       "24847     google.com  Information Technology, Proxy and Filter Avoid...\n",
       "24848     google.com                                          Education\n",
       "24849     google.com                           Messageboards and Forums\n",
       "24850     google.com                               Entertainment, Games\n",
       "24851     google.com                         Search Engines and Portals\n",
       "24852     google.com                                  Social Networking"
      ]
     },
     "execution_count": 15,
     "metadata": {},
     "output_type": "execute_result"
    }
   ],
   "source": [
    "df_domains.query(\"private_domain=='google.com'\")"
   ]
  },
  {
   "cell_type": "code",
   "execution_count": 4,
   "id": "090d5ee8",
   "metadata": {
    "ExecuteTime": {
     "end_time": "2023-04-19T05:57:59.607433Z",
     "start_time": "2023-04-19T05:57:59.402422Z"
    }
   },
   "outputs": [
    {
     "data": {
      "text/plain": [
       "64074"
      ]
     },
     "execution_count": 4,
     "metadata": {},
     "output_type": "execute_result"
    }
   ],
   "source": [
    "df[\"private_domain\"].nunique()"
   ]
  },
  {
   "cell_type": "code",
   "execution_count": null,
   "id": "403de8fe",
   "metadata": {},
   "outputs": [],
   "source": []
  }
 ],
 "metadata": {
  "kernelspec": {
   "display_name": "Python 3 (ipykernel)",
   "language": "python",
   "name": "python3"
  },
  "language_info": {
   "codemirror_mode": {
    "name": "ipython",
    "version": 3
   },
   "file_extension": ".py",
   "mimetype": "text/x-python",
   "name": "python",
   "nbconvert_exporter": "python",
   "pygments_lexer": "ipython3",
   "version": "3.10.9"
  },
  "toc": {
   "base_numbering": 1,
   "nav_menu": {},
   "number_sections": true,
   "sideBar": true,
   "skip_h1_title": false,
   "title_cell": "Table of Contents",
   "title_sidebar": "Contents",
   "toc_cell": false,
   "toc_position": {},
   "toc_section_display": true,
   "toc_window_display": false
  },
  "varInspector": {
   "cols": {
    "lenName": 16,
    "lenType": 16,
    "lenVar": 40
   },
   "kernels_config": {
    "python": {
     "delete_cmd_postfix": "",
     "delete_cmd_prefix": "del ",
     "library": "var_list.py",
     "varRefreshCmd": "print(var_dic_list())"
    },
    "r": {
     "delete_cmd_postfix": ") ",
     "delete_cmd_prefix": "rm(",
     "library": "var_list.r",
     "varRefreshCmd": "cat(var_dic_list()) "
    }
   },
   "types_to_exclude": [
    "module",
    "function",
    "builtin_function_or_method",
    "instance",
    "_Feature"
   ],
   "window_display": false
  }
 },
 "nbformat": 4,
 "nbformat_minor": 5
}
