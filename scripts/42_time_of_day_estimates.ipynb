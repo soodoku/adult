{
 "cells": [
  {
   "cell_type": "code",
   "execution_count": null,
   "id": "bfc7909b",
   "metadata": {
    "ExecuteTime": {
     "end_time": "2023-10-21T03:32:58.765890Z",
     "start_time": "2023-10-21T03:32:57.946611Z"
    }
   },
   "outputs": [],
   "source": [
    "import os\n",
    "import janitor\n",
    "import numpy as np\n",
    "import pandas as pd\n",
    "pd.set_option('display.max_columns', 100)\n",
    "import statsmodels.formula.api as smf\n",
    "from statsmodels.stats.multitest import multipletests\n",
    "from stargazer.stargazer import Stargazer\n",
    "from utils.utils import save_mpl_fig\n",
    "\n",
    "FIGSAVEDIR = \"../figs\"    \n",
    "DATAPATH = \"../adult-data/output\"        "
   ]
  },
  {
   "cell_type": "markdown",
   "id": "f12f51c5",
   "metadata": {},
   "source": [
    "## Prep data"
   ]
  },
  {
   "cell_type": "code",
   "execution_count": null,
   "id": "8d9bb755",
   "metadata": {
    "ExecuteTime": {
     "end_time": "2023-10-21T03:32:58.782833Z",
     "start_time": "2023-10-21T03:32:58.768699Z"
    },
    "code_folding": [],
    "scrolled": true
   },
   "outputs": [],
   "source": [
    "# Read in list of classified FP (false positives)\n",
    "falsepositives = (pd\n",
    "                  .read_csv(\"../data/false_positives_list.csv\")\n",
    "                  [\"flagged as FP\"].tolist()\n",
    "                 )\n",
    "falsepositives"
   ]
  },
  {
   "cell_type": "code",
   "execution_count": null,
   "id": "d441a546",
   "metadata": {
    "ExecuteTime": {
     "end_time": "2023-10-21T03:32:58.808889Z",
     "start_time": "2023-10-21T03:32:58.784662Z"
    }
   },
   "outputs": [],
   "source": [
    "# (fold cell) Load individual metadata\n",
    "df_ind = (pd.read_csv(\"../data/individual_browsing_data.csv\")\n",
    "         )\n",
    "df_ind.head(3)"
   ]
  },
  {
   "cell_type": "code",
   "execution_count": null,
   "id": "0da979ba",
   "metadata": {
    "ExecuteTime": {
     "end_time": "2023-10-21T03:33:21.818907Z",
     "start_time": "2023-10-21T03:32:58.810599Z"
    },
    "code_folding": []
   },
   "outputs": [],
   "source": [
    "# (fold cell) Load and prep web browsing data\n",
    "usecols_web_desktop = [\"caseid\", \"category\", \"private_domain\", \"visit_duration\", \"visit_time_local\"]\n",
    "usecols = [\"caseid\", \"category\", \"private_domain\", \"page_duration\", \"session_start_time\"]\n",
    "\n",
    "df = (pd.concat([\n",
    "        # Get web_mobile\n",
    "        pd.read_csv(\n",
    "            os.path.join(DATAPATH, \"realityMine_web_mobile_2022-06-01_2022-06-30.csv\"),\n",
    "            usecols=usecols_web_desktop,\n",
    "            low_memory=False,\n",
    "        ), \n",
    "        # Get web_desktop\n",
    "        pd.read_csv(\n",
    "            os.path.join(DATAPATH, \"realityMine_web_desktop_2022-06-01_2022-06-30.csv\"),\n",
    "            usecols=usecols_web_desktop,\n",
    "            low_memory=False,\n",
    "        ),\n",
    "        # Get web\n",
    "        (pd.read_csv(\n",
    "            os.path.join(DATAPATH, \"realityMine_web_2022-06-01_2022-06-30.csv\"),\n",
    "            usecols=usecols,\n",
    "            low_memory=False,\n",
    "        )\n",
    "         # Renaming columns to be consistent w/ web_mobile & web_desktop\n",
    "         .rename_column(\"page_duration\", \"visit_duration\")\n",
    "         .rename_column(\"session_start_time\", \"visit_time_local\")\n",
    "        )\n",
    "        ])\n",
    "      .query(\"category.str.contains('adult', case=False, na=False)\")\n",
    "      .query(\"private_domain not in @falsepositives\")\n",
    "      .dropna(subset=[\"caseid\", \"category\", \"visit_duration\"])\n",
    "      # Parse datetime string\n",
    "      .assign(\n",
    "          dt=lambda df: pd.to_datetime(df.visit_time_local),\n",
    "          hour=lambda df: [datetime.hour for datetime in df[\"dt\"]],\n",
    "          hourdecimal=lambda df: [(datetime.hour + datetime.minute/60 + datetime.second/3600) for datetime in df[\"dt\"]],\n",
    "          dow=lambda df: [datetime.day_of_week for datetime in df[\"dt\"]],\n",
    "          dow_str=lambda df: [datetime.day_name() for datetime in df[\"dt\"]],\n",
    "          visit_minutes=lambda df: df[\"visit_duration\"]/60\n",
    "      )\n",
    "      # ======================================================================\n",
    "      .assign(time_8am_12pm=lambda  df: np.where((df[\"hour\"] >=8)  & (df[\"hour\"]<12), 1, 0))\n",
    "      .assign(time_12pm_4pm=lambda  df: np.where((df[\"hour\"] >=12)  & (df[\"hour\"]<16), 1, 0))\n",
    "      .assign(time_4pm_8pm=lambda  df: np.where((df[\"hour\"] >=16)  & (df[\"hour\"]<20), 1, 0))\n",
    "      .assign(time_8pm_12am=lambda  df: np.where((df[\"hour\"] >=20), 1, 0))\n",
    "      .assign(time_12am_4am=lambda  df: np.where(df[\"hour\"]<4, 1, 0))\n",
    "      .assign(time_4am_8am=lambda  df: np.where((df[\"hour\"] >=4)  & (df[\"hour\"]<8), 1, 0))\n",
    "      # ======================================================================\n",
    "      .assign(time_7am_9am=lambda  df: np.where((df[\"hour\"] >=7)  & (df[\"hour\"]<9), 1, 0))\n",
    "      .assign(time_9am_11am=lambda df: np.where((df[\"hour\"] >=9)  & (df[\"hour\"]<11), 1, 0))\n",
    "      .assign(time_11am_1pm=lambda df: np.where((df[\"hour\"] >=11) & (df[\"hour\"]<13), 1, 0))\n",
    "      .assign(time_1pm_3pm=lambda  df: np.where((df[\"hour\"] >=13) & (df[\"hour\"]<15), 1, 0))\n",
    "      .assign(time_3pm_5pm=lambda  df: np.where((df[\"hour\"] >=15) & (df[\"hour\"]<17), 1, 0))\n",
    "      .assign(time_5pm_7pm=lambda  df: np.where((df[\"hour\"] >=17) & (df[\"hour\"]<19), 1, 0))\n",
    "      .assign(time_7pm_9pm=lambda  df: np.where((df[\"hour\"] >=19) & (df[\"hour\"]<21), 1, 0))\n",
    "      .assign(time_9pm_11pm=lambda df: np.where((df[\"hour\"] >=21) & (df[\"hour\"]<23), 1, 0))\n",
    "      .assign(time_11pm_1am=lambda df: np.where((df[\"hour\"] >=23) | (df[\"hour\"]<1), 1, 0))\n",
    "      .assign(time_1am_3am=lambda  df: np.where((df[\"hour\"] >=1)  & (df[\"hour\"]<3), 1, 0))\n",
    "      .assign(time_3am_5am=lambda  df: np.where((df[\"hour\"] >=3)  & (df[\"hour\"]<5), 1, 0))\n",
    "      .assign(time_5am_7am=lambda  df: np.where((df[\"hour\"] >=5)  & (df[\"hour\"]<7), 1, 0))\n",
    "      # ======================================================================\n",
    "      # ======================================================================\n",
    "      .assign(time_4am_5am=lambda  df: np.where((df[\"hour\"] >=4)  & (df[\"hour\"]<5), 1, 0))\n",
    "      .assign(time_5am_6am=lambda  df: np.where((df[\"hour\"] >=5)  & (df[\"hour\"]<6), 1, 0))\n",
    "      .assign(time_6am_7am=lambda  df: np.where((df[\"hour\"] >=6)  & (df[\"hour\"]<7), 1, 0))\n",
    "      .assign(time_7am_8am=lambda  df: np.where((df[\"hour\"] >=7)  & (df[\"hour\"]<8), 1, 0))\n",
    "      # ======================================================================\n",
    "      # Get individual char\n",
    "      .merge(df_ind, how=\"left\", on=\"caseid\", validate=\"m:1\")\n",
    "      .assign(R=lambda df: np.where(df[\"party\"]==\"R\", 1, 0))\n",
    "      .query(\"party!='I'\")\n",
    "     )\n",
    "four_hour_bins = [\n",
    " 'time_4am_8am',\n",
    " 'time_8am_12pm',\n",
    " 'time_12pm_4pm',\n",
    " 'time_4pm_8pm',\n",
    " 'time_8pm_12am',\n",
    " 'time_12am_4am',\n",
    "]\n",
    "two_hour_bins = [\n",
    " 'time_5am_7am',\n",
    " 'time_7am_9am',\n",
    " 'time_9am_11am',\n",
    " 'time_11am_1pm',\n",
    " 'time_1pm_3pm',\n",
    " 'time_3pm_5pm',\n",
    " 'time_5pm_7pm',\n",
    " 'time_7pm_9pm',\n",
    " 'time_9pm_11pm',\n",
    " 'time_11pm_1am',\n",
    " 'time_1am_3am',\n",
    " 'time_3am_5am',\n",
    "]\n",
    "assert (df[four_hour_bins].sum(axis=1) == 1).all()\n",
    "assert (df[two_hour_bins].sum(axis=1) == 1).all()\n",
    "print(\"output = df with visits to adult sites\")\n",
    "print(f\"{len(df)=:,}\")\n",
    "df.head()"
   ]
  },
  {
   "cell_type": "code",
   "execution_count": 12,
   "id": "bb10a858",
   "metadata": {
    "ExecuteTime": {
     "end_time": "2023-10-21T03:37:04.198525Z",
     "start_time": "2023-10-21T03:37:04.196134Z"
    }
   },
   "outputs": [],
   "source": [
    "z = \"age + age2 + C(gender) + C(race2) + C(educ2) + C(region) + C(dow_str)\""
   ]
  },
  {
   "cell_type": "markdown",
   "id": "09128457",
   "metadata": {},
   "source": [
    "## 4-hour bins"
   ]
  },
  {
   "cell_type": "markdown",
   "id": "9b3841e7",
   "metadata": {},
   "source": [
    "### OLS"
   ]
  },
  {
   "cell_type": "code",
   "execution_count": 13,
   "id": "fc8ea4b4",
   "metadata": {
    "ExecuteTime": {
     "end_time": "2023-10-21T03:37:14.060490Z",
     "start_time": "2023-10-21T03:37:04.953282Z"
    }
   },
   "outputs": [
    {
     "name": "stdout",
     "output_type": "stream",
     "text": [
      "time_4am_8am\n",
      "Unadjusted\n",
      "{'intercept': 0.29465135784205343, 'estimate': 0.09103590342403217, 'll': 0.08300710943562592, 'hl': 0.09906469741243842, 'tstat': 22.223398964878445, 'pval': 2.040291376568596e-109, 'obs': 54540.0}\n",
      "Adjusted\n",
      "{'intercept': 0.29465135784205343, 'estimate': 0.09103590342403217, 'll': 0.08300710943562592, 'hl': 0.09906469741243842, 'tstat': 22.223398964878445, 'pval': 2.040291376568596e-109, 'obs': 54540.0}\n",
      "============================================\n",
      "time_8am_12pm\n",
      "Unadjusted\n",
      "{'intercept': -0.1403976162226217, 'estimate': -0.06780687588446883, 'll': -0.07623489478414087, 'hl': -0.05937885698479679, 'tstat': -15.768715782413343, 'pval': 5.107781466136568e-56, 'obs': 54540.0}\n",
      "Adjusted\n",
      "{'intercept': -0.1403976162226217, 'estimate': -0.06780687588446883, 'll': -0.07623489478414087, 'hl': -0.05937885698479679, 'tstat': -15.768715782413343, 'pval': 5.107781466136568e-56, 'obs': 54540.0}\n",
      "============================================\n",
      "time_12pm_4pm\n",
      "Unadjusted\n",
      "{'intercept': 0.010755541458815961, 'estimate': -0.0037214936231999424, 'll': -0.013339582069721363, 'hl': 0.0058965948233214785, 'tstat': -0.7583620706675228, 'pval': 0.44823425783228543, 'obs': 54540.0}\n",
      "Adjusted\n",
      "{'intercept': 0.010755541458815961, 'estimate': -0.0037214936231999424, 'll': -0.013339582069721363, 'hl': 0.0058965948233214785, 'tstat': -0.7583620706675228, 'pval': 0.44823425783228543, 'obs': 54540.0}\n",
      "============================================\n",
      "time_4pm_8pm\n",
      "Unadjusted\n",
      "{'intercept': 0.06842534523872049, 'estimate': 0.011466280517812939, 'll': 0.0031952122128347336, 'hl': 0.019737348822791143, 'tstat': 2.717121419251278, 'pval': 0.006585244442566981, 'obs': 54540.0}\n",
      "Adjusted\n",
      "{'intercept': 0.06842534523872049, 'estimate': 0.011466280517812939, 'll': 0.0031952122128347336, 'hl': 0.019737348822791143, 'tstat': 2.717121419251278, 'pval': 0.006585244442566981, 'obs': 54540.0}\n",
      "============================================\n",
      "time_8pm_12am\n",
      "Unadjusted\n",
      "{'intercept': 0.16379805127809274, 'estimate': -0.02460295113139877, 'll': -0.03322410747048921, 'hl': -0.01598179479230833, 'tstat': -5.593321386864912, 'pval': 2.2276638204625503e-08, 'obs': 54540.0}\n",
      "Adjusted\n",
      "{'intercept': 0.16379805127809274, 'estimate': -0.02460295113139877, 'll': -0.03322410747048921, 'hl': -0.01598179479230833, 'tstat': -5.593321386864912, 'pval': 2.2276638204625503e-08, 'obs': 54540.0}\n",
      "============================================\n",
      "time_12am_4am\n",
      "Unadjusted\n",
      "{'intercept': 0.4027673204049368, 'estimate': -0.006370863302777122, 'll': -0.015171727611485481, 'hl': 0.0024300010059312375, 'tstat': -1.4187995844357741, 'pval': 0.15595745388866875, 'obs': 54540.0}\n",
      "Adjusted\n",
      "{'intercept': 0.4027673204049368, 'estimate': -0.006370863302777122, 'll': -0.015171727611485481, 'hl': 0.0024300010059312375, 'tstat': -1.4187995844357741, 'pval': 0.15595745388866875, 'obs': 54540.0}\n",
      "============================================\n"
     ]
    }
   ],
   "source": [
    "x = \"rep\"\n",
    "pvals = []\n",
    "for timing in four_hour_bins:\n",
    "    print(timing)\n",
    "    y = timing\n",
    "    print(\"Unadjusted\")\n",
    "    unadj_model = smf.ols(f\"{y} ~ {x} + {z}\", df)\n",
    "    results_ = unadj_model.fit(cov_type=\"HC3\")\n",
    "    unadj_dict = dict(\n",
    "            intercept=results_.params[\"Intercept\"],\n",
    "            estimate=results_.params[x],\n",
    "            ll=results_.conf_int().loc[x][0],  # CI ll\n",
    "            hl=results_.conf_int().loc[x][1],  # CI hl\n",
    "            tstat=results_.tvalues[x],\n",
    "            pval=results_.pvalues[x],\n",
    "            obs=results_.nobs,\n",
    "        )\n",
    "    print(unadj_dict)\n",
    "\n",
    "    print(\"Adjusted\")\n",
    "    adj_model = smf.ols(f\"{y} ~ {x} + {z}\", df)\n",
    "    results_ = adj_model.fit(cov_type=\"HC3\")\n",
    "    adj_dict = dict(\n",
    "            intercept=results_.params[\"Intercept\"],\n",
    "            estimate=results_.params[x],\n",
    "            ll=results_.conf_int().loc[x][0],  # CI ll\n",
    "            hl=results_.conf_int().loc[x][1],  # CI hl\n",
    "            tstat=results_.tvalues[x],\n",
    "            pval=results_.pvalues[x],\n",
    "            obs=results_.nobs,\n",
    "        )\n",
    "    print(adj_dict)\n",
    "    print(\"============================================\")"
   ]
  },
  {
   "cell_type": "markdown",
   "id": "7f3b92aa",
   "metadata": {},
   "source": [
    "### WLS"
   ]
  },
  {
   "cell_type": "code",
   "execution_count": 14,
   "id": "5ace2c7a",
   "metadata": {
    "ExecuteTime": {
     "end_time": "2023-10-21T03:37:17.300265Z",
     "start_time": "2023-10-21T03:37:17.293821Z"
    }
   },
   "outputs": [],
   "source": [
    "def esttab_wls(outcomes, x, weights, df, z=None, significant_digits=2):\n",
    "\n",
    "    ## Fit and store estimates\n",
    "    unadj_results = []\n",
    "    results = []\n",
    "    pvals = []\n",
    "    \n",
    "    # Store WLS estimates\n",
    "    for outcome in outcomes:\n",
    "        ## Set up regression models\n",
    "        if z is None:\n",
    "            wls_model = smf.wls(f\"{outcome} ~ {x}\", weights=weights, data=df)\n",
    "        else:\n",
    "            wls_model = smf.wls(f\"{outcome} ~ {x} + {z}\", weights=weights, data=df)\n",
    "        ## Estimate & store\n",
    "        results_ = wls_model.fit(cov_type=\"HC3\")\n",
    "        results.append(results_)\n",
    "        pvals.append(results_.pvalues[x])\n",
    "#     print(results_.summary())\n",
    "\n",
    "    ## Pvalue correction\n",
    "    reject, p_corrected, _, alphacBonf = multipletests(pvals, alpha=.01, method='bonferroni')\n",
    "    print(p_corrected)\n",
    "    print(f\"{alphacBonf=}\")\n",
    "    print(\"Rejected hypotheses:\", reject)\n",
    "\n",
    "    ## Report tables\n",
    "    stargazer = Stargazer(results)\n",
    "#     stargazer.significance_levels([alphacBonf]*3)\n",
    "    stargazer.significance_levels([.05,.01,alphacBonf])\n",
    "\n",
    "    ## Edit stargazer table (absent variables seem to be ignored)\n",
    "    coeflabels = {\n",
    "        \"rep\": \"Republican\", \n",
    "        \"C(gender)[T.2]\": \"Female\",\n",
    "        \"C(educ2)[T.2]\": \"Educ (HS)\",\n",
    "        \"C(educ2)[T.3]\": \"Educ (some coll.)\",\n",
    "        \"C(educ2)[T.4]\": \"Educ (coll. grad.)\",\n",
    "        \"age\": \"Age\",\n",
    "        \"age2\": \"Age$^2$\",        \n",
    "        \"C(race2)[T.2]\": \"Race (Black)\",\n",
    "        \"C(race2)[T.3]\": \"Race (Hispanic)\",\n",
    "        \"C(race2)[T.4]\": \"Race (Asian)\",\n",
    "        \"C(race2)[T.5]\": \"Race (Other)\",\n",
    "        \"C(region)[T.2]\": \"Region (MW)\",\n",
    "        \"C(region)[T.3]\": \"Region (South)\",\n",
    "        \"C(region)[T.4]\": \"Region (West)\",\n",
    "        \"Intercept\": \"Constant\", \n",
    "    }\n",
    "    stargazer.rename_covariates(coeflabels)\n",
    "    if z is None:\n",
    "        stargazer.covariate_order([\"rep\", \"Intercept\"])\n",
    "    else:\n",
    "        stargazer.covariate_order(coeflabels.keys())\n",
    "    stargazer.significant_digits(significant_digits)\n",
    "\n",
    "    ## Pare down to get LaTeX *fragment*\n",
    "    latex_str = stargazer.render_latex()\n",
    "    latex_fragment_str = \"\\n\".join(latex_str.split(\"\\n\")[6:-11])\n",
    "    # Remove the last \\\\ in the tex fragment to prevent the annoying\n",
    "    # \"Misplaced \\noalign\" LaTeX error when I use \\bottomrule\n",
    "    latex_fragment_str = latex_fragment_str[:-2]  \n",
    "    \n",
    "    ## Make sig stars compatible with downstream dcolumns in LaTeX\n",
    "    latex_fragment_str = latex_fragment_str.replace(\"$^{}$\", \"\")\n",
    "    latex_fragment_str = latex_fragment_str.replace(\"$^{*}$\", r\"\\sym{*}\")\n",
    "    latex_fragment_str = latex_fragment_str.replace(\"$^{**}$\", r\"\\sym{**}\")\n",
    "    latex_fragment_str = latex_fragment_str.replace(\"$^{***}$\", r\"\\sym{\\dagger}\")\n",
    "    return latex_fragment_str, stargazer"
   ]
  },
  {
   "cell_type": "code",
   "execution_count": 15,
   "id": "4853f212",
   "metadata": {
    "ExecuteTime": {
     "end_time": "2023-10-21T03:37:20.414165Z",
     "start_time": "2023-10-21T03:37:20.266368Z"
    }
   },
   "outputs": [
    {
     "name": "stdout",
     "output_type": "stream",
     "text": [
      "[1.         0.39151196 0.00272159 1.         1.         0.007024  ]\n",
      "alphacBonf=0.0016666666666666668\n",
      "Rejected hypotheses: [False False  True False False  True]\n"
     ]
    },
    {
     "data": {
      "text/html": [
       "<table style=\"text-align:center\"><tr><td colspan=\"7\" style=\"border-bottom: 1px solid black\"></td></tr>\n",
       "<tr><td style=\"text-align:left\"></td><tr><td style=\"text-align:left\"></td><td>(1)</td><td>(2)</td><td>(3)</td><td>(4)</td><td>(5)</td><td>(6)</td></tr>\n",
       "<tr><td colspan=\"7\" style=\"border-bottom: 1px solid black\"></td></tr>\n",
       "\n",
       "<tr><td style=\"text-align:left\">Republican</td><td>-0.004<sup></sup></td><td>0.028<sup></sup></td><td>0.042<sup>***</sup></td><td>0.004<sup></sup></td><td>-0.012<sup></sup></td><td>-0.058<sup>***</sup></td></tr>\n",
       "<tr><td style=\"text-align:left\"></td><td>(0.017)</td><td>(0.015)</td><td>(0.012)</td><td>(0.010)</td><td>(0.013)</td><td>(0.018)</td></tr>\n",
       "<tr><td style=\"text-align:left\">Constant</td><td>0.173<sup>***</sup></td><td>0.145<sup>***</sup></td><td>0.154<sup>***</sup></td><td>0.129<sup>***</sup></td><td>0.173<sup>***</sup></td><td>0.227<sup>***</sup></td></tr>\n",
       "<tr><td style=\"text-align:left\"></td><td>(0.013)</td><td>(0.009)</td><td>(0.008)</td><td>(0.006)</td><td>(0.008)</td><td>(0.010)</td></tr>\n",
       "\n",
       "<td colspan=\"7\" style=\"border-bottom: 1px solid black\"></td></tr>\n",
       "<tr><td style=\"text-align: left\">Observations</td><td>54540</td><td>54540</td><td>54540</td><td>54540</td><td>54540</td><td>54540</td></tr><tr><td style=\"text-align: left\">R<sup>2</sup></td><td>0.000</td><td>0.001</td><td>0.003</td><td>0.000</td><td>0.000</td><td>0.005</td></tr><tr><td style=\"text-align: left\">Adjusted R<sup>2</sup></td><td>0.000</td><td>0.001</td><td>0.003</td><td>0.000</td><td>0.000</td><td>0.005</td></tr><tr><td style=\"text-align: left\">Residual Std. Error</td><td>0.353 (df=54538)</td><td>0.367 (df=54538)</td><td>0.398 (df=54538)</td><td>0.360 (df=54538)</td><td>0.378 (df=54538)</td><td>0.376 (df=54538)</td></tr><tr><td style=\"text-align: left\">F Statistic</td><td>0.050<sup></sup> (df=1; 54538)</td><td>3.399<sup></sup> (df=1; 54538)</td><td>12.297<sup>***</sup> (df=1; 54538)</td><td>0.188<sup></sup> (df=1; 54538)</td><td>0.861<sup></sup> (df=1; 54538)</td><td>10.536<sup>***</sup> (df=1; 54538)</td></tr>\n",
       "<tr><td colspan=\"7\" style=\"border-bottom: 1px solid black\"></td></tr><tr><td style=\"text-align: left\">Note:</td><td colspan=\"6\" style=\"text-align: right\"><sup>*</sup>p&lt;0.05; <sup>**</sup>p&lt;0.01; <sup>***</sup>p&lt;0.0016666666666666668</td></tr></table>"
      ],
      "text/plain": [
       "<stargazer.stargazer.Stargazer at 0x7f9c668850f0>"
      ]
     },
     "execution_count": 15,
     "metadata": {},
     "output_type": "execute_result"
    }
   ],
   "source": [
    "latex_fragment_str, stargazer = esttab_wls(four_hour_bins, \"rep\", df[\"visit_minutes\"], df, significant_digits=3)\n",
    "with open(f\"../tabs/regtab_wls_visit_timing_4hrbins.tex\", \"w\") as tf:\n",
    "    tf.write(latex_fragment_str)\n",
    "\n",
    "stargazer"
   ]
  },
  {
   "cell_type": "code",
   "execution_count": 16,
   "id": "fc795cf7",
   "metadata": {
    "ExecuteTime": {
     "end_time": "2023-10-21T03:37:28.436761Z",
     "start_time": "2023-10-21T03:37:23.760990Z"
    },
    "scrolled": false
   },
   "outputs": [
    {
     "name": "stdout",
     "output_type": "stream",
     "text": [
      "[7.31166719e-04 1.00000000e+00 4.96007088e-01 1.94012704e-02\n",
      " 1.00000000e+00 1.00000000e+00]\n",
      "alphacBonf=0.0016666666666666668\n",
      "Rejected hypotheses: [ True False False False False False]\n"
     ]
    },
    {
     "data": {
      "text/html": [
       "<table style=\"text-align:center\"><tr><td colspan=\"7\" style=\"border-bottom: 1px solid black\"></td></tr>\n",
       "<tr><td style=\"text-align:left\"></td><tr><td style=\"text-align:left\"></td><td>(1)</td><td>(2)</td><td>(3)</td><td>(4)</td><td>(5)</td><td>(6)</td></tr>\n",
       "<tr><td colspan=\"7\" style=\"border-bottom: 1px solid black\"></td></tr>\n",
       "\n",
       "<tr><td style=\"text-align:left\">Republican</td><td>0.047<sup>***</sup></td><td>-0.012<sup></sup></td><td>0.035<sup></sup></td><td>-0.040<sup>**</sup></td><td>-0.007<sup></sup></td><td>-0.023<sup></sup></td></tr>\n",
       "<tr><td style=\"text-align:left\"></td><td>(0.012)</td><td>(0.013)</td><td>(0.020)</td><td>(0.013)</td><td>(0.018)</td><td>(0.018)</td></tr>\n",
       "<tr><td style=\"text-align:left\">Female</td><td>0.233<sup>***</sup></td><td>0.019<sup></sup></td><td>-0.086<sup>***</sup></td><td>-0.077<sup>***</sup></td><td>-0.058<sup>**</sup></td><td>-0.031<sup></sup></td></tr>\n",
       "<tr><td style=\"text-align:left\"></td><td>(0.025)</td><td>(0.019)</td><td>(0.023)</td><td>(0.013)</td><td>(0.020)</td><td>(0.020)</td></tr>\n",
       "<tr><td style=\"text-align:left\">Educ (HS)</td><td>0.064<sup></sup></td><td>0.045<sup></sup></td><td>0.040<sup>*</sup></td><td>0.032<sup></sup></td><td>-0.118<sup>***</sup></td><td>-0.062<sup></sup></td></tr>\n",
       "<tr><td style=\"text-align:left\"></td><td>(0.033)</td><td>(0.036)</td><td>(0.017)</td><td>(0.018)</td><td>(0.032)</td><td>(0.045)</td></tr>\n",
       "<tr><td style=\"text-align:left\">Educ (some coll.)</td><td>-0.025<sup></sup></td><td>0.027<sup></sup></td><td>0.158<sup>***</sup></td><td>0.035<sup>*</sup></td><td>-0.095<sup>**</sup></td><td>-0.101<sup>*</sup></td></tr>\n",
       "<tr><td style=\"text-align:left\"></td><td>(0.030)</td><td>(0.037)</td><td>(0.018)</td><td>(0.017)</td><td>(0.033)</td><td>(0.044)</td></tr>\n",
       "<tr><td style=\"text-align:left\">Educ (coll. grad.)</td><td>-0.007<sup></sup></td><td>-0.019<sup></sup></td><td>0.121<sup>***</sup></td><td>0.040<sup>*</sup></td><td>-0.041<sup></sup></td><td>-0.093<sup>*</sup></td></tr>\n",
       "<tr><td style=\"text-align:left\"></td><td>(0.031)</td><td>(0.035)</td><td>(0.018)</td><td>(0.018)</td><td>(0.032)</td><td>(0.042)</td></tr>\n",
       "<tr><td style=\"text-align:left\">Age</td><td>0.006<sup>*</sup></td><td>0.011<sup>***</sup></td><td>-0.007<sup>**</sup></td><td>-0.001<sup></sup></td><td>-0.008<sup>***</sup></td><td>-0.001<sup></sup></td></tr>\n",
       "<tr><td style=\"text-align:left\"></td><td>(0.002)</td><td>(0.003)</td><td>(0.002)</td><td>(0.002)</td><td>(0.002)</td><td>(0.003)</td></tr>\n",
       "<tr><td style=\"text-align:left\">Age$^2$</td><td>-0.000<sup></sup></td><td>-0.000<sup>***</sup></td><td>0.000<sup>***</sup></td><td>0.000<sup></sup></td><td>0.000<sup>*</sup></td><td>-0.000<sup></sup></td></tr>\n",
       "<tr><td style=\"text-align:left\"></td><td>(0.000)</td><td>(0.000)</td><td>(0.000)</td><td>(0.000)</td><td>(0.000)</td><td>(0.000)</td></tr>\n",
       "<tr><td style=\"text-align:left\">Race (Black)</td><td>0.144<sup>***</sup></td><td>-0.066<sup>***</sup></td><td>-0.024<sup></sup></td><td>-0.041<sup>**</sup></td><td>-0.071<sup>***</sup></td><td>0.058<sup>**</sup></td></tr>\n",
       "<tr><td style=\"text-align:left\"></td><td>(0.019)</td><td>(0.014)</td><td>(0.020)</td><td>(0.016)</td><td>(0.019)</td><td>(0.022)</td></tr>\n",
       "<tr><td style=\"text-align:left\">Race (Hispanic)</td><td>0.010<sup></sup></td><td>-0.031<sup></sup></td><td>0.004<sup></sup></td><td>-0.059<sup>***</sup></td><td>0.053<sup>*</sup></td><td>0.022<sup></sup></td></tr>\n",
       "<tr><td style=\"text-align:left\"></td><td>(0.023)</td><td>(0.021)</td><td>(0.023)</td><td>(0.016)</td><td>(0.023)</td><td>(0.022)</td></tr>\n",
       "<tr><td style=\"text-align:left\">Race (Asian)</td><td>0.101<sup>***</sup></td><td>0.065<sup>**</sup></td><td>-0.086<sup>***</sup></td><td>-0.105<sup>***</sup></td><td>-0.021<sup></sup></td><td>0.046<sup></sup></td></tr>\n",
       "<tr><td style=\"text-align:left\"></td><td>(0.029)</td><td>(0.024)</td><td>(0.024)</td><td>(0.015)</td><td>(0.025)</td><td>(0.028)</td></tr>\n",
       "<tr><td style=\"text-align:left\">Race (Other)</td><td>-0.002<sup></sup></td><td>0.037<sup></sup></td><td>0.030<sup></sup></td><td>0.069<sup>**</sup></td><td>-0.045<sup>*</sup></td><td>-0.089<sup>***</sup></td></tr>\n",
       "<tr><td style=\"text-align:left\"></td><td>(0.018)</td><td>(0.022)</td><td>(0.023)</td><td>(0.022)</td><td>(0.020)</td><td>(0.015)</td></tr>\n",
       "<tr><td style=\"text-align:left\">Region (MW)</td><td>-0.051<sup>**</sup></td><td>-0.040<sup></sup></td><td>0.066<sup>***</sup></td><td>0.053<sup>***</sup></td><td>0.113<sup>***</sup></td><td>0.059<sup>*</sup></td></tr>\n",
       "<tr><td style=\"text-align:left\"></td><td>(0.019)</td><td>(0.023)</td><td>(0.016)</td><td>(0.016)</td><td>(0.022)</td><td>(0.027)</td></tr>\n",
       "<tr><td style=\"text-align:left\">Region (South)</td><td>0.024<sup></sup></td><td>-0.086<sup>***</sup></td><td>0.002<sup></sup></td><td>0.010<sup></sup></td><td>0.096<sup>***</sup></td><td>0.154<sup>***</sup></td></tr>\n",
       "<tr><td style=\"text-align:left\"></td><td>(0.014)</td><td>(0.013)</td><td>(0.013)</td><td>(0.011)</td><td>(0.013)</td><td>(0.017)</td></tr>\n",
       "<tr><td style=\"text-align:left\">Region (West)</td><td>0.014<sup></sup></td><td>-0.014<sup></sup></td><td>0.034<sup>*</sup></td><td>0.052<sup>***</sup></td><td>0.057<sup>***</sup></td><td>0.057<sup>**</sup></td></tr>\n",
       "<tr><td style=\"text-align:left\"></td><td>(0.016)</td><td>(0.015)</td><td>(0.015)</td><td>(0.011)</td><td>(0.014)</td><td>(0.019)</td></tr>\n",
       "<tr><td style=\"text-align:left\">Constant</td><td>-0.106<sup>*</sup></td><td>-0.130<sup>*</sup></td><td>0.225<sup>***</sup></td><td>0.147<sup>***</sup></td><td>0.371<sup>***</sup></td><td>0.293<sup>***</sup></td></tr>\n",
       "<tr><td style=\"text-align:left\"></td><td>(0.053)</td><td>(0.058)</td><td>(0.038)</td><td>(0.034)</td><td>(0.050)</td><td>(0.071)</td></tr>\n",
       "\n",
       "<td colspan=\"7\" style=\"border-bottom: 1px solid black\"></td></tr>\n",
       "<tr><td style=\"text-align: left\">Observations</td><td>54540</td><td>54540</td><td>54540</td><td>54540</td><td>54540</td><td>54540</td></tr><tr><td style=\"text-align: left\">R<sup>2</sup></td><td>0.081</td><td>0.031</td><td>0.039</td><td>0.025</td><td>0.025</td><td>0.054</td></tr><tr><td style=\"text-align: left\">Adjusted R<sup>2</sup></td><td>0.081</td><td>0.030</td><td>0.038</td><td>0.024</td><td>0.025</td><td>0.054</td></tr><tr><td style=\"text-align: left\">Residual Std. Error</td><td>0.343 (df=54519)</td><td>0.361 (df=54519)</td><td>0.396 (df=54519)</td><td>0.357 (df=54519)</td><td>0.377 (df=54519)</td><td>0.364 (df=54519)</td></tr><tr><td style=\"text-align: left\">F Statistic</td><td>47.948<sup>***</sup> (df=20; 54519)</td><td>51.332<sup>***</sup> (df=20; 54519)</td><td>56.541<sup>***</sup> (df=20; 54519)</td><td>52.718<sup>***</sup> (df=20; 54519)</td><td>54.706<sup>***</sup> (df=20; 54519)</td><td>61.476<sup>***</sup> (df=20; 54519)</td></tr>\n",
       "<tr><td colspan=\"7\" style=\"border-bottom: 1px solid black\"></td></tr><tr><td style=\"text-align: left\">Note:</td><td colspan=\"6\" style=\"text-align: right\"><sup>*</sup>p&lt;0.05; <sup>**</sup>p&lt;0.01; <sup>***</sup>p&lt;0.0016666666666666668</td></tr></table>"
      ],
      "text/plain": [
       "<stargazer.stargazer.Stargazer at 0x7f9c64f76fb0>"
      ]
     },
     "execution_count": 16,
     "metadata": {},
     "output_type": "execute_result"
    }
   ],
   "source": [
    "latex_fragment_str, stargazer = esttab_wls(four_hour_bins, \"rep\", df[\"visit_minutes\"], z=z, df=df, significant_digits=3)\n",
    "with open(f\"../tabs/regtab_wls_visit_timing_4hrbins_adjusted.tex\", \"w\") as tf:\n",
    "    tf.write(latex_fragment_str)\n",
    "    \n",
    "stargazer"
   ]
  },
  {
   "cell_type": "markdown",
   "id": "1cbc4bc4",
   "metadata": {
    "ExecuteTime": {
     "end_time": "2023-10-19T02:07:57.145940Z",
     "start_time": "2023-10-19T02:07:57.121891Z"
    },
    "scrolled": true
   },
   "source": [
    "## Plot"
   ]
  },
  {
   "cell_type": "code",
   "execution_count": 17,
   "id": "54de104c",
   "metadata": {
    "ExecuteTime": {
     "end_time": "2023-10-21T03:37:30.086966Z",
     "start_time": "2023-10-21T03:37:29.946057Z"
    }
   },
   "outputs": [
    {
     "data": {
      "text/html": [
       "<div>\n",
       "<style scoped>\n",
       "    .dataframe tbody tr th:only-of-type {\n",
       "        vertical-align: middle;\n",
       "    }\n",
       "\n",
       "    .dataframe tbody tr th {\n",
       "        vertical-align: top;\n",
       "    }\n",
       "\n",
       "    .dataframe thead th {\n",
       "        text-align: right;\n",
       "    }\n",
       "</style>\n",
       "<table border=\"1\" class=\"dataframe\">\n",
       "  <thead>\n",
       "    <tr style=\"text-align: right;\">\n",
       "      <th></th>\n",
       "      <th>estimate</th>\n",
       "      <th>ll</th>\n",
       "      <th>hl</th>\n",
       "      <th>pval</th>\n",
       "      <th>time</th>\n",
       "      <th>ix</th>\n",
       "    </tr>\n",
       "  </thead>\n",
       "  <tbody>\n",
       "    <tr>\n",
       "      <th>0</th>\n",
       "      <td>-0.003920</td>\n",
       "      <td>-0.038208</td>\n",
       "      <td>0.030368</td>\n",
       "      <td>0.822700</td>\n",
       "      <td>time_4am_8am</td>\n",
       "      <td>0.95</td>\n",
       "    </tr>\n",
       "    <tr>\n",
       "      <th>1</th>\n",
       "      <td>0.028035</td>\n",
       "      <td>-0.001771</td>\n",
       "      <td>0.057840</td>\n",
       "      <td>0.065252</td>\n",
       "      <td>time_8am_12pm</td>\n",
       "      <td>1.95</td>\n",
       "    </tr>\n",
       "    <tr>\n",
       "      <th>2</th>\n",
       "      <td>0.041992</td>\n",
       "      <td>0.018522</td>\n",
       "      <td>0.065462</td>\n",
       "      <td>0.000454</td>\n",
       "      <td>time_12pm_4pm</td>\n",
       "      <td>2.95</td>\n",
       "    </tr>\n",
       "    <tr>\n",
       "      <th>3</th>\n",
       "      <td>0.004260</td>\n",
       "      <td>-0.015018</td>\n",
       "      <td>0.023538</td>\n",
       "      <td>0.664916</td>\n",
       "      <td>time_4pm_8pm</td>\n",
       "      <td>3.95</td>\n",
       "    </tr>\n",
       "    <tr>\n",
       "      <th>4</th>\n",
       "      <td>-0.012126</td>\n",
       "      <td>-0.037742</td>\n",
       "      <td>0.013489</td>\n",
       "      <td>0.353497</td>\n",
       "      <td>time_8pm_12am</td>\n",
       "      <td>4.95</td>\n",
       "    </tr>\n",
       "    <tr>\n",
       "      <th>5</th>\n",
       "      <td>-0.058241</td>\n",
       "      <td>-0.093409</td>\n",
       "      <td>-0.023074</td>\n",
       "      <td>0.001171</td>\n",
       "      <td>time_12am_4am</td>\n",
       "      <td>5.95</td>\n",
       "    </tr>\n",
       "  </tbody>\n",
       "</table>\n",
       "</div>"
      ],
      "text/plain": [
       "   estimate        ll        hl      pval           time    ix\n",
       "0 -0.003920 -0.038208  0.030368  0.822700   time_4am_8am  0.95\n",
       "1  0.028035 -0.001771  0.057840  0.065252  time_8am_12pm  1.95\n",
       "2  0.041992  0.018522  0.065462  0.000454  time_12pm_4pm  2.95\n",
       "3  0.004260 -0.015018  0.023538  0.664916   time_4pm_8pm  3.95\n",
       "4 -0.012126 -0.037742  0.013489  0.353497  time_8pm_12am  4.95\n",
       "5 -0.058241 -0.093409 -0.023074  0.001171  time_12am_4am  5.95"
      ]
     },
     "execution_count": 17,
     "metadata": {},
     "output_type": "execute_result"
    }
   ],
   "source": [
    "unadj_results = []\n",
    "for outcome in four_hour_bins:\n",
    "    wls_model = smf.wls(f\"{outcome} ~ {x}\", weights=df[\"visit_minutes\"], data=df)\n",
    "    ## Estimate & store\n",
    "    results_ = wls_model.fit(cov_type=\"HC3\")\n",
    "    dict_ = dict(\n",
    "            estimate=results_.params[x],\n",
    "            ll=results_.conf_int().loc[x][0],  # CI ll\n",
    "            hl=results_.conf_int().loc[x][1],  # CI hl\n",
    "            pval=results_.pvalues[x],\n",
    "        )\n",
    "    unadj_results.append(dict_)\n",
    "    \n",
    "df_unadj_plot = (\n",
    "    pd.DataFrame(unadj_results)\n",
    "    .assign(time=four_hour_bins)\n",
    "    .assign(ix=range(1,7))\n",
    "    .assign(ix=lambda df_: df_[\"ix\"]-.05)\n",
    ")\n",
    "df_unadj_plot    "
   ]
  },
  {
   "cell_type": "code",
   "execution_count": 18,
   "id": "d963bee9",
   "metadata": {
    "ExecuteTime": {
     "end_time": "2023-10-21T03:37:35.994852Z",
     "start_time": "2023-10-21T03:37:31.397245Z"
    }
   },
   "outputs": [
    {
     "data": {
      "text/html": [
       "<div>\n",
       "<style scoped>\n",
       "    .dataframe tbody tr th:only-of-type {\n",
       "        vertical-align: middle;\n",
       "    }\n",
       "\n",
       "    .dataframe tbody tr th {\n",
       "        vertical-align: top;\n",
       "    }\n",
       "\n",
       "    .dataframe thead th {\n",
       "        text-align: right;\n",
       "    }\n",
       "</style>\n",
       "<table border=\"1\" class=\"dataframe\">\n",
       "  <thead>\n",
       "    <tr style=\"text-align: right;\">\n",
       "      <th></th>\n",
       "      <th>estimate</th>\n",
       "      <th>ll</th>\n",
       "      <th>hl</th>\n",
       "      <th>pval</th>\n",
       "      <th>time</th>\n",
       "      <th>ix</th>\n",
       "    </tr>\n",
       "  </thead>\n",
       "  <tbody>\n",
       "    <tr>\n",
       "      <th>0</th>\n",
       "      <td>0.047034</td>\n",
       "      <td>0.023042</td>\n",
       "      <td>0.071026</td>\n",
       "      <td>0.000122</td>\n",
       "      <td>time_4am_8am</td>\n",
       "      <td>1.05</td>\n",
       "    </tr>\n",
       "    <tr>\n",
       "      <th>1</th>\n",
       "      <td>-0.012197</td>\n",
       "      <td>-0.037841</td>\n",
       "      <td>0.013447</td>\n",
       "      <td>0.351212</td>\n",
       "      <td>time_8am_12pm</td>\n",
       "      <td>2.05</td>\n",
       "    </tr>\n",
       "    <tr>\n",
       "      <th>2</th>\n",
       "      <td>0.035030</td>\n",
       "      <td>-0.004533</td>\n",
       "      <td>0.074592</td>\n",
       "      <td>0.082668</td>\n",
       "      <td>time_12pm_4pm</td>\n",
       "      <td>3.05</td>\n",
       "    </tr>\n",
       "    <tr>\n",
       "      <th>3</th>\n",
       "      <td>-0.039577</td>\n",
       "      <td>-0.065920</td>\n",
       "      <td>-0.013234</td>\n",
       "      <td>0.003234</td>\n",
       "      <td>time_4pm_8pm</td>\n",
       "      <td>4.05</td>\n",
       "    </tr>\n",
       "    <tr>\n",
       "      <th>4</th>\n",
       "      <td>-0.007390</td>\n",
       "      <td>-0.041840</td>\n",
       "      <td>0.027060</td>\n",
       "      <td>0.674171</td>\n",
       "      <td>time_8pm_12am</td>\n",
       "      <td>5.05</td>\n",
       "    </tr>\n",
       "    <tr>\n",
       "      <th>5</th>\n",
       "      <td>-0.022900</td>\n",
       "      <td>-0.058141</td>\n",
       "      <td>0.012342</td>\n",
       "      <td>0.202812</td>\n",
       "      <td>time_12am_4am</td>\n",
       "      <td>6.05</td>\n",
       "    </tr>\n",
       "  </tbody>\n",
       "</table>\n",
       "</div>"
      ],
      "text/plain": [
       "   estimate        ll        hl      pval           time    ix\n",
       "0  0.047034  0.023042  0.071026  0.000122   time_4am_8am  1.05\n",
       "1 -0.012197 -0.037841  0.013447  0.351212  time_8am_12pm  2.05\n",
       "2  0.035030 -0.004533  0.074592  0.082668  time_12pm_4pm  3.05\n",
       "3 -0.039577 -0.065920 -0.013234  0.003234   time_4pm_8pm  4.05\n",
       "4 -0.007390 -0.041840  0.027060  0.674171  time_8pm_12am  5.05\n",
       "5 -0.022900 -0.058141  0.012342  0.202812  time_12am_4am  6.05"
      ]
     },
     "execution_count": 18,
     "metadata": {},
     "output_type": "execute_result"
    }
   ],
   "source": [
    "adj_results = []\n",
    "for outcome in four_hour_bins:\n",
    "    wls_model = smf.wls(f\"{outcome} ~ {x} + {z}\", weights=df[\"visit_minutes\"], data=df)\n",
    "    ## Estimate & store\n",
    "    results_ = wls_model.fit(cov_type=\"HC3\")\n",
    "    dict_ = dict(\n",
    "            estimate=results_.params[x],\n",
    "            ll=results_.conf_int().loc[x][0],  # CI ll\n",
    "            hl=results_.conf_int().loc[x][1],  # CI hl\n",
    "            pval=results_.pvalues[x],\n",
    "        )\n",
    "    adj_results.append(dict_)\n",
    "    \n",
    "\n",
    "df_adj_plot = (\n",
    "    pd.DataFrame(adj_results)\n",
    "    .assign(time=four_hour_bins)\n",
    "    .assign(ix=range(1,7))\n",
    "    .assign(ix=lambda df_: df_[\"ix\"]+.05)\n",
    ")\n",
    "df_adj_plot"
   ]
  },
  {
   "cell_type": "code",
   "execution_count": 19,
   "id": "65136da8",
   "metadata": {
    "ExecuteTime": {
     "end_time": "2023-10-21T03:37:36.081174Z",
     "start_time": "2023-10-21T03:37:35.999553Z"
    }
   },
   "outputs": [],
   "source": [
    "import matplotlib.pyplot as plt\n",
    "import seaborn as sns\n",
    "sns.set_theme(context=\"notebook\", font_scale=1.3, style='white')"
   ]
  },
  {
   "cell_type": "code",
   "execution_count": 20,
   "id": "a0e872ed",
   "metadata": {
    "ExecuteTime": {
     "end_time": "2023-10-21T03:37:37.945004Z",
     "start_time": "2023-10-21T03:37:37.942330Z"
    }
   },
   "outputs": [],
   "source": [
    "import matplotlib.lines as mlines\n"
   ]
  },
  {
   "cell_type": "code",
   "execution_count": 21,
   "id": "57038e29",
   "metadata": {
    "ExecuteTime": {
     "end_time": "2023-10-21T03:37:38.215401Z",
     "start_time": "2023-10-21T03:37:38.211647Z"
    }
   },
   "outputs": [
    {
     "data": {
      "text/plain": [
       "0.047034284454459764"
      ]
     },
     "execution_count": 21,
     "metadata": {},
     "output_type": "execute_result"
    }
   ],
   "source": [
    "df_adj_plot.loc[0, \"estimate\"]"
   ]
  },
  {
   "cell_type": "code",
   "execution_count": 29,
   "id": "3ebc9480",
   "metadata": {
    "ExecuteTime": {
     "end_time": "2023-10-21T03:48:27.071326Z",
     "start_time": "2023-10-21T03:48:26.471324Z"
    }
   },
   "outputs": [
    {
     "data": {
      "image/png": "[encoded data removed]",
      "text/plain": [
       "<Figure size 720x540 with 1 Axes>"
      ]
     },
     "metadata": {
      "needs_background": "light"
     },
     "output_type": "display_data"
    }
   ],
   "source": [
    "_scale=2.5\n",
    "_, ax = plt.subplots(figsize=(4*_scale,3*_scale))\n",
    "\n",
    "SCATTER_OPTS = dict(y=\"estimate\", x=\"ix\", s=250, linewidth=1.5, color=\"1\")\n",
    "CI_OPTS = dict(y=\"estimate\", x=\"ix\", ls=\"none\", linewidth=1.2, zorder=0)\n",
    "ADJ_COLOR = \".2\"\n",
    "UNADJ_COLOR = \".5\"\n",
    "UNADJ_MSYMBOL = \"o\"\n",
    "ADJ_MSYMBOL = \"s\"\n",
    "UNADJ_LS = \"-.\"\n",
    "\n",
    "ax.scatter(\n",
    "    data=df_unadj_plot, \n",
    "    marker=UNADJ_MSYMBOL,\n",
    "    edgecolors=UNADJ_COLOR,\n",
    "    **SCATTER_OPTS,\n",
    ")\n",
    "\n",
    "eb = ax.errorbar(\n",
    "    data=df_unadj_plot,\n",
    "    yerr=[df_unadj_plot[\"estimate\"] - df_unadj_plot[\"ll\"], df_unadj_plot[\"hl\"] - df_unadj_plot[\"estimate\"]],\n",
    "    color=UNADJ_COLOR,\n",
    "    **CI_OPTS,\n",
    ")\n",
    "eb[-1][0].set_linestyle(UNADJ_LS)\n",
    "    \n",
    "ax.scatter(\n",
    "    data=df_adj_plot,\n",
    "    marker=ADJ_MSYMBOL,\n",
    "    edgecolors=ADJ_COLOR,\n",
    "    **SCATTER_OPTS,\n",
    ")\n",
    "\n",
    "ax.errorbar(\n",
    "    data=df_adj_plot,\n",
    "    yerr=[df_adj_plot[\"estimate\"] - df_adj_plot[\"ll\"], df_adj_plot[\"hl\"] - df_adj_plot[\"estimate\"]],\n",
    "    color=ADJ_COLOR,\n",
    "    **CI_OPTS,\n",
    ")\n",
    "\n",
    "MLINE_OPTS = dict( markerfacecolor=\"1\", markersize=15,)\n",
    "unadj_hand = mlines.Line2D([], [], \n",
    "                         color=UNADJ_COLOR,markeredgecolor=UNADJ_COLOR, marker=UNADJ_MSYMBOL, ls=UNADJ_LS,\n",
    "                          label='Unajdusted', **MLINE_OPTS\n",
    "                        )\n",
    "adj_hand = mlines.Line2D([], [], \n",
    "                         color=ADJ_COLOR, marker=ADJ_MSYMBOL, ls=\"-\",\n",
    "                         label='Ajdusted', **MLINE_OPTS\n",
    "                        )\n",
    "custom_legend = plt.legend(\n",
    "    handles=[unadj_hand, adj_hand], \n",
    "    handlelength=5, \n",
    "    handletextpad=.9,\n",
    "    labelspacing=1,\n",
    "    title=\"Model estimate\", \n",
    "    frameon=False,\n",
    "    loc=\"best\",\n",
    "    prop={'weight':'bold', \"size\":13},\n",
    ")\n",
    "custom_legend._legend_box.align = \"left\"\n",
    "custom_legend.get_title().set_weight(\"bold\")\n",
    "\n",
    "ax.annotate(\n",
    "    \"Sig. at 1% level\\nafter Bonferroni correction\", \n",
    "    color=\".3\",\n",
    "    fontsize=15,\n",
    "    xy=(1.08, df_adj_plot.loc[0, \"estimate\"]+.005), \n",
    "    xytext=(1.4, .082), \n",
    "    arrowprops=dict(facecolor='.4', shrink=0.01, width=3,)\n",
    ")\n",
    "plt.axhline(y=0, color='navy', alpha=.1, linewidth=3, linestyle='-', zorder=0)\n",
    "ax.set_yticks([-.1, -.05, 0, .05, .1])\n",
    "ax.set_xticks(range(1, 7))\n",
    "ax.set_xlabel(\"Time-of-day window\", fontsize=15)\n",
    "ax.set_ylabel(\"Estimates of partisan differences by\\ntime-of-day visit to online pornography sites\\n(weighted by visit duration)\", fontsize=15)\n",
    "ax.set_xticklabels([\"4am\\u20148am\", \"8am\\u201412pm\", \"12pm\\u20144pm\" ,\"4pm\\u20148pm\", \"8pm\\u201412am\", \"12am\\u20144am\"]) # 0.5 is half of the \"1\" auto width\n",
    "plt.tight_layout()\n",
    "save_mpl_fig(os.path.join(FIGSAVEDIR, \"time-of-day-wls-estimates\"))"
   ]
  },
  {
   "cell_type": "code",
   "execution_count": null,
   "id": "0f93d45a",
   "metadata": {},
   "outputs": [],
   "source": []
  },
  {
   "cell_type": "code",
   "execution_count": null,
   "id": "fc33dc4e",
   "metadata": {},
   "outputs": [],
   "source": []
  },
  {
   "cell_type": "markdown",
   "id": "4e760fe3",
   "metadata": {},
   "source": [
    "## 2 hour bins"
   ]
  },
  {
   "cell_type": "code",
   "execution_count": 30,
   "id": "6c966cc9",
   "metadata": {
    "ExecuteTime": {
     "end_time": "2023-10-21T03:49:34.426669Z",
     "start_time": "2023-10-21T03:49:34.047992Z"
    }
   },
   "outputs": [
    {
     "name": "stdout",
     "output_type": "stream",
     "text": [
      "[1.00000000e+00 1.00000000e+00 7.69237137e-02 4.70796386e-08\n",
      " 4.35068243e-01 1.00000000e+00 1.00000000e+00 1.00000000e+00\n",
      " 1.00000000e+00 1.92914709e-01 5.71226524e-06 1.00000000e+00]\n",
      "alphacBonf=0.0008333333333333334\n",
      "Rejected hypotheses: [False False False  True False False False False False False  True False]\n"
     ]
    },
    {
     "data": {
      "text/html": [
       "<table style=\"text-align:center\"><tr><td colspan=\"13\" style=\"border-bottom: 1px solid black\"></td></tr>\n",
       "<tr><td style=\"text-align:left\"></td><tr><td style=\"text-align:left\"></td><td>(1)</td><td>(2)</td><td>(3)</td><td>(4)</td><td>(5)</td><td>(6)</td><td>(7)</td><td>(8)</td><td>(9)</td><td>(10)</td><td>(11)</td><td>(12)</td></tr>\n",
       "<tr><td colspan=\"13\" style=\"border-bottom: 1px solid black\"></td></tr>\n",
       "\n",
       "<tr><td style=\"text-align:left\">Republican</td><td>0.002<sup></sup></td><td>0.000<sup></sup></td><td>-0.025<sup>**</sup></td><td>0.066<sup>***</sup></td><td>0.019<sup>*</sup></td><td>-0.002<sup></sup></td><td>0.009<sup></sup></td><td>0.003<sup></sup></td><td>-0.002<sup></sup></td><td>-0.028<sup>*</sup></td><td>-0.047<sup>***</sup></td><td>0.003<sup></sup></td></tr>\n",
       "<tr><td style=\"text-align:left\"></td><td>(0.012)</td><td>(0.010)</td><td>(0.009)</td><td>(0.011)</td><td>(0.009)</td><td>(0.007)</td><td>(0.007)</td><td>(0.009)</td><td>(0.009)</td><td>(0.011)</td><td>(0.009)</td><td>(0.019)</td></tr>\n",
       "<tr><td style=\"text-align:left\">Constant</td><td>0.085<sup>***</sup></td><td>0.065<sup>***</sup></td><td>0.091<sup>***</sup></td><td>0.052<sup>***</sup></td><td>0.087<sup>***</sup></td><td>0.080<sup>***</sup></td><td>0.060<sup>***</sup></td><td>0.061<sup>***</sup></td><td>0.081<sup>***</sup></td><td>0.122<sup>***</sup></td><td>0.107<sup>***</sup></td><td>0.108<sup>***</sup></td></tr>\n",
       "<tr><td style=\"text-align:left\"></td><td>(0.010)</td><td>(0.005)</td><td>(0.008)</td><td>(0.006)</td><td>(0.005)</td><td>(0.005)</td><td>(0.004)</td><td>(0.005)</td><td>(0.005)</td><td>(0.007)</td><td>(0.007)</td><td>(0.011)</td></tr>\n",
       "\n",
       "<td colspan=\"13\" style=\"border-bottom: 1px solid black\"></td></tr>\n",
       "<tr><td style=\"text-align: left\">Observations</td><td>54540</td><td>54540</td><td>54540</td><td>54540</td><td>54540</td><td>54540</td><td>54540</td><td>54540</td><td>54540</td><td>54540</td><td>54540</td><td>54540</td></tr><tr><td style=\"text-align: left\">R<sup>2</sup></td><td>0.000</td><td>0.000</td><td>0.002</td><td>0.014</td><td>0.001</td><td>0.000</td><td>0.000</td><td>0.000</td><td>0.000</td><td>0.002</td><td>0.007</td><td>0.000</td></tr><tr><td style=\"text-align: left\">Adjusted R<sup>2</sup></td><td>0.000</td><td>-0.000</td><td>0.002</td><td>0.014</td><td>0.001</td><td>-0.000</td><td>0.000</td><td>0.000</td><td>-0.000</td><td>0.002</td><td>0.007</td><td>0.000</td></tr><tr><td style=\"text-align: left\">Residual Std. Error</td><td>0.274 (df=54538)</td><td>0.252 (df=54538)</td><td>0.279 (df=54538)</td><td>0.281 (df=54538)</td><td>0.310 (df=54538)</td><td>0.300 (df=54538)</td><td>0.259 (df=54538)</td><td>0.240 (df=54538)</td><td>0.278 (df=54538)</td><td>0.313 (df=54538)</td><td>0.277 (df=54538)</td><td>0.238 (df=54538)</td></tr><tr><td style=\"text-align: left\">F Statistic</td><td>0.043<sup></sup> (df=1; 54538)</td><td>0.002<sup></sup> (df=1; 54538)</td><td>7.431<sup>**</sup> (df=1; 54538)</td><td>34.661<sup>***</sup> (df=1; 54538)</td><td>4.385<sup>*</sup> (df=1; 54538)</td><td>0.084<sup></sup> (df=1; 54538)</td><td>2.013<sup></sup> (df=1; 54538)</td><td>0.128<sup></sup> (df=1; 54538)</td><td>0.052<sup></sup> (df=1; 54538)</td><td>5.795<sup>*</sup> (df=1; 54538)</td><td>25.359<sup>***</sup> (df=1; 54538)</td><td>0.026<sup></sup> (df=1; 54538)</td></tr>\n",
       "<tr><td colspan=\"13\" style=\"border-bottom: 1px solid black\"></td></tr><tr><td style=\"text-align: left\">Note:</td><td colspan=\"12\" style=\"text-align: right\"><sup>*</sup>p&lt;0.05; <sup>**</sup>p&lt;0.01; <sup>***</sup>p&lt;0.0008333333333333334</td></tr></table>"
      ],
      "text/plain": [
       "<stargazer.stargazer.Stargazer at 0x7f9c65393d00>"
      ]
     },
     "execution_count": 30,
     "metadata": {},
     "output_type": "execute_result"
    }
   ],
   "source": [
    "latex_fragment_str, stargazer = esttab_wls(two_hour_bins, \"rep\", df[\"visit_minutes\"], df, significant_digits=3)\n",
    "# with open(f\"../tabs/regtab_wls_visit_timing_4hrbins.tex\", \"w\") as tf:\n",
    "#     tf.write(latex_fragment_str)\n",
    "\n",
    "stargazer"
   ]
  },
  {
   "cell_type": "code",
   "execution_count": 31,
   "id": "32d2d3a9",
   "metadata": {
    "ExecuteTime": {
     "end_time": "2023-10-21T03:49:35.389097Z",
     "start_time": "2023-10-21T03:49:35.385349Z"
    }
   },
   "outputs": [
    {
     "data": {
      "text/plain": [
       "['time_5am_7am',\n",
       " 'time_7am_9am',\n",
       " 'time_9am_11am',\n",
       " 'time_11am_1pm',\n",
       " 'time_1pm_3pm',\n",
       " 'time_3pm_5pm',\n",
       " 'time_5pm_7pm',\n",
       " 'time_7pm_9pm',\n",
       " 'time_9pm_11pm',\n",
       " 'time_11pm_1am',\n",
       " 'time_1am_3am',\n",
       " 'time_3am_5am']"
      ]
     },
     "execution_count": 31,
     "metadata": {},
     "output_type": "execute_result"
    }
   ],
   "source": [
    "two_hour_bins"
   ]
  },
  {
   "cell_type": "code",
   "execution_count": 32,
   "id": "6383f78d",
   "metadata": {
    "ExecuteTime": {
     "end_time": "2023-10-21T03:49:45.853535Z",
     "start_time": "2023-10-21T03:49:36.021942Z"
    },
    "scrolled": false
   },
   "outputs": [
    {
     "name": "stdout",
     "output_type": "stream",
     "text": [
      "[1.08681128e-06 1.00000000e+00 8.12175974e-05 7.20869629e-01\n",
      " 7.07761990e-01 1.00000000e+00 3.71492067e-02 2.95774498e-01\n",
      " 1.00000000e+00 1.00000000e+00 7.28393980e-01 9.43336949e-01]\n",
      "alphacBonf=0.0008333333333333334\n",
      "Rejected hypotheses: [ True False  True False False False False False False False False False]\n"
     ]
    },
    {
     "data": {
      "text/html": [
       "<table style=\"text-align:center\"><tr><td colspan=\"13\" style=\"border-bottom: 1px solid black\"></td></tr>\n",
       "<tr><td style=\"text-align:left\"></td><tr><td style=\"text-align:left\"></td><td>(1)</td><td>(2)</td><td>(3)</td><td>(4)</td><td>(5)</td><td>(6)</td><td>(7)</td><td>(8)</td><td>(9)</td><td>(10)</td><td>(11)</td><td>(12)</td></tr>\n",
       "<tr><td colspan=\"13\" style=\"border-bottom: 1px solid black\"></td></tr>\n",
       "\n",
       "<tr><td style=\"text-align:left\">Republican</td><td>0.047<sup>***</sup></td><td>-0.007<sup></sup></td><td>-0.035<sup>***</sup></td><td>0.032<sup></sup></td><td>0.025<sup></sup></td><td>0.006<sup></sup></td><td>-0.029<sup>**</sup></td><td>-0.026<sup>*</sup></td><td>0.011<sup></sup></td><td>-0.021<sup></sup></td><td>-0.024<sup></sup></td><td>0.021<sup></sup></td></tr>\n",
       "<tr><td style=\"text-align:left\"></td><td>(0.009)</td><td>(0.007)</td><td>(0.008)</td><td>(0.017)</td><td>(0.013)</td><td>(0.009)</td><td>(0.010)</td><td>(0.011)</td><td>(0.013)</td><td>(0.015)</td><td>(0.013)</td><td>(0.012)</td></tr>\n",
       "<tr><td style=\"text-align:left\">Female</td><td>0.148<sup>***</sup></td><td>0.081<sup>***</sup></td><td>0.007<sup></sup></td><td>-0.050<sup>**</sup></td><td>-0.021<sup></sup></td><td>-0.072<sup>***</sup></td><td>-0.011<sup></sup></td><td>-0.035<sup>**</sup></td><td>-0.045<sup>***</sup></td><td>-0.017<sup></sup></td><td>-0.024<sup>*</sup></td><td>0.039<sup>*</sup></td></tr>\n",
       "<tr><td style=\"text-align:left\"></td><td>(0.022)</td><td>(0.014)</td><td>(0.013)</td><td>(0.015)</td><td>(0.020)</td><td>(0.009)</td><td>(0.011)</td><td>(0.011)</td><td>(0.013)</td><td>(0.018)</td><td>(0.012)</td><td>(0.018)</td></tr>\n",
       "<tr><td style=\"text-align:left\">Educ (HS)</td><td>-0.052<sup>*</sup></td><td>0.078<sup>***</sup></td><td>0.002<sup></sup></td><td>-0.014<sup></sup></td><td>0.037<sup>**</sup></td><td>0.040<sup>**</sup></td><td>0.022<sup></sup></td><td>-0.085<sup>***</sup></td><td>-0.009<sup></sup></td><td>0.012<sup></sup></td><td>-0.142<sup>**</sup></td><td>0.109<sup>***</sup></td></tr>\n",
       "<tr><td style=\"text-align:left\"></td><td>(0.025)</td><td>(0.012)</td><td>(0.035)</td><td>(0.013)</td><td>(0.012)</td><td>(0.013)</td><td>(0.015)</td><td>(0.020)</td><td>(0.017)</td><td>(0.023)</td><td>(0.044)</td><td>(0.028)</td></tr>\n",
       "<tr><td style=\"text-align:left\">Educ (some coll.)</td><td>-0.084<sup>***</sup></td><td>0.025<sup>*</sup></td><td>-0.006<sup></sup></td><td>0.045<sup>**</sup></td><td>0.109<sup>***</sup></td><td>0.058<sup>***</sup></td><td>0.010<sup></sup></td><td>-0.063<sup>**</sup></td><td>0.014<sup></sup></td><td>-0.008<sup></sup></td><td>-0.126<sup>**</sup></td><td>0.027<sup></sup></td></tr>\n",
       "<tr><td style=\"text-align:left\"></td><td>(0.025)</td><td>(0.011)</td><td>(0.037)</td><td>(0.015)</td><td>(0.012)</td><td>(0.014)</td><td>(0.013)</td><td>(0.020)</td><td>(0.018)</td><td>(0.024)</td><td>(0.044)</td><td>(0.021)</td></tr>\n",
       "<tr><td style=\"text-align:left\">Educ (coll. grad.)</td><td>-0.070<sup>**</sup></td><td>0.057<sup>***</sup></td><td>-0.026<sup></sup></td><td>-0.028<sup>*</sup></td><td>0.100<sup>***</sup></td><td>0.071<sup>***</sup></td><td>0.017<sup></sup></td><td>-0.065<sup>***</sup></td><td>0.071<sup>***</sup></td><td>0.021<sup></sup></td><td>-0.145<sup>***</sup></td><td>-0.003<sup></sup></td></tr>\n",
       "<tr><td style=\"text-align:left\"></td><td>(0.026)</td><td>(0.010)</td><td>(0.036)</td><td>(0.011)</td><td>(0.014)</td><td>(0.013)</td><td>(0.015)</td><td>(0.019)</td><td>(0.018)</td><td>(0.023)</td><td>(0.043)</td><td>(0.019)</td></tr>\n",
       "<tr><td style=\"text-align:left\">Age</td><td>-0.000<sup></sup></td><td>0.000<sup></sup></td><td>0.004<sup>***</sup></td><td>0.007<sup>**</sup></td><td>-0.005<sup>**</sup></td><td>-0.005<sup>***</sup></td><td>-0.003<sup></sup></td><td>0.003<sup>*</sup></td><td>-0.003<sup>*</sup></td><td>-0.010<sup>***</sup></td><td>-0.004<sup>**</sup></td><td>0.016<sup>***</sup></td></tr>\n",
       "<tr><td style=\"text-align:left\"></td><td>(0.002)</td><td>(0.002)</td><td>(0.001)</td><td>(0.002)</td><td>(0.002)</td><td>(0.001)</td><td>(0.002)</td><td>(0.001)</td><td>(0.001)</td><td>(0.002)</td><td>(0.001)</td><td>(0.003)</td></tr>\n",
       "<tr><td style=\"text-align:left\">Age$^2$</td><td>0.000<sup></sup></td><td>0.000<sup></sup></td><td>-0.000<sup>*</sup></td><td>-0.000<sup>**</sup></td><td>0.000<sup>**</sup></td><td>0.000<sup>***</sup></td><td>0.000<sup></sup></td><td>-0.000<sup>**</sup></td><td>0.000<sup></sup></td><td>0.000<sup>**</sup></td><td>0.000<sup></sup></td><td>-0.000<sup>***</sup></td></tr>\n",
       "<tr><td style=\"text-align:left\"></td><td>(0.000)</td><td>(0.000)</td><td>(0.000)</td><td>(0.000)</td><td>(0.000)</td><td>(0.000)</td><td>(0.000)</td><td>(0.000)</td><td>(0.000)</td><td>(0.000)</td><td>(0.000)</td><td>(0.000)</td></tr>\n",
       "<tr><td style=\"text-align:left\">Race (Black)</td><td>0.078<sup>***</sup></td><td>-0.003<sup></sup></td><td>-0.039<sup>***</sup></td><td>-0.036<sup>**</sup></td><td>0.000<sup></sup></td><td>0.024<sup></sup></td><td>-0.044<sup>***</sup></td><td>-0.056<sup>***</sup></td><td>-0.019<sup></sup></td><td>-0.063<sup>***</sup></td><td>0.028<sup></sup></td><td>0.129<sup>***</sup></td></tr>\n",
       "<tr><td style=\"text-align:left\"></td><td>(0.014)</td><td>(0.011)</td><td>(0.010)</td><td>(0.013)</td><td>(0.016)</td><td>(0.013)</td><td>(0.011)</td><td>(0.012)</td><td>(0.013)</td><td>(0.018)</td><td>(0.015)</td><td>(0.019)</td></tr>\n",
       "<tr><td style=\"text-align:left\">Race (Hispanic)</td><td>-0.005<sup></sup></td><td>-0.024<sup></sup></td><td>0.018<sup></sup></td><td>-0.031<sup></sup></td><td>-0.015<sup></sup></td><td>0.024<sup></sup></td><td>-0.046<sup>***</sup></td><td>-0.019<sup></sup></td><td>0.040<sup>**</sup></td><td>-0.013<sup></sup></td><td>0.036<sup>*</sup></td><td>0.035<sup></sup></td></tr>\n",
       "<tr><td style=\"text-align:left\"></td><td>(0.019)</td><td>(0.015)</td><td>(0.017)</td><td>(0.016)</td><td>(0.017)</td><td>(0.013)</td><td>(0.012)</td><td>(0.013)</td><td>(0.015)</td><td>(0.021)</td><td>(0.014)</td><td>(0.018)</td></tr>\n",
       "<tr><td style=\"text-align:left\">Race (Asian)</td><td>0.070<sup>*</sup></td><td>0.056<sup>***</sup></td><td>0.035<sup></sup></td><td>0.013<sup></sup></td><td>-0.065<sup>***</sup></td><td>-0.050<sup>**</sup></td><td>-0.065<sup>***</sup></td><td>-0.033<sup>*</sup></td><td>0.026<sup></sup></td><td>-0.074<sup>***</sup></td><td>0.018<sup></sup></td><td>0.070<sup>***</sup></td></tr>\n",
       "<tr><td style=\"text-align:left\"></td><td>(0.028)</td><td>(0.015)</td><td>(0.020)</td><td>(0.020)</td><td>(0.014)</td><td>(0.015)</td><td>(0.010)</td><td>(0.014)</td><td>(0.022)</td><td>(0.018)</td><td>(0.020)</td><td>(0.019)</td></tr>\n",
       "<tr><td style=\"text-align:left\">Race (Other)</td><td>0.001<sup></sup></td><td>-0.019<sup>*</sup></td><td>-0.014<sup></sup></td><td>0.120<sup>***</sup></td><td>-0.032<sup></sup></td><td>0.034<sup>*</sup></td><td>0.042<sup>*</sup></td><td>0.034<sup></sup></td><td>-0.049<sup>***</sup></td><td>-0.070<sup>***</sup></td><td>-0.029<sup>***</sup></td><td>-0.019<sup></sup></td></tr>\n",
       "<tr><td style=\"text-align:left\"></td><td>(0.016)</td><td>(0.009)</td><td>(0.009)</td><td>(0.022)</td><td>(0.018)</td><td>(0.015)</td><td>(0.019)</td><td>(0.018)</td><td>(0.010)</td><td>(0.014)</td><td>(0.008)</td><td>(0.011)</td></tr>\n",
       "<tr><td style=\"text-align:left\">Region (MW)</td><td>0.004<sup></sup></td><td>-0.009<sup></sup></td><td>-0.006<sup></sup></td><td>-0.019<sup></sup></td><td>0.029<sup>*</sup></td><td>0.040<sup>***</sup></td><td>0.048<sup>***</sup></td><td>0.023<sup></sup></td><td>0.044<sup>**</sup></td><td>0.073<sup>***</sup></td><td>0.068<sup>***</sup></td><td>-0.095<sup>***</sup></td></tr>\n",
       "<tr><td style=\"text-align:left\"></td><td>(0.013)</td><td>(0.015)</td><td>(0.011)</td><td>(0.017)</td><td>(0.013)</td><td>(0.011)</td><td>(0.014)</td><td>(0.012)</td><td>(0.013)</td><td>(0.021)</td><td>(0.015)</td><td>(0.023)</td></tr>\n",
       "<tr><td style=\"text-align:left\">Region (South)</td><td>0.034<sup>**</sup></td><td>-0.007<sup></sup></td><td>-0.035<sup>**</sup></td><td>-0.040<sup>***</sup></td><td>-0.010<sup></sup></td><td>0.006<sup></sup></td><td>0.032<sup>***</sup></td><td>0.019<sup>*</sup></td><td>0.040<sup>***</sup></td><td>0.077<sup>***</sup></td><td>0.121<sup>***</sup></td><td>-0.038<sup>**</sup></td></tr>\n",
       "<tr><td style=\"text-align:left\"></td><td>(0.012)</td><td>(0.007)</td><td>(0.011)</td><td>(0.009)</td><td>(0.010)</td><td>(0.008)</td><td>(0.009)</td><td>(0.008)</td><td>(0.009)</td><td>(0.013)</td><td>(0.014)</td><td>(0.012)</td></tr>\n",
       "<tr><td style=\"text-align:left\">Region (West)</td><td>0.047<sup>***</sup></td><td>0.002<sup></sup></td><td>0.012<sup></sup></td><td>-0.030<sup>*</sup></td><td>0.023<sup></sup></td><td>0.043<sup>***</sup></td><td>0.024<sup>**</sup></td><td>0.008<sup></sup></td><td>0.016<sup></sup></td><td>0.062<sup>***</sup></td><td>0.055<sup>***</sup></td><td>-0.063<sup>***</sup></td></tr>\n",
       "<tr><td style=\"text-align:left\"></td><td>(0.013)</td><td>(0.011)</td><td>(0.010)</td><td>(0.011)</td><td>(0.013)</td><td>(0.008)</td><td>(0.008)</td><td>(0.008)</td><td>(0.010)</td><td>(0.013)</td><td>(0.013)</td><td>(0.016)</td></tr>\n",
       "<tr><td style=\"text-align:left\">Constant</td><td>0.060<sup></sup></td><td>-0.028<sup></sup></td><td>-0.016<sup></sup></td><td>-0.063<sup></sup></td><td>0.114<sup>***</sup></td><td>0.156<sup>***</sup></td><td>0.115<sup>***</sup></td><td>0.046<sup></sup></td><td>0.114<sup>***</sup></td><td>0.339<sup>***</sup></td><td>0.275<sup>***</sup></td><td>-0.311<sup>***</sup></td></tr>\n",
       "<tr><td style=\"text-align:left\"></td><td>(0.040)</td><td>(0.039)</td><td>(0.036)</td><td>(0.041)</td><td>(0.029)</td><td>(0.022)</td><td>(0.028)</td><td>(0.030)</td><td>(0.027)</td><td>(0.047)</td><td>(0.046)</td><td>(0.061)</td></tr>\n",
       "\n",
       "<td colspan=\"13\" style=\"border-bottom: 1px solid black\"></td></tr>\n",
       "<tr><td style=\"text-align: left\">Observations</td><td>54540</td><td>54540</td><td>54540</td><td>54540</td><td>54540</td><td>54540</td><td>54540</td><td>54540</td><td>54540</td><td>54540</td><td>54540</td><td>54540</td></tr><tr><td style=\"text-align: left\">R<sup>2</sup></td><td>0.050</td><td>0.021</td><td>0.022</td><td>0.050</td><td>0.026</td><td>0.022</td><td>0.016</td><td>0.019</td><td>0.026</td><td>0.037</td><td>0.045</td><td>0.060</td></tr><tr><td style=\"text-align: left\">Adjusted R<sup>2</sup></td><td>0.050</td><td>0.021</td><td>0.021</td><td>0.050</td><td>0.026</td><td>0.022</td><td>0.015</td><td>0.019</td><td>0.025</td><td>0.037</td><td>0.045</td><td>0.059</td></tr><tr><td style=\"text-align: left\">Residual Std. Error</td><td>0.266 (df=54519)</td><td>0.249 (df=54519)</td><td>0.278 (df=54519)</td><td>0.278 (df=54519)</td><td>0.309 (df=54519)</td><td>0.299 (df=54519)</td><td>0.258 (df=54519)</td><td>0.239 (df=54519)</td><td>0.278 (df=54519)</td><td>0.312 (df=54519)</td><td>0.272 (df=54519)</td><td>0.238 (df=54519)</td></tr><tr><td style=\"text-align: left\">F Statistic</td><td>26.392<sup>***</sup> (df=20; 54519)</td><td>27.256<sup>***</sup> (df=20; 54519)</td><td>27.922<sup>***</sup> (df=20; 54519)</td><td>28.092<sup>***</sup> (df=20; 54519)</td><td>29.375<sup>***</sup> (df=20; 54519)</td><td>33.658<sup>***</sup> (df=20; 54519)</td><td>27.906<sup>***</sup> (df=20; 54519)</td><td>22.153<sup>***</sup> (df=20; 54519)</td><td>28.444<sup>***</sup> (df=20; 54519)</td><td>32.708<sup>***</sup> (df=20; 54519)</td><td>29.170<sup>***</sup> (df=20; 54519)</td><td>20.549<sup>***</sup> (df=20; 54519)</td></tr>\n",
       "<tr><td colspan=\"13\" style=\"border-bottom: 1px solid black\"></td></tr><tr><td style=\"text-align: left\">Note:</td><td colspan=\"12\" style=\"text-align: right\"><sup>*</sup>p&lt;0.05; <sup>**</sup>p&lt;0.01; <sup>***</sup>p&lt;0.0008333333333333334</td></tr></table>"
      ],
      "text/plain": [
       "<stargazer.stargazer.Stargazer at 0x7f9c6d82cd00>"
      ]
     },
     "execution_count": 32,
     "metadata": {},
     "output_type": "execute_result"
    }
   ],
   "source": [
    "latex_fragment_str, stargazer = esttab_wls(two_hour_bins, \"rep\", df[\"visit_minutes\"], z=z, df=df, significant_digits=3)\n",
    "# with open(f\"../tabs/regtab_wls_visit_timing_4hrbins_adjusted.tex\", \"w\") as tf:\n",
    "#     tf.write(latex_fragment_str)\n",
    "    \n",
    "stargazer"
   ]
  },
  {
   "cell_type": "code",
   "execution_count": null,
   "id": "005b4f90",
   "metadata": {},
   "outputs": [],
   "source": []
  },
  {
   "cell_type": "code",
   "execution_count": null,
   "id": "8f832349",
   "metadata": {},
   "outputs": [],
   "source": []
  },
  {
   "cell_type": "markdown",
   "id": "5a0e7566",
   "metadata": {},
   "source": [
    "## By hours"
   ]
  },
  {
   "cell_type": "code",
   "execution_count": null,
   "id": "51263290",
   "metadata": {
    "ExecuteTime": {
     "end_time": "2023-10-21T03:33:34.645518Z",
     "start_time": "2023-10-21T03:33:34.645509Z"
    }
   },
   "outputs": [],
   "source": [
    "time_4am_to_8am = [\n",
    " 'time_4am_5am',\n",
    " 'time_5am_6am',\n",
    " 'time_6am_7am',\n",
    " 'time_7am_8am',\n",
    "]"
   ]
  },
  {
   "cell_type": "code",
   "execution_count": null,
   "id": "06b77a2c",
   "metadata": {
    "ExecuteTime": {
     "end_time": "2023-10-21T03:33:34.647252Z",
     "start_time": "2023-10-21T03:33:34.647243Z"
    }
   },
   "outputs": [],
   "source": [
    "latex_fragment_str, stargazer = esttab_wls(time_4am_to_8am, \"rep\", df[\"visit_minutes\"], z=z, df=df, significant_digits=3)\n",
    "\n",
    "stargazer"
   ]
  },
  {
   "cell_type": "code",
   "execution_count": null,
   "id": "5064c86a",
   "metadata": {},
   "outputs": [],
   "source": []
  },
  {
   "cell_type": "code",
   "execution_count": null,
   "id": "e0ac7f14",
   "metadata": {},
   "outputs": [],
   "source": []
  }
 ],
 "metadata": {
  "kernelspec": {
   "display_name": "Python 3 (ipykernel)",
   "language": "python",
   "name": "python3"
  },
  "language_info": {
   "codemirror_mode": {
    "name": "ipython",
    "version": 3
   },
   "file_extension": ".py",
   "mimetype": "text/x-python",
   "name": "python",
   "nbconvert_exporter": "python",
   "pygments_lexer": "ipython3",
   "version": "3.10.11"
  },
  "toc": {
   "base_numbering": 1,
   "nav_menu": {},
   "number_sections": true,
   "sideBar": true,
   "skip_h1_title": false,
   "title_cell": "Table of Contents",
   "title_sidebar": "Contents",
   "toc_cell": false,
   "toc_position": {
    "height": "calc(100% - 180px)",
    "left": "10px",
    "top": "150px",
    "width": "237.934px"
   },
   "toc_section_display": true,
   "toc_window_display": true
  },
  "varInspector": {
   "cols": {
    "lenName": 16,
    "lenType": 16,
    "lenVar": 40
   },
   "kernels_config": {
    "python": {
     "delete_cmd_postfix": "",
     "delete_cmd_prefix": "del ",
     "library": "var_list.py",
     "varRefreshCmd": "print(var_dic_list())"
    },
    "r": {
     "delete_cmd_postfix": ") ",
     "delete_cmd_prefix": "rm(",
     "library": "var_list.r",
     "varRefreshCmd": "cat(var_dic_list()) "
    }
   },
   "types_to_exclude": [
    "module",
    "function",
    "builtin_function_or_method",
    "instance",
    "_Feature"
   ],
   "window_display": false
  }
 },
 "nbformat": 4,
 "nbformat_minor": 5
}
