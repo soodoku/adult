{
 "cells": [
  {
   "cell_type": "code",
   "execution_count": 1,
   "id": "52a31922",
   "metadata": {
    "ExecuteTime": {
     "end_time": "2023-10-15T02:38:46.158197Z",
     "start_time": "2023-10-15T02:38:45.204305Z"
    },
    "execution": {
     "iopub.execute_input": "2024-04-27T09:54:40.366611Z",
     "iopub.status.busy": "2024-04-27T09:54:40.366266Z",
     "iopub.status.idle": "2024-04-27T09:54:42.543795Z",
     "shell.execute_reply": "2024-04-27T09:54:42.542986Z"
    },
    "scrolled": true
   },
   "outputs": [
    {
     "data": {
      "text/html": [
       "<div>\n",
       "<style scoped>\n",
       "    .dataframe tbody tr th:only-of-type {\n",
       "        vertical-align: middle;\n",
       "    }\n",
       "\n",
       "    .dataframe tbody tr th {\n",
       "        vertical-align: top;\n",
       "    }\n",
       "\n",
       "    .dataframe thead th {\n",
       "        text-align: right;\n",
       "    }\n",
       "</style>\n",
       "<table border=\"1\" class=\"dataframe\">\n",
       "  <thead>\n",
       "    <tr style=\"text-align: right;\">\n",
       "      <th></th>\n",
       "      <th>caseid</th>\n",
       "      <th>birthyr</th>\n",
       "      <th>gender</th>\n",
       "      <th>race</th>\n",
       "      <th>educ</th>\n",
       "      <th>pid3</th>\n",
       "      <th>pid7</th>\n",
       "      <th>presvote20post</th>\n",
       "      <th>inputstate</th>\n",
       "      <th>region</th>\n",
       "      <th>party</th>\n",
       "      <th>visits_adult</th>\n",
       "      <th>visits_nonadult</th>\n",
       "      <th>visits</th>\n",
       "      <th>prop_adult_visits</th>\n",
       "      <th>rep</th>\n",
       "      <th>duration_adult</th>\n",
       "      <th>duration_nonadult</th>\n",
       "      <th>duration</th>\n",
       "      <th>prop_adult_duration</th>\n",
       "      <th>yes_visit_adults</th>\n",
       "      <th>race2</th>\n",
       "      <th>cohort</th>\n",
       "      <th>age</th>\n",
       "      <th>age2</th>\n",
       "      <th>educ2</th>\n",
       "    </tr>\n",
       "  </thead>\n",
       "  <tbody>\n",
       "    <tr>\n",
       "      <th>0</th>\n",
       "      <td>200661421</td>\n",
       "      <td>1963</td>\n",
       "      <td>2</td>\n",
       "      <td>1</td>\n",
       "      <td>4</td>\n",
       "      <td>3</td>\n",
       "      <td>3</td>\n",
       "      <td>1</td>\n",
       "      <td>39</td>\n",
       "      <td>2</td>\n",
       "      <td>D</td>\n",
       "      <td>0.0</td>\n",
       "      <td>1728.0</td>\n",
       "      <td>1728.0</td>\n",
       "      <td>0.000000</td>\n",
       "      <td>0.0</td>\n",
       "      <td>0.000000</td>\n",
       "      <td>21.567222</td>\n",
       "      <td>77642.0</td>\n",
       "      <td>0.000000</td>\n",
       "      <td>0.0</td>\n",
       "      <td>1</td>\n",
       "      <td>1960</td>\n",
       "      <td>60</td>\n",
       "      <td>3600</td>\n",
       "      <td>4</td>\n",
       "    </tr>\n",
       "    <tr>\n",
       "      <th>1</th>\n",
       "      <td>200686597</td>\n",
       "      <td>1992</td>\n",
       "      <td>2</td>\n",
       "      <td>6</td>\n",
       "      <td>5</td>\n",
       "      <td>5</td>\n",
       "      <td>8</td>\n",
       "      <td>-1</td>\n",
       "      <td>48</td>\n",
       "      <td>3</td>\n",
       "      <td>NaN</td>\n",
       "      <td>243.0</td>\n",
       "      <td>3994.0</td>\n",
       "      <td>4237.0</td>\n",
       "      <td>5.735190</td>\n",
       "      <td>NaN</td>\n",
       "      <td>7.208889</td>\n",
       "      <td>65.054444</td>\n",
       "      <td>260148.0</td>\n",
       "      <td>9.975860</td>\n",
       "      <td>1.0</td>\n",
       "      <td>5</td>\n",
       "      <td>1990</td>\n",
       "      <td>31</td>\n",
       "      <td>961</td>\n",
       "      <td>4</td>\n",
       "    </tr>\n",
       "    <tr>\n",
       "      <th>2</th>\n",
       "      <td>200953869</td>\n",
       "      <td>1959</td>\n",
       "      <td>2</td>\n",
       "      <td>1</td>\n",
       "      <td>5</td>\n",
       "      <td>2</td>\n",
       "      <td>7</td>\n",
       "      <td>2</td>\n",
       "      <td>42</td>\n",
       "      <td>1</td>\n",
       "      <td>R</td>\n",
       "      <td>0.0</td>\n",
       "      <td>20.0</td>\n",
       "      <td>20.0</td>\n",
       "      <td>0.000000</td>\n",
       "      <td>1.0</td>\n",
       "      <td>0.000000</td>\n",
       "      <td>0.328333</td>\n",
       "      <td>1182.0</td>\n",
       "      <td>0.000000</td>\n",
       "      <td>0.0</td>\n",
       "      <td>1</td>\n",
       "      <td>1960</td>\n",
       "      <td>64</td>\n",
       "      <td>4096</td>\n",
       "      <td>4</td>\n",
       "    </tr>\n",
       "    <tr>\n",
       "      <th>3</th>\n",
       "      <td>201302005</td>\n",
       "      <td>1966</td>\n",
       "      <td>2</td>\n",
       "      <td>2</td>\n",
       "      <td>3</td>\n",
       "      <td>5</td>\n",
       "      <td>8</td>\n",
       "      <td>1</td>\n",
       "      <td>12</td>\n",
       "      <td>3</td>\n",
       "      <td>NaN</td>\n",
       "      <td>20.0</td>\n",
       "      <td>527.0</td>\n",
       "      <td>547.0</td>\n",
       "      <td>3.656307</td>\n",
       "      <td>NaN</td>\n",
       "      <td>1.712778</td>\n",
       "      <td>6.626389</td>\n",
       "      <td>30021.0</td>\n",
       "      <td>20.538956</td>\n",
       "      <td>1.0</td>\n",
       "      <td>2</td>\n",
       "      <td>1970</td>\n",
       "      <td>57</td>\n",
       "      <td>3249</td>\n",
       "      <td>3</td>\n",
       "    </tr>\n",
       "    <tr>\n",
       "      <th>4</th>\n",
       "      <td>201590505</td>\n",
       "      <td>1977</td>\n",
       "      <td>1</td>\n",
       "      <td>4</td>\n",
       "      <td>5</td>\n",
       "      <td>3</td>\n",
       "      <td>3</td>\n",
       "      <td>1</td>\n",
       "      <td>6</td>\n",
       "      <td>4</td>\n",
       "      <td>D</td>\n",
       "      <td>0.0</td>\n",
       "      <td>11086.0</td>\n",
       "      <td>11086.0</td>\n",
       "      <td>0.000000</td>\n",
       "      <td>0.0</td>\n",
       "      <td>0.000000</td>\n",
       "      <td>106.433611</td>\n",
       "      <td>383161.0</td>\n",
       "      <td>0.000000</td>\n",
       "      <td>0.0</td>\n",
       "      <td>4</td>\n",
       "      <td>1980</td>\n",
       "      <td>46</td>\n",
       "      <td>2116</td>\n",
       "      <td>4</td>\n",
       "    </tr>\n",
       "    <tr>\n",
       "      <th>...</th>\n",
       "      <td>...</td>\n",
       "      <td>...</td>\n",
       "      <td>...</td>\n",
       "      <td>...</td>\n",
       "      <td>...</td>\n",
       "      <td>...</td>\n",
       "      <td>...</td>\n",
       "      <td>...</td>\n",
       "      <td>...</td>\n",
       "      <td>...</td>\n",
       "      <td>...</td>\n",
       "      <td>...</td>\n",
       "      <td>...</td>\n",
       "      <td>...</td>\n",
       "      <td>...</td>\n",
       "      <td>...</td>\n",
       "      <td>...</td>\n",
       "      <td>...</td>\n",
       "      <td>...</td>\n",
       "      <td>...</td>\n",
       "      <td>...</td>\n",
       "      <td>...</td>\n",
       "      <td>...</td>\n",
       "      <td>...</td>\n",
       "      <td>...</td>\n",
       "      <td>...</td>\n",
       "    </tr>\n",
       "    <tr>\n",
       "      <th>1195</th>\n",
       "      <td>1802885</td>\n",
       "      <td>1935</td>\n",
       "      <td>1</td>\n",
       "      <td>1</td>\n",
       "      <td>6</td>\n",
       "      <td>4</td>\n",
       "      <td>5</td>\n",
       "      <td>2</td>\n",
       "      <td>12</td>\n",
       "      <td>3</td>\n",
       "      <td>R</td>\n",
       "      <td>NaN</td>\n",
       "      <td>NaN</td>\n",
       "      <td>NaN</td>\n",
       "      <td>NaN</td>\n",
       "      <td>1.0</td>\n",
       "      <td>NaN</td>\n",
       "      <td>NaN</td>\n",
       "      <td>NaN</td>\n",
       "      <td>NaN</td>\n",
       "      <td>NaN</td>\n",
       "      <td>1</td>\n",
       "      <td>1940</td>\n",
       "      <td>88</td>\n",
       "      <td>7744</td>\n",
       "      <td>4</td>\n",
       "    </tr>\n",
       "    <tr>\n",
       "      <th>1196</th>\n",
       "      <td>1809723</td>\n",
       "      <td>1943</td>\n",
       "      <td>1</td>\n",
       "      <td>1</td>\n",
       "      <td>2</td>\n",
       "      <td>1</td>\n",
       "      <td>1</td>\n",
       "      <td>1</td>\n",
       "      <td>51</td>\n",
       "      <td>3</td>\n",
       "      <td>D</td>\n",
       "      <td>0.0</td>\n",
       "      <td>9805.0</td>\n",
       "      <td>9805.0</td>\n",
       "      <td>0.000000</td>\n",
       "      <td>0.0</td>\n",
       "      <td>0.000000</td>\n",
       "      <td>353.503611</td>\n",
       "      <td>1272613.0</td>\n",
       "      <td>0.000000</td>\n",
       "      <td>0.0</td>\n",
       "      <td>1</td>\n",
       "      <td>1940</td>\n",
       "      <td>80</td>\n",
       "      <td>6400</td>\n",
       "      <td>2</td>\n",
       "    </tr>\n",
       "    <tr>\n",
       "      <th>1197</th>\n",
       "      <td>1827351</td>\n",
       "      <td>1947</td>\n",
       "      <td>1</td>\n",
       "      <td>1</td>\n",
       "      <td>5</td>\n",
       "      <td>3</td>\n",
       "      <td>4</td>\n",
       "      <td>1</td>\n",
       "      <td>31</td>\n",
       "      <td>2</td>\n",
       "      <td>I</td>\n",
       "      <td>0.0</td>\n",
       "      <td>543.0</td>\n",
       "      <td>543.0</td>\n",
       "      <td>0.000000</td>\n",
       "      <td>NaN</td>\n",
       "      <td>0.000000</td>\n",
       "      <td>6.646944</td>\n",
       "      <td>23929.0</td>\n",
       "      <td>0.000000</td>\n",
       "      <td>0.0</td>\n",
       "      <td>1</td>\n",
       "      <td>1950</td>\n",
       "      <td>76</td>\n",
       "      <td>5776</td>\n",
       "      <td>4</td>\n",
       "    </tr>\n",
       "    <tr>\n",
       "      <th>1198</th>\n",
       "      <td>1924249</td>\n",
       "      <td>1980</td>\n",
       "      <td>1</td>\n",
       "      <td>7</td>\n",
       "      <td>4</td>\n",
       "      <td>2</td>\n",
       "      <td>7</td>\n",
       "      <td>2</td>\n",
       "      <td>6</td>\n",
       "      <td>4</td>\n",
       "      <td>R</td>\n",
       "      <td>182.0</td>\n",
       "      <td>21379.0</td>\n",
       "      <td>21561.0</td>\n",
       "      <td>0.844117</td>\n",
       "      <td>1.0</td>\n",
       "      <td>0.581667</td>\n",
       "      <td>86.076667</td>\n",
       "      <td>311970.0</td>\n",
       "      <td>0.671218</td>\n",
       "      <td>1.0</td>\n",
       "      <td>5</td>\n",
       "      <td>1980</td>\n",
       "      <td>43</td>\n",
       "      <td>1849</td>\n",
       "      <td>4</td>\n",
       "    </tr>\n",
       "    <tr>\n",
       "      <th>1199</th>\n",
       "      <td>1988109</td>\n",
       "      <td>1953</td>\n",
       "      <td>2</td>\n",
       "      <td>3</td>\n",
       "      <td>5</td>\n",
       "      <td>3</td>\n",
       "      <td>4</td>\n",
       "      <td>6</td>\n",
       "      <td>51</td>\n",
       "      <td>3</td>\n",
       "      <td>I</td>\n",
       "      <td>0.0</td>\n",
       "      <td>7158.0</td>\n",
       "      <td>7158.0</td>\n",
       "      <td>0.000000</td>\n",
       "      <td>NaN</td>\n",
       "      <td>0.000000</td>\n",
       "      <td>59.665833</td>\n",
       "      <td>214797.0</td>\n",
       "      <td>0.000000</td>\n",
       "      <td>0.0</td>\n",
       "      <td>3</td>\n",
       "      <td>1950</td>\n",
       "      <td>70</td>\n",
       "      <td>4900</td>\n",
       "      <td>4</td>\n",
       "    </tr>\n",
       "  </tbody>\n",
       "</table>\n",
       "<p>1200 rows × 26 columns</p>\n",
       "</div>"
      ],
      "text/plain": [
       "         caseid  birthyr  gender  race  educ  pid3  pid7  presvote20post  \\\n",
       "0     200661421     1963       2     1     4     3     3               1   \n",
       "1     200686597     1992       2     6     5     5     8              -1   \n",
       "2     200953869     1959       2     1     5     2     7               2   \n",
       "3     201302005     1966       2     2     3     5     8               1   \n",
       "4     201590505     1977       1     4     5     3     3               1   \n",
       "...         ...      ...     ...   ...   ...   ...   ...             ...   \n",
       "1195    1802885     1935       1     1     6     4     5               2   \n",
       "1196    1809723     1943       1     1     2     1     1               1   \n",
       "1197    1827351     1947       1     1     5     3     4               1   \n",
       "1198    1924249     1980       1     7     4     2     7               2   \n",
       "1199    1988109     1953       2     3     5     3     4               6   \n",
       "\n",
       "      inputstate  region party  visits_adult  visits_nonadult   visits  \\\n",
       "0             39       2     D           0.0           1728.0   1728.0   \n",
       "1             48       3   NaN         243.0           3994.0   4237.0   \n",
       "2             42       1     R           0.0             20.0     20.0   \n",
       "3             12       3   NaN          20.0            527.0    547.0   \n",
       "4              6       4     D           0.0          11086.0  11086.0   \n",
       "...          ...     ...   ...           ...              ...      ...   \n",
       "1195          12       3     R           NaN              NaN      NaN   \n",
       "1196          51       3     D           0.0           9805.0   9805.0   \n",
       "1197          31       2     I           0.0            543.0    543.0   \n",
       "1198           6       4     R         182.0          21379.0  21561.0   \n",
       "1199          51       3     I           0.0           7158.0   7158.0   \n",
       "\n",
       "      prop_adult_visits  rep  duration_adult  duration_nonadult   duration  \\\n",
       "0              0.000000  0.0        0.000000          21.567222    77642.0   \n",
       "1              5.735190  NaN        7.208889          65.054444   260148.0   \n",
       "2              0.000000  1.0        0.000000           0.328333     1182.0   \n",
       "3              3.656307  NaN        1.712778           6.626389    30021.0   \n",
       "4              0.000000  0.0        0.000000         106.433611   383161.0   \n",
       "...                 ...  ...             ...                ...        ...   \n",
       "1195                NaN  1.0             NaN                NaN        NaN   \n",
       "1196           0.000000  0.0        0.000000         353.503611  1272613.0   \n",
       "1197           0.000000  NaN        0.000000           6.646944    23929.0   \n",
       "1198           0.844117  1.0        0.581667          86.076667   311970.0   \n",
       "1199           0.000000  NaN        0.000000          59.665833   214797.0   \n",
       "\n",
       "      prop_adult_duration  yes_visit_adults  race2  cohort  age  age2  educ2  \n",
       "0                0.000000               0.0      1    1960   60  3600      4  \n",
       "1                9.975860               1.0      5    1990   31   961      4  \n",
       "2                0.000000               0.0      1    1960   64  4096      4  \n",
       "3               20.538956               1.0      2    1970   57  3249      3  \n",
       "4                0.000000               0.0      4    1980   46  2116      4  \n",
       "...                   ...               ...    ...     ...  ...   ...    ...  \n",
       "1195                  NaN               NaN      1    1940   88  7744      4  \n",
       "1196             0.000000               0.0      1    1940   80  6400      2  \n",
       "1197             0.000000               0.0      1    1950   76  5776      4  \n",
       "1198             0.671218               1.0      5    1980   43  1849      4  \n",
       "1199             0.000000               0.0      3    1950   70  4900      4  \n",
       "\n",
       "[1200 rows x 26 columns]"
      ]
     },
     "execution_count": 1,
     "metadata": {},
     "output_type": "execute_result"
    }
   ],
   "source": [
    "import os\n",
    "import pandas as pd\n",
    "import janitor\n",
    "import numpy as np\n",
    "pd.set_option('display.max_columns', 100)\n",
    "\n",
    "from utils.data_utils import fit_quantile_reg, fit_ols_reg,esttab_ols_quantile\n",
    "from utils.utils import save_mpl_fig\n",
    "import matplotlib.pyplot as plt\n",
    "import seaborn as sns\n",
    "sns.set_theme(context=\"notebook\", font_scale=1.05, style=\"whitegrid\", palette=\"dark\")\n",
    "import matplotlib.lines as mlines\n",
    "import matplotlib.patches as mpatches\n",
    "\n",
    "FIGSAVEDIR = \"../figs\"\n",
    "DATAPATH = \"../data/individual_browsing_data.csv\"        \n",
    "\n",
    "df_ind = (pd.read_csv(DATAPATH)\n",
    "          # Normalize seconds to hours\n",
    "          .assign(\n",
    "              duration_adult=lambda df: df.duration_adult/3600,\n",
    "              duration_nonadult=lambda df: df.duration_nonadult/3600,\n",
    "          )\n",
    "         )\n",
    "df_ind"
   ]
  },
  {
   "cell_type": "code",
   "execution_count": 2,
   "id": "6bbeaa00",
   "metadata": {
    "ExecuteTime": {
     "end_time": "2023-10-15T02:38:46.164788Z",
     "start_time": "2023-10-15T02:38:46.160252Z"
    },
    "execution": {
     "iopub.execute_input": "2024-04-27T09:54:42.546182Z",
     "iopub.status.busy": "2024-04-27T09:54:42.545833Z",
     "iopub.status.idle": "2024-04-27T09:54:42.551366Z",
     "shell.execute_reply": "2024-04-27T09:54:42.550621Z"
    }
   },
   "outputs": [
    {
     "name": "stdout",
     "output_type": "stream",
     "text": [
      "19\n"
     ]
    },
    {
     "data": {
      "text/plain": [
       "array([0.05, 0.1 , 0.15, 0.2 , 0.25, 0.3 , 0.35, 0.4 , 0.45, 0.5 , 0.55,\n",
       "       0.6 , 0.65, 0.7 , 0.75, 0.8 , 0.85, 0.9 , 0.95])"
      ]
     },
     "execution_count": 2,
     "metadata": {},
     "output_type": "execute_result"
    }
   ],
   "source": [
    "quantiles = np.arange(0.05, 1, 0.05)\n",
    "print(len(quantiles))\n",
    "quantiles"
   ]
  },
  {
   "cell_type": "code",
   "execution_count": 3,
   "id": "359c5051",
   "metadata": {
    "ExecuteTime": {
     "end_time": "2023-10-15T02:38:46.170031Z",
     "start_time": "2023-10-15T02:38:46.166966Z"
    },
    "code_folding": [
     0
    ],
    "execution": {
     "iopub.execute_input": "2024-04-27T09:54:42.553868Z",
     "iopub.status.busy": "2024-04-27T09:54:42.553553Z",
     "iopub.status.idle": "2024-04-27T09:54:42.557496Z",
     "shell.execute_reply": "2024-04-27T09:54:42.556779Z"
    }
   },
   "outputs": [],
   "source": [
    "# (fold cell) Standard graph opts\n",
    "opts_connected_line = {\n",
    "    \"linewidth\":2,\n",
    "    \"markersize\":7,\n",
    "    \"markerfacecolor\":\"0\",\n",
    "    \"markeredgecolor\":\"0\",\n",
    "    \"color\":\".4\",\n",
    "}\n",
    "opts_fillbetween = {\n",
    "    \"color\":\".7\",\n",
    "    \"zorder\":1,\n",
    "    \"alpha\":.8,\n",
    "}\n",
    "opts_0yline = {\n",
    "    \"color\":\"maroon\",\n",
    "    \"alpha\":.6,\n",
    "    \"linewidth\":2,\n",
    "    \"zorder\":1,\n",
    "}"
   ]
  },
  {
   "cell_type": "markdown",
   "id": "ee55416a",
   "metadata": {},
   "source": [
    "### Duration on adult"
   ]
  },
  {
   "cell_type": "code",
   "execution_count": 4,
   "id": "298f68e3",
   "metadata": {
    "ExecuteTime": {
     "end_time": "2023-10-15T02:38:46.176093Z",
     "start_time": "2023-10-15T02:38:46.173739Z"
    },
    "execution": {
     "iopub.execute_input": "2024-04-27T09:54:42.560091Z",
     "iopub.status.busy": "2024-04-27T09:54:42.559692Z",
     "iopub.status.idle": "2024-04-27T09:54:42.563425Z",
     "shell.execute_reply": "2024-04-27T09:54:42.562680Z"
    }
   },
   "outputs": [],
   "source": [
    "outcome = \"duration_adult\"\n",
    "savepath = \"quantile_reg_duration_adult\""
   ]
  },
  {
   "cell_type": "code",
   "execution_count": 5,
   "id": "0281e028",
   "metadata": {
    "ExecuteTime": {
     "end_time": "2023-10-15T02:38:47.046620Z",
     "start_time": "2023-10-15T02:38:46.177938Z"
    },
    "code_folding": [
     0
    ],
    "execution": {
     "iopub.execute_input": "2024-04-27T09:54:42.565595Z",
     "iopub.status.busy": "2024-04-27T09:54:42.565264Z",
     "iopub.status.idle": "2024-04-27T09:54:44.191428Z",
     "shell.execute_reply": "2024-04-27T09:54:44.190994Z"
    },
    "scrolled": false
   },
   "outputs": [
    {
     "data": {
      "image/png": "[encoded data removed]",
      "text/plain": [
       "<Figure size 648x518.4 with 1 Axes>"
      ]
     },
     "metadata": {},
     "output_type": "display_data"
    }
   ],
   "source": [
    "# (fold cell) plot\n",
    "quantile_results = [\n",
    "    fit_quantile_reg(y=outcome, x=\"rep\", quantile=quantile, df=df_ind)\n",
    "    for quantile in quantiles\n",
    "]\n",
    "\n",
    "quantile_results = pd.DataFrame(\n",
    "    quantile_results, columns=[\"quantile\", \"intercept\", \"estimate\", \"ll\", \"hl\", \"tstat\", \"pval\", \"obs\"]\n",
    ")\n",
    "\n",
    "\n",
    "scale = 0.9\n",
    "fig, ax = plt.subplots(figsize=(10 * scale, 8 * scale), facecolor=\"white\")\n",
    "\n",
    "y = \"estimate\"\n",
    "x = \"quantile\"\n",
    "plt.plot(\n",
    "    quantile_results[x],\n",
    "    quantile_results[y],\n",
    "    \"o--\",\n",
    "    **opts_connected_line\n",
    ")\n",
    "plt.fill_between(\n",
    "    quantile_results[x],\n",
    "    quantile_results[\"ll\"],\n",
    "    quantile_results[\"hl\"],\n",
    "    **opts_fillbetween\n",
    ")\n",
    "plt.axhline(y=0, **opts_0yline)\n",
    "\n",
    "# Custom Legend\n",
    "quantile_estimates = mlines.Line2D([], [], \n",
    "                                   marker='o', ls=\"--\",\n",
    "                                   **opts_connected_line,\n",
    "                                   label='Quantile estimates (connected)',\n",
    "                                  )\n",
    "ci = mpatches.Patch(**opts_fillbetween, label='95% confidence interval')\n",
    "yline0 = mlines.Line2D([], [], \n",
    "                       **opts_0yline,\n",
    "                       label=\"Estimate = 0\"\n",
    "                      )\n",
    "custom_legend = plt.legend(\n",
    "    handles=[quantile_estimates, ci, yline0], \n",
    "    handlelength=4, \n",
    "    handletextpad=.3,\n",
    "    labelspacing=.3,\n",
    "    frameon=False,\n",
    "    prop={'weight':'bold', \"size\":14},\n",
    "    loc=\"best\",\n",
    "#     title_fontproperties={'weight':'bold', 'size':14},\n",
    ")\n",
    "ax.set_xlabel(\"Quantile\", fontsize=15)\n",
    "ax.set_ylabel(\"Hours spent on\\nonline pornography sites\", fontsize=15)\n",
    "save_mpl_fig(os.path.join(FIGSAVEDIR, savepath))"
   ]
  },
  {
   "cell_type": "code",
   "execution_count": 6,
   "id": "cffb2625",
   "metadata": {
    "ExecuteTime": {
     "end_time": "2023-10-15T02:38:47.200662Z",
     "start_time": "2023-10-15T02:38:47.048185Z"
    },
    "execution": {
     "iopub.execute_input": "2024-04-27T09:54:44.193915Z",
     "iopub.status.busy": "2024-04-27T09:54:44.193625Z",
     "iopub.status.idle": "2024-04-27T09:54:44.499834Z",
     "shell.execute_reply": "2024-04-27T09:54:44.494914Z"
    }
   },
   "outputs": [
    {
     "data": {
      "text/html": [
       "<table style=\"text-align:center\"><tr><td colspan=\"21\" style=\"border-bottom: 1px solid black\"></td></tr>\n",
       "<tr><td style=\"text-align:left\"></td><td colspan=\"20\"><em>Dependent variable: duration_adult</em></td></tr><tr><td style=\"text-align:left\"></td><tr><td style=\"text-align:left\"></td><td>(1)</td><td>(2)</td><td>(3)</td><td>(4)</td><td>(5)</td><td>(6)</td><td>(7)</td><td>(8)</td><td>(9)</td><td>(10)</td><td>(11)</td><td>(12)</td><td>(13)</td><td>(14)</td><td>(15)</td><td>(16)</td><td>(17)</td><td>(18)</td><td>(19)</td><td>(20)</td></tr>\n",
       "<tr><td colspan=\"21\" style=\"border-bottom: 1px solid black\"></td></tr>\n",
       "\n",
       "<tr><td style=\"text-align:left\">Republican</td><td>0.28<sup></sup></td><td>-0.00<sup></sup></td><td>-0.00<sup></sup></td><td>-0.00<sup></sup></td><td>-0.00<sup></sup></td><td>-0.00<sup></sup></td><td>-0.00<sup></sup></td><td>-0.00<sup></sup></td><td>-0.00<sup></sup></td><td>-0.00<sup></sup></td><td>-0.00<sup></sup></td><td>-0.00<sup></sup></td><td>-0.00<sup></sup></td><td>-0.00<sup></sup></td><td>-0.00<sup>***</sup></td><td>0.01<sup></sup></td><td>0.17<sup></sup></td><td>0.80<sup>***</sup></td><td>1.61<sup>***</sup></td><td>2.10<sup></sup></td></tr>\n",
       "<tr><td style=\"text-align:left\"></td><td>(0.35)</td><td>(0.00)</td><td>(0.00)</td><td>(0.00)</td><td>(0.00)</td><td>(0.00)</td><td>(0.00)</td><td>(0.00)</td><td>(0.00)</td><td>(0.00)</td><td>(0.00)</td><td>(0.00)</td><td>(0.00)</td><td>(0.00)</td><td>(0.00)</td><td>(0.04)</td><td>(0.11)</td><td>(0.30)</td><td>(0.49)</td><td>(1.84)</td></tr>\n",
       "<tr><td style=\"text-align:left\">Constant</td><td>0.98<sup>***</sup></td><td>0.00<sup></sup></td><td>0.00<sup></sup></td><td>0.00<sup></sup></td><td>0.00<sup></sup></td><td>0.00<sup></sup></td><td>0.00<sup></sup></td><td>0.00<sup></sup></td><td>0.00<sup></sup></td><td>0.00<sup></sup></td><td>0.00<sup></sup></td><td>0.00<sup></sup></td><td>0.00<sup></sup></td><td>0.00<sup></sup></td><td>0.00<sup>***</sup></td><td>0.05<sup>*</sup></td><td>0.16<sup>**</sup></td><td>0.49<sup>**</sup></td><td>1.01<sup>***</sup></td><td>4.52<sup>***</sup></td></tr>\n",
       "<tr><td style=\"text-align:left\"></td><td>(0.25)</td><td>(0.00)</td><td>(0.00)</td><td>(0.00)</td><td>(0.00)</td><td>(0.00)</td><td>(0.00)</td><td>(0.00)</td><td>(0.00)</td><td>(0.00)</td><td>(0.00)</td><td>(0.00)</td><td>(0.00)</td><td>(0.00)</td><td>(0.00)</td><td>(0.03)</td><td>(0.07)</td><td>(0.19)</td><td>(0.31)</td><td>(1.17)</td></tr>\n",
       "\n",
       "<td colspan=\"21\" style=\"border-bottom: 1px solid black\"></td></tr>\n",
       "<tr><td style=\"text-align: left\">Observations</td><td>834</td><td>834</td><td>834</td><td>834</td><td>834</td><td>834</td><td>834</td><td>834</td><td>834</td><td>834</td><td>834</td><td>834</td><td>834</td><td>834</td><td>834</td><td>834</td><td>834</td><td>834</td><td>834</td><td>834</td></tr><tr><td style=\"text-align: left\">R<sup>2</sup></td><td>0.00</td><td>nan</td><td>nan</td><td>nan</td><td>nan</td><td>nan</td><td>nan</td><td>nan</td><td>nan</td><td>nan</td><td>nan</td><td>nan</td><td>nan</td><td>nan</td><td>nan</td><td>nan</td><td>nan</td><td>nan</td><td>nan</td><td>nan</td></tr><tr><td style=\"text-align: left\">Adjusted R<sup>2</sup></td><td>-0.00</td><td>nan</td><td>nan</td><td>nan</td><td>nan</td><td>nan</td><td>nan</td><td>nan</td><td>nan</td><td>nan</td><td>nan</td><td>nan</td><td>nan</td><td>nan</td><td>nan</td><td>nan</td><td>nan</td><td>nan</td><td>nan</td><td>nan</td></tr><tr><td style=\"text-align: left\">Residual Std. Error</td><td>5.19 (df=832)</td><td>5.30 (df=832)</td><td>5.30 (df=832)</td><td>5.30 (df=832)</td><td>5.30 (df=832)</td><td>5.30 (df=832)</td><td>5.30 (df=832)</td><td>5.30 (df=832)</td><td>5.30 (df=832)</td><td>5.30 (df=832)</td><td>5.30 (df=832)</td><td>5.30 (df=832)</td><td>5.30 (df=832)</td><td>5.30 (df=832)</td><td>5.30 (df=832)</td><td>5.29 (df=832)</td><td>5.26 (df=832)</td><td>5.20 (df=832)</td><td>5.26 (df=832)</td><td>6.77 (df=832)</td></tr><tr><td style=\"text-align: left\">F Statistic</td><td>0.64<sup></sup> (df=1; 832)</td><td>nan<sup>***</sup> (df=1; 832)</td><td>nan<sup>***</sup> (df=1; 832)</td><td>nan<sup>***</sup> (df=1; 832)</td><td>nan<sup>***</sup> (df=1; 832)</td><td>nan<sup>***</sup> (df=1; 832)</td><td>nan<sup>***</sup> (df=1; 832)</td><td>nan<sup>***</sup> (df=1; 832)</td><td>nan<sup>***</sup> (df=1; 832)</td><td>nan<sup>***</sup> (df=1; 832)</td><td>nan<sup>***</sup> (df=1; 832)</td><td>nan<sup>***</sup> (df=1; 832)</td><td>nan<sup>***</sup> (df=1; 832)</td><td>nan<sup>***</sup> (df=1; 832)</td><td>nan<sup>***</sup> (df=1; 832)</td><td>nan<sup>***</sup> (df=1; 832)</td><td>nan<sup>***</sup> (df=1; 832)</td><td>nan<sup>***</sup> (df=1; 832)</td><td>nan<sup>***</sup> (df=1; 832)</td><td>nan<sup>***</sup> (df=1; 832)</td></tr>\n",
       "<tr><td colspan=\"21\" style=\"border-bottom: 1px solid black\"></td></tr><tr><td style=\"text-align: left\">Note:</td><td colspan=\"20\" style=\"text-align: right\"><sup>*</sup>p&lt;0.1; <sup>**</sup>p&lt;0.05; <sup>***</sup>p&lt;0.01</td></tr></table>"
      ],
      "text/plain": [
       "<stargazer.stargazer.Stargazer at 0x7f9908997910>"
      ]
     },
     "execution_count": 6,
     "metadata": {},
     "output_type": "execute_result"
    }
   ],
   "source": [
    "# Get tables\n",
    "regtab_frag, regtab = esttab_ols_quantile(y=outcome, x=\"rep\", quantiles=quantiles, df=df_ind)\n",
    "with open(f\"../tabs/regtab_{savepath}.tex\", \"w\") as tf:\n",
    "    tf.write(regtab_frag)\n",
    "\n",
    "regtab"
   ]
  },
  {
   "cell_type": "markdown",
   "id": "3e50007e",
   "metadata": {},
   "source": [
    "### Proportion duration on adult"
   ]
  },
  {
   "cell_type": "code",
   "execution_count": 7,
   "id": "609e7139",
   "metadata": {
    "ExecuteTime": {
     "end_time": "2023-10-15T02:38:47.204911Z",
     "start_time": "2023-10-15T02:38:47.202487Z"
    },
    "execution": {
     "iopub.execute_input": "2024-04-27T09:54:44.509722Z",
     "iopub.status.busy": "2024-04-27T09:54:44.507558Z",
     "iopub.status.idle": "2024-04-27T09:54:44.512771Z",
     "shell.execute_reply": "2024-04-27T09:54:44.512305Z"
    }
   },
   "outputs": [],
   "source": [
    "outcome = \"prop_adult_duration\"\n",
    "savepath = \"quantile_reg_proportion_duration_adult\""
   ]
  },
  {
   "cell_type": "code",
   "execution_count": 8,
   "id": "84f4446d",
   "metadata": {
    "ExecuteTime": {
     "end_time": "2023-10-15T02:38:47.842493Z",
     "start_time": "2023-10-15T02:38:47.207258Z"
    },
    "code_folding": [
     0
    ],
    "execution": {
     "iopub.execute_input": "2024-04-27T09:54:44.519800Z",
     "iopub.status.busy": "2024-04-27T09:54:44.518998Z",
     "iopub.status.idle": "2024-04-27T09:54:45.512334Z",
     "shell.execute_reply": "2024-04-27T09:54:45.511579Z"
    }
   },
   "outputs": [
    {
     "data": {
      "image/png": "[encoded data removed]",
      "text/plain": [
       "<Figure size 648x518.4 with 1 Axes>"
      ]
     },
     "metadata": {},
     "output_type": "display_data"
    }
   ],
   "source": [
    "# (fold cell) plot\n",
    "quantile_results = [\n",
    "    fit_quantile_reg(y=outcome, x=\"rep\", quantile=quantile, df=df_ind)\n",
    "    for quantile in quantiles\n",
    "]\n",
    "\n",
    "quantile_results = pd.DataFrame(\n",
    "    quantile_results, columns=[\"quantile\", \"intercept\", \"estimate\", \"ll\", \"hl\", \"tstat\", \"pval\", \"obs\"]\n",
    ")\n",
    "\n",
    "\n",
    "scale = 0.9\n",
    "fig, ax = plt.subplots(figsize=(10 * scale, 8 * scale), facecolor=\"white\")\n",
    "\n",
    "y = \"estimate\"\n",
    "x = \"quantile\"\n",
    "plt.plot(\n",
    "    quantile_results[x],\n",
    "    quantile_results[y],\n",
    "    \"o--\",\n",
    "    **opts_connected_line\n",
    ")\n",
    "plt.fill_between(\n",
    "    quantile_results[x],\n",
    "    quantile_results[\"ll\"],\n",
    "    quantile_results[\"hl\"],\n",
    "    **opts_fillbetween\n",
    ")\n",
    "plt.axhline(y=0, **opts_0yline)\n",
    "ax.set_xlabel(\"Quantile\", fontsize=15)\n",
    "ax.set_ylabel(\"Percentage time on pornographic sites\", fontsize=15)\n",
    "# Custom Legend\n",
    "quantile_estimates = mlines.Line2D([], [], \n",
    "                                   marker='o', ls=\"--\",\n",
    "                                   **opts_connected_line,\n",
    "                                   label='Quantile estimates (connected)',\n",
    "                                  )\n",
    "ci = mpatches.Patch(**opts_fillbetween, label='95% confidence interval')\n",
    "yline0 = mlines.Line2D([], [], \n",
    "                       **opts_0yline,\n",
    "                       label=\"Estimate = 0\"\n",
    "                      )\n",
    "custom_legend = plt.legend(\n",
    "    handles=[quantile_estimates, ci, yline0], \n",
    "    handlelength=4, \n",
    "    handletextpad=.3,\n",
    "    labelspacing=.3,\n",
    "    frameon=False,\n",
    "    prop={'weight':'bold', \"size\":14},\n",
    "    loc=\"best\",\n",
    "#     title_fontproperties={'weight':'bold', 'size':14},\n",
    ")\n",
    "ax.set_xlabel(\"Quantile\", fontsize=15)\n",
    "ax.set_ylabel(\"Percentage of time spent on\\nonline pornography sites (%)\", fontsize=15)\n",
    "save_mpl_fig(os.path.join(FIGSAVEDIR, savepath))"
   ]
  },
  {
   "cell_type": "code",
   "execution_count": 9,
   "id": "6b13203a",
   "metadata": {
    "ExecuteTime": {
     "end_time": "2023-10-15T02:38:47.988735Z",
     "start_time": "2023-10-15T02:38:47.844023Z"
    },
    "execution": {
     "iopub.execute_input": "2024-04-27T09:54:45.515806Z",
     "iopub.status.busy": "2024-04-27T09:54:45.515080Z",
     "iopub.status.idle": "2024-04-27T09:54:45.731059Z",
     "shell.execute_reply": "2024-04-27T09:54:45.730277Z"
    }
   },
   "outputs": [
    {
     "data": {
      "text/html": [
       "<table style=\"text-align:center\"><tr><td colspan=\"21\" style=\"border-bottom: 1px solid black\"></td></tr>\n",
       "<tr><td style=\"text-align:left\"></td><td colspan=\"20\"><em>Dependent variable: prop_adult_duration</em></td></tr><tr><td style=\"text-align:left\"></td><tr><td style=\"text-align:left\"></td><td>(1)</td><td>(2)</td><td>(3)</td><td>(4)</td><td>(5)</td><td>(6)</td><td>(7)</td><td>(8)</td><td>(9)</td><td>(10)</td><td>(11)</td><td>(12)</td><td>(13)</td><td>(14)</td><td>(15)</td><td>(16)</td><td>(17)</td><td>(18)</td><td>(19)</td><td>(20)</td></tr>\n",
       "<tr><td colspan=\"21\" style=\"border-bottom: 1px solid black\"></td></tr>\n",
       "\n",
       "<tr><td style=\"text-align:left\">Republican</td><td>0.54<sup></sup></td><td>-0.00<sup></sup></td><td>-0.00<sup></sup></td><td>-0.00<sup></sup></td><td>-0.00<sup></sup></td><td>-0.00<sup></sup></td><td>-0.00<sup></sup></td><td>-0.00<sup></sup></td><td>-0.00<sup></sup></td><td>-0.00<sup></sup></td><td>-0.00<sup></sup></td><td>-0.00<sup></sup></td><td>-0.00<sup></sup></td><td>-0.00<sup></sup></td><td>-0.00<sup>***</sup></td><td>0.05<sup></sup></td><td>0.24<sup></sup></td><td>2.10<sup>***</sup></td><td>3.71<sup></sup></td><td>13.28<sup>*</sup></td></tr>\n",
       "<tr><td style=\"text-align:left\"></td><td>(0.77)</td><td>(0.00)</td><td>(0.00)</td><td>(0.00)</td><td>(0.00)</td><td>(0.00)</td><td>(0.00)</td><td>(0.00)</td><td>(0.00)</td><td>(0.00)</td><td>(0.00)</td><td>(0.00)</td><td>(0.00)</td><td>(0.00)</td><td>(0.00)</td><td>(0.08)</td><td>(0.64)</td><td>(0.79)</td><td>(2.38)</td><td>(7.76)</td></tr>\n",
       "<tr><td style=\"text-align:left\">Constant</td><td>2.92<sup>***</sup></td><td>0.00<sup></sup></td><td>0.00<sup></sup></td><td>0.00<sup></sup></td><td>0.00<sup></sup></td><td>0.00<sup></sup></td><td>0.00<sup></sup></td><td>0.00<sup></sup></td><td>0.00<sup></sup></td><td>0.00<sup></sup></td><td>0.00<sup></sup></td><td>0.00<sup></sup></td><td>0.00<sup></sup></td><td>0.00<sup></sup></td><td>0.00<sup>***</sup></td><td>0.06<sup></sup></td><td>0.65<sup></sup></td><td>1.46<sup>***</sup></td><td>4.81<sup>***</sup></td><td>16.30<sup>***</sup></td></tr>\n",
       "<tr><td style=\"text-align:left\"></td><td>(0.48)</td><td>(0.00)</td><td>(0.00)</td><td>(0.00)</td><td>(0.00)</td><td>(0.00)</td><td>(0.00)</td><td>(0.00)</td><td>(0.00)</td><td>(0.00)</td><td>(0.00)</td><td>(0.00)</td><td>(0.00)</td><td>(0.00)</td><td>(0.00)</td><td>(0.05)</td><td>(0.40)</td><td>(0.50)</td><td>(1.50)</td><td>(4.87)</td></tr>\n",
       "\n",
       "<td colspan=\"21\" style=\"border-bottom: 1px solid black\"></td></tr>\n",
       "<tr><td style=\"text-align: left\">Observations</td><td>834</td><td>834</td><td>834</td><td>834</td><td>834</td><td>834</td><td>834</td><td>834</td><td>834</td><td>834</td><td>834</td><td>834</td><td>834</td><td>834</td><td>834</td><td>834</td><td>834</td><td>834</td><td>834</td><td>834</td></tr><tr><td style=\"text-align: left\">R<sup>2</sup></td><td>0.00</td><td>nan</td><td>nan</td><td>nan</td><td>nan</td><td>nan</td><td>nan</td><td>nan</td><td>nan</td><td>nan</td><td>nan</td><td>nan</td><td>nan</td><td>nan</td><td>nan</td><td>nan</td><td>nan</td><td>nan</td><td>nan</td><td>nan</td></tr><tr><td style=\"text-align: left\">Adjusted R<sup>2</sup></td><td>-0.00</td><td>nan</td><td>nan</td><td>nan</td><td>nan</td><td>nan</td><td>nan</td><td>nan</td><td>nan</td><td>nan</td><td>nan</td><td>nan</td><td>nan</td><td>nan</td><td>nan</td><td>nan</td><td>nan</td><td>nan</td><td>nan</td><td>nan</td></tr><tr><td style=\"text-align: left\">Residual Std. Error</td><td>10.82 (df=832)</td><td>11.27 (df=832)</td><td>11.27 (df=832)</td><td>11.27 (df=832)</td><td>11.27 (df=832)</td><td>11.27 (df=832)</td><td>11.27 (df=832)</td><td>11.27 (df=832)</td><td>11.27 (df=832)</td><td>11.27 (df=832)</td><td>11.27 (df=832)</td><td>11.27 (df=832)</td><td>11.27 (df=832)</td><td>11.27 (df=832)</td><td>11.27 (df=832)</td><td>11.25 (df=832)</td><td>11.08 (df=832)</td><td>10.88 (df=832)</td><td>11.38 (df=832)</td><td>22.31 (df=832)</td></tr><tr><td style=\"text-align: left\">F Statistic</td><td>0.48<sup></sup> (df=1; 832)</td><td>nan<sup>***</sup> (df=1; 832)</td><td>nan<sup>***</sup> (df=1; 832)</td><td>nan<sup>***</sup> (df=1; 832)</td><td>nan<sup>***</sup> (df=1; 832)</td><td>nan<sup>***</sup> (df=1; 832)</td><td>nan<sup>***</sup> (df=1; 832)</td><td>nan<sup>***</sup> (df=1; 832)</td><td>nan<sup>***</sup> (df=1; 832)</td><td>nan<sup>***</sup> (df=1; 832)</td><td>nan<sup>***</sup> (df=1; 832)</td><td>nan<sup>***</sup> (df=1; 832)</td><td>nan<sup>***</sup> (df=1; 832)</td><td>nan<sup>***</sup> (df=1; 832)</td><td>nan<sup>***</sup> (df=1; 832)</td><td>nan<sup>***</sup> (df=1; 832)</td><td>nan<sup>***</sup> (df=1; 832)</td><td>nan<sup>***</sup> (df=1; 832)</td><td>nan<sup>***</sup> (df=1; 832)</td><td>nan<sup>***</sup> (df=1; 832)</td></tr>\n",
       "<tr><td colspan=\"21\" style=\"border-bottom: 1px solid black\"></td></tr><tr><td style=\"text-align: left\">Note:</td><td colspan=\"20\" style=\"text-align: right\"><sup>*</sup>p&lt;0.1; <sup>**</sup>p&lt;0.05; <sup>***</sup>p&lt;0.01</td></tr></table>"
      ],
      "text/plain": [
       "<stargazer.stargazer.Stargazer at 0x7f989aa889d0>"
      ]
     },
     "execution_count": 9,
     "metadata": {},
     "output_type": "execute_result"
    }
   ],
   "source": [
    "# Get tables\n",
    "regtab_frag, regtab = esttab_ols_quantile(y=outcome, x=\"rep\", quantiles=quantiles, df=df_ind)\n",
    "with open(f\"../tabs/regtab_{savepath}.tex\", \"w\") as tf:\n",
    "    tf.write(regtab_frag)\n",
    "\n",
    "regtab"
   ]
  },
  {
   "cell_type": "markdown",
   "id": "7cc7b145",
   "metadata": {},
   "source": [
    "### Visits to adult"
   ]
  },
  {
   "cell_type": "code",
   "execution_count": 10,
   "id": "42b8148c",
   "metadata": {
    "ExecuteTime": {
     "end_time": "2023-10-15T02:38:47.993461Z",
     "start_time": "2023-10-15T02:38:47.991243Z"
    },
    "execution": {
     "iopub.execute_input": "2024-04-27T09:54:45.735042Z",
     "iopub.status.busy": "2024-04-27T09:54:45.734145Z",
     "iopub.status.idle": "2024-04-27T09:54:45.737735Z",
     "shell.execute_reply": "2024-04-27T09:54:45.737317Z"
    }
   },
   "outputs": [],
   "source": [
    "outcome = \"visits_adult\"\n",
    "savepath = \"quantile_reg_visits_adult\""
   ]
  },
  {
   "cell_type": "code",
   "execution_count": 11,
   "id": "da8f378b",
   "metadata": {
    "ExecuteTime": {
     "end_time": "2023-10-15T02:38:48.693365Z",
     "start_time": "2023-10-15T02:38:47.995215Z"
    },
    "code_folding": [
     0
    ],
    "execution": {
     "iopub.execute_input": "2024-04-27T09:54:45.741122Z",
     "iopub.status.busy": "2024-04-27T09:54:45.740074Z",
     "iopub.status.idle": "2024-04-27T09:54:46.747533Z",
     "shell.execute_reply": "2024-04-27T09:54:46.746739Z"
    }
   },
   "outputs": [
    {
     "data": {
      "image/png": "[encoded data removed]",
      "text/plain": [
       "<Figure size 648x518.4 with 1 Axes>"
      ]
     },
     "metadata": {},
     "output_type": "display_data"
    }
   ],
   "source": [
    "# (fold cell) plot\n",
    "quantile_results = [\n",
    "    fit_quantile_reg(y=outcome, x=\"rep\", quantile=quantile, df=df_ind)\n",
    "    for quantile in quantiles\n",
    "]\n",
    "\n",
    "quantile_results = pd.DataFrame(\n",
    "    quantile_results, columns=[\"quantile\", \"intercept\", \"estimate\", \"ll\", \"hl\", \"tstat\", \"pval\", \"obs\"]\n",
    ")\n",
    "\n",
    "scale = 0.9\n",
    "fig, ax = plt.subplots(figsize=(10 * scale, 8 * scale), facecolor=\"white\")\n",
    "\n",
    "y = \"estimate\"\n",
    "x = \"quantile\"\n",
    "plt.plot(\n",
    "    quantile_results[x],\n",
    "    quantile_results[y],\n",
    "    \"o--\",\n",
    "    **opts_connected_line\n",
    ")\n",
    "plt.fill_between(\n",
    "    quantile_results[x],\n",
    "    quantile_results[\"ll\"],\n",
    "    quantile_results[\"hl\"],\n",
    "    **opts_fillbetween\n",
    ")\n",
    "plt.axhline(y=0, **opts_0yline)\n",
    "ax.set_xlabel(\"Quantile\", fontsize=15)\n",
    "ax.set_ylabel(\"Visits to pornographic sites\", fontsize=15)\n",
    "# Custom Legend\n",
    "quantile_estimates = mlines.Line2D([], [], \n",
    "                                   marker='o', ls=\"--\",\n",
    "                                   **opts_connected_line,\n",
    "                                   label='Quantile estimates (connected)',\n",
    "                                  )\n",
    "ci = mpatches.Patch(**opts_fillbetween, label='95% confidence interval')\n",
    "yline0 = mlines.Line2D([], [], \n",
    "                       **opts_0yline,\n",
    "                       label=\"Estimate = 0\"\n",
    "                      )\n",
    "custom_legend = plt.legend(\n",
    "    handles=[quantile_estimates, ci, yline0], \n",
    "    handlelength=4, \n",
    "    handletextpad=.3,\n",
    "    labelspacing=.3,\n",
    "    frameon=False,\n",
    "    prop={'weight':'bold', \"size\":14},\n",
    "    loc=\"best\",\n",
    ")\n",
    "ax.set_xlabel(\"Quantile\", fontsize=15)\n",
    "ax.set_ylabel(\"Traffic to pornography sites\", fontsize=15)\n",
    "save_mpl_fig(os.path.join(FIGSAVEDIR, savepath))"
   ]
  },
  {
   "cell_type": "code",
   "execution_count": 12,
   "id": "a1bd3961",
   "metadata": {
    "ExecuteTime": {
     "end_time": "2023-10-15T02:38:48.869616Z",
     "start_time": "2023-10-15T02:38:48.694970Z"
    },
    "execution": {
     "iopub.execute_input": "2024-04-27T09:54:46.749626Z",
     "iopub.status.busy": "2024-04-27T09:54:46.749453Z",
     "iopub.status.idle": "2024-04-27T09:54:47.067769Z",
     "shell.execute_reply": "2024-04-27T09:54:47.067129Z"
    }
   },
   "outputs": [
    {
     "data": {
      "text/html": [
       "<table style=\"text-align:center\"><tr><td colspan=\"21\" style=\"border-bottom: 1px solid black\"></td></tr>\n",
       "<tr><td style=\"text-align:left\"></td><td colspan=\"20\"><em>Dependent variable: visits_adult</em></td></tr><tr><td style=\"text-align:left\"></td><tr><td style=\"text-align:left\"></td><td>(1)</td><td>(2)</td><td>(3)</td><td>(4)</td><td>(5)</td><td>(6)</td><td>(7)</td><td>(8)</td><td>(9)</td><td>(10)</td><td>(11)</td><td>(12)</td><td>(13)</td><td>(14)</td><td>(15)</td><td>(16)</td><td>(17)</td><td>(18)</td><td>(19)</td><td>(20)</td></tr>\n",
       "<tr><td colspan=\"21\" style=\"border-bottom: 1px solid black\"></td></tr>\n",
       "\n",
       "<tr><td style=\"text-align:left\">Republican</td><td>13.83<sup></sup></td><td>-0.00<sup></sup></td><td>-0.00<sup></sup></td><td>-0.00<sup></sup></td><td>-0.00<sup></sup></td><td>-0.00<sup></sup></td><td>-0.00<sup></sup></td><td>-0.00<sup></sup></td><td>-0.00<sup></sup></td><td>-0.00<sup></sup></td><td>-0.00<sup></sup></td><td>-0.00<sup></sup></td><td>-0.00<sup></sup></td><td>-0.00<sup></sup></td><td>-2.00<sup>***</sup></td><td>2.00<sup></sup></td><td>16.00<sup>**</sup></td><td>54.00<sup>***</sup></td><td>122.00<sup>***</sup></td><td>231.00<sup>**</sup></td></tr>\n",
       "<tr><td style=\"text-align:left\"></td><td>(20.00)</td><td>(0.22)</td><td>(0.20)</td><td>(0.19)</td><td>(0.18)</td><td>(0.18)</td><td>(0.17)</td><td>(0.17)</td><td>(0.17)</td><td>(0.16)</td><td>(0.16)</td><td>(0.15)</td><td>(0.14)</td><td>(0.14)</td><td>(0.26)</td><td>(3.16)</td><td>(7.16)</td><td>(13.49)</td><td>(28.45)</td><td>(94.81)</td></tr>\n",
       "<tr><td style=\"text-align:left\">Constant</td><td>59.87<sup>***</sup></td><td>0.00<sup></sup></td><td>0.00<sup></sup></td><td>0.00<sup></sup></td><td>0.00<sup></sup></td><td>0.00<sup></sup></td><td>0.00<sup></sup></td><td>0.00<sup></sup></td><td>0.00<sup></sup></td><td>0.00<sup></sup></td><td>0.00<sup></sup></td><td>0.00<sup></sup></td><td>0.00<sup></sup></td><td>0.00<sup></sup></td><td>2.00<sup>***</sup></td><td>6.00<sup>***</sup></td><td>12.00<sup>***</sup></td><td>28.00<sup>***</sup></td><td>60.00<sup>***</sup></td><td>222.00<sup>***</sup></td></tr>\n",
       "<tr><td style=\"text-align:left\"></td><td>(13.37)</td><td>(0.14)</td><td>(0.12)</td><td>(0.12)</td><td>(0.11)</td><td>(0.11)</td><td>(0.11)</td><td>(0.11)</td><td>(0.11)</td><td>(0.10)</td><td>(0.10)</td><td>(0.10)</td><td>(0.09)</td><td>(0.09)</td><td>(0.17)</td><td>(2.00)</td><td>(4.52)</td><td>(8.52)</td><td>(17.86)</td><td>(60.19)</td></tr>\n",
       "\n",
       "<td colspan=\"21\" style=\"border-bottom: 1px solid black\"></td></tr>\n",
       "<tr><td style=\"text-align: left\">Observations</td><td>834</td><td>834</td><td>834</td><td>834</td><td>834</td><td>834</td><td>834</td><td>834</td><td>834</td><td>834</td><td>834</td><td>834</td><td>834</td><td>834</td><td>834</td><td>834</td><td>834</td><td>834</td><td>834</td><td>834</td></tr><tr><td style=\"text-align: left\">R<sup>2</sup></td><td>0.00</td><td>nan</td><td>nan</td><td>nan</td><td>nan</td><td>nan</td><td>nan</td><td>nan</td><td>nan</td><td>nan</td><td>nan</td><td>nan</td><td>nan</td><td>nan</td><td>nan</td><td>nan</td><td>nan</td><td>nan</td><td>nan</td><td>nan</td></tr><tr><td style=\"text-align: left\">Adjusted R<sup>2</sup></td><td>-0.00</td><td>nan</td><td>nan</td><td>nan</td><td>nan</td><td>nan</td><td>nan</td><td>nan</td><td>nan</td><td>nan</td><td>nan</td><td>nan</td><td>nan</td><td>nan</td><td>nan</td><td>nan</td><td>nan</td><td>nan</td><td>nan</td><td>nan</td></tr><tr><td style=\"text-align: left\">Residual Std. Error</td><td>288.11 (df=832)</td><td>295.54 (df=832)</td><td>295.54 (df=832)</td><td>295.54 (df=832)</td><td>295.54 (df=832)</td><td>295.54 (df=832)</td><td>295.54 (df=832)</td><td>295.54 (df=832)</td><td>295.54 (df=832)</td><td>295.54 (df=832)</td><td>295.54 (df=832)</td><td>295.54 (df=832)</td><td>295.54 (df=832)</td><td>295.54 (df=832)</td><td>295.30 (df=832)</td><td>294.08 (df=832)</td><td>291.93 (df=832)</td><td>289.22 (df=832)</td><td>296.15 (df=832)</td><td>395.50 (df=832)</td></tr><tr><td style=\"text-align: left\">F Statistic</td><td>0.48<sup></sup> (df=1; 832)</td><td>nan<sup>***</sup> (df=1; 832)</td><td>nan<sup>***</sup> (df=1; 832)</td><td>nan<sup>***</sup> (df=1; 832)</td><td>nan<sup>***</sup> (df=1; 832)</td><td>nan<sup>***</sup> (df=1; 832)</td><td>nan<sup>***</sup> (df=1; 832)</td><td>nan<sup>***</sup> (df=1; 832)</td><td>nan<sup>***</sup> (df=1; 832)</td><td>nan<sup>***</sup> (df=1; 832)</td><td>nan<sup>***</sup> (df=1; 832)</td><td>nan<sup>***</sup> (df=1; 832)</td><td>nan<sup>***</sup> (df=1; 832)</td><td>nan<sup>***</sup> (df=1; 832)</td><td>nan<sup>***</sup> (df=1; 832)</td><td>nan<sup>***</sup> (df=1; 832)</td><td>nan<sup>***</sup> (df=1; 832)</td><td>nan<sup>***</sup> (df=1; 832)</td><td>nan<sup>***</sup> (df=1; 832)</td><td>nan<sup>***</sup> (df=1; 832)</td></tr>\n",
       "<tr><td colspan=\"21\" style=\"border-bottom: 1px solid black\"></td></tr><tr><td style=\"text-align: left\">Note:</td><td colspan=\"20\" style=\"text-align: right\"><sup>*</sup>p&lt;0.1; <sup>**</sup>p&lt;0.05; <sup>***</sup>p&lt;0.01</td></tr></table>"
      ],
      "text/plain": [
       "<stargazer.stargazer.Stargazer at 0x7f989abf97e0>"
      ]
     },
     "execution_count": 12,
     "metadata": {},
     "output_type": "execute_result"
    }
   ],
   "source": [
    "# Get tables\n",
    "regtab_frag, regtab = esttab_ols_quantile(y=outcome, x=\"rep\", quantiles=quantiles, df=df_ind)\n",
    "with open(f\"../tabs/regtab_{savepath}.tex\", \"w\") as tf:\n",
    "    tf.write(regtab_frag)\n",
    "\n",
    "regtab"
   ]
  },
  {
   "cell_type": "markdown",
   "id": "6ea59dd7",
   "metadata": {
    "ExecuteTime": {
     "end_time": "2022-12-05T06:50:24.012627Z",
     "start_time": "2022-12-05T06:50:24.008658Z"
    }
   },
   "source": [
    "### Proportion visits to adult"
   ]
  },
  {
   "cell_type": "code",
   "execution_count": 13,
   "id": "f1ba01bc",
   "metadata": {
    "ExecuteTime": {
     "end_time": "2023-10-15T02:38:48.873879Z",
     "start_time": "2023-10-15T02:38:48.871358Z"
    },
    "execution": {
     "iopub.execute_input": "2024-04-27T09:54:47.070242Z",
     "iopub.status.busy": "2024-04-27T09:54:47.069904Z",
     "iopub.status.idle": "2024-04-27T09:54:47.073886Z",
     "shell.execute_reply": "2024-04-27T09:54:47.073371Z"
    }
   },
   "outputs": [],
   "source": [
    "outcome = \"prop_adult_visits\"\n",
    "savepath = \"quantile_reg_proportion_visits_adult\""
   ]
  },
  {
   "cell_type": "code",
   "execution_count": 14,
   "id": "317540dc",
   "metadata": {
    "ExecuteTime": {
     "end_time": "2023-10-15T02:38:49.627810Z",
     "start_time": "2023-10-15T02:38:48.875531Z"
    },
    "code_folding": [
     0
    ],
    "execution": {
     "iopub.execute_input": "2024-04-27T09:54:47.076863Z",
     "iopub.status.busy": "2024-04-27T09:54:47.076143Z",
     "iopub.status.idle": "2024-04-27T09:54:48.263120Z",
     "shell.execute_reply": "2024-04-27T09:54:48.262630Z"
    }
   },
   "outputs": [
    {
     "data": {
      "image/png": "[encoded data removed]",
      "text/plain": [
       "<Figure size 648x518.4 with 1 Axes>"
      ]
     },
     "metadata": {},
     "output_type": "display_data"
    }
   ],
   "source": [
    "# (fold cell) plot\n",
    "quantile_results = [\n",
    "    fit_quantile_reg(y=outcome, x=\"rep\", quantile=quantile, df=df_ind)\n",
    "    for quantile in quantiles\n",
    "]\n",
    "\n",
    "quantile_results = pd.DataFrame(\n",
    "    quantile_results, columns=[\"quantile\", \"intercept\", \"estimate\", \"ll\", \"hl\", \"tstat\", \"pval\", \"obs\"]\n",
    ")\n",
    "\n",
    "\n",
    "scale = 0.9\n",
    "fig, ax = plt.subplots(figsize=(10 * scale, 8 * scale), facecolor=\"white\")\n",
    "\n",
    "y = \"estimate\"\n",
    "x = \"quantile\"\n",
    "plt.plot(\n",
    "    quantile_results[x],\n",
    "    quantile_results[y],\n",
    "    \"o--\",\n",
    "    **opts_connected_line\n",
    ")\n",
    "plt.fill_between(\n",
    "    quantile_results[x],\n",
    "    quantile_results[\"ll\"],\n",
    "    quantile_results[\"hl\"],\n",
    "    **opts_fillbetween\n",
    ")\n",
    "plt.axhline(y=0, **opts_0yline)\n",
    "ax.set_xlabel(\"Quantile\", fontsize=15)\n",
    "ax.set_ylabel(\"Percentage visits to pornographic sites\", fontsize=15)\n",
    "# Custom Legend\n",
    "quantile_estimates = mlines.Line2D([], [], \n",
    "                                   marker='o', ls=\"--\",\n",
    "                                   **opts_connected_line,\n",
    "                                   label='Quantile estimates (connected)',\n",
    "                                  )\n",
    "ci = mpatches.Patch(**opts_fillbetween, label='95% confidence interval')\n",
    "yline0 = mlines.Line2D([], [], \n",
    "                       **opts_0yline,\n",
    "                       label=\"Estimate = 0\"\n",
    "                      )\n",
    "custom_legend = plt.legend(\n",
    "    handles=[quantile_estimates, ci, yline0], \n",
    "    handlelength=4, \n",
    "    handletextpad=.3,\n",
    "    labelspacing=.3,\n",
    "    frameon=False,\n",
    "    prop={'weight':'bold', \"size\":14},\n",
    "    loc=\"best\",\n",
    "#     title_fontproperties={'weight':'bold', 'size':14},\n",
    ")\n",
    "ax.set_xlabel(\"Quantile\", fontsize=15)\n",
    "ax.set_ylabel(\"Percentage of traffic to pornography sites (%)\", fontsize=15)\n",
    "save_mpl_fig(os.path.join(FIGSAVEDIR, savepath))"
   ]
  },
  {
   "cell_type": "code",
   "execution_count": 15,
   "id": "4be2e0f6",
   "metadata": {
    "ExecuteTime": {
     "end_time": "2023-10-15T02:38:49.809506Z",
     "start_time": "2023-10-15T02:38:49.629566Z"
    },
    "execution": {
     "iopub.execute_input": "2024-04-27T09:54:48.265858Z",
     "iopub.status.busy": "2024-04-27T09:54:48.265444Z",
     "iopub.status.idle": "2024-04-27T09:54:48.667251Z",
     "shell.execute_reply": "2024-04-27T09:54:48.666581Z"
    }
   },
   "outputs": [
    {
     "data": {
      "text/html": [
       "<table style=\"text-align:center\"><tr><td colspan=\"21\" style=\"border-bottom: 1px solid black\"></td></tr>\n",
       "<tr><td style=\"text-align:left\"></td><td colspan=\"20\"><em>Dependent variable: prop_adult_visits</em></td></tr><tr><td style=\"text-align:left\"></td><tr><td style=\"text-align:left\"></td><td>(1)</td><td>(2)</td><td>(3)</td><td>(4)</td><td>(5)</td><td>(6)</td><td>(7)</td><td>(8)</td><td>(9)</td><td>(10)</td><td>(11)</td><td>(12)</td><td>(13)</td><td>(14)</td><td>(15)</td><td>(16)</td><td>(17)</td><td>(18)</td><td>(19)</td><td>(20)</td></tr>\n",
       "<tr><td colspan=\"21\" style=\"border-bottom: 1px solid black\"></td></tr>\n",
       "\n",
       "<tr><td style=\"text-align:left\">Republican</td><td>0.56<sup></sup></td><td>-0.00<sup></sup></td><td>-0.00<sup></sup></td><td>-0.00<sup></sup></td><td>-0.00<sup></sup></td><td>-0.00<sup></sup></td><td>-0.00<sup></sup></td><td>-0.00<sup></sup></td><td>-0.00<sup></sup></td><td>-0.00<sup></sup></td><td>-0.00<sup></sup></td><td>-0.00<sup></sup></td><td>-0.00<sup></sup></td><td>-0.00<sup></sup></td><td>-0.03<sup>***</sup></td><td>0.08<sup></sup></td><td>0.48<sup>*</sup></td><td>1.62<sup>**</sup></td><td>2.75<sup>*</sup></td><td>7.91<sup>***</sup></td></tr>\n",
       "<tr><td style=\"text-align:left\"></td><td>(0.48)</td><td>(0.01)</td><td>(0.00)</td><td>(0.00)</td><td>(0.00)</td><td>(0.00)</td><td>(0.00)</td><td>(0.00)</td><td>(0.00)</td><td>(0.00)</td><td>(0.00)</td><td>(0.00)</td><td>(0.00)</td><td>(0.00)</td><td>(0.00)</td><td>(0.14)</td><td>(0.25)</td><td>(0.63)</td><td>(1.44)</td><td>(2.52)</td></tr>\n",
       "<tr><td style=\"text-align:left\">Constant</td><td>1.71<sup>***</sup></td><td>0.00<sup></sup></td><td>0.00<sup></sup></td><td>0.00<sup></sup></td><td>0.00<sup></sup></td><td>0.00<sup></sup></td><td>0.00<sup></sup></td><td>0.00<sup></sup></td><td>0.00<sup></sup></td><td>0.00<sup></sup></td><td>0.00<sup></sup></td><td>0.00<sup></sup></td><td>0.00<sup></sup></td><td>0.00<sup></sup></td><td>0.03<sup>***</sup></td><td>0.14<sup></sup></td><td>0.37<sup>**</sup></td><td>1.18<sup>***</sup></td><td>4.37<sup>***</sup></td><td>9.09<sup>***</sup></td></tr>\n",
       "<tr><td style=\"text-align:left\"></td><td>(0.27)</td><td>(0.00)</td><td>(0.00)</td><td>(0.00)</td><td>(0.00)</td><td>(0.00)</td><td>(0.00)</td><td>(0.00)</td><td>(0.00)</td><td>(0.00)</td><td>(0.00)</td><td>(0.00)</td><td>(0.00)</td><td>(0.00)</td><td>(0.00)</td><td>(0.09)</td><td>(0.15)</td><td>(0.40)</td><td>(0.90)</td><td>(1.60)</td></tr>\n",
       "\n",
       "<td colspan=\"21\" style=\"border-bottom: 1px solid black\"></td></tr>\n",
       "<tr><td style=\"text-align: left\">Observations</td><td>834</td><td>834</td><td>834</td><td>834</td><td>834</td><td>834</td><td>834</td><td>834</td><td>834</td><td>834</td><td>834</td><td>834</td><td>834</td><td>834</td><td>834</td><td>834</td><td>834</td><td>834</td><td>834</td><td>834</td></tr><tr><td style=\"text-align: left\">R<sup>2</sup></td><td>0.00</td><td>nan</td><td>nan</td><td>nan</td><td>nan</td><td>nan</td><td>nan</td><td>nan</td><td>nan</td><td>nan</td><td>nan</td><td>nan</td><td>nan</td><td>nan</td><td>nan</td><td>nan</td><td>nan</td><td>nan</td><td>nan</td><td>nan</td></tr><tr><td style=\"text-align: left\">Adjusted R<sup>2</sup></td><td>0.00</td><td>nan</td><td>nan</td><td>nan</td><td>nan</td><td>nan</td><td>nan</td><td>nan</td><td>nan</td><td>nan</td><td>nan</td><td>nan</td><td>nan</td><td>nan</td><td>nan</td><td>nan</td><td>nan</td><td>nan</td><td>nan</td><td>nan</td></tr><tr><td style=\"text-align: left\">Residual Std. Error</td><td>6.54 (df=832)</td><td>6.83 (df=832)</td><td>6.83 (df=832)</td><td>6.83 (df=832)</td><td>6.83 (df=832)</td><td>6.83 (df=832)</td><td>6.83 (df=832)</td><td>6.83 (df=832)</td><td>6.83 (df=832)</td><td>6.83 (df=832)</td><td>6.83 (df=832)</td><td>6.83 (df=832)</td><td>6.83 (df=832)</td><td>6.83 (df=832)</td><td>6.83 (df=832)</td><td>6.78 (df=832)</td><td>6.69 (df=832)</td><td>6.57 (df=832)</td><td>7.51 (df=832)</td><td>12.74 (df=832)</td></tr><tr><td style=\"text-align: left\">F Statistic</td><td>1.39<sup></sup> (df=1; 832)</td><td>nan<sup>***</sup> (df=1; 832)</td><td>nan<sup>***</sup> (df=1; 832)</td><td>nan<sup>***</sup> (df=1; 832)</td><td>nan<sup>***</sup> (df=1; 832)</td><td>nan<sup>***</sup> (df=1; 832)</td><td>nan<sup>***</sup> (df=1; 832)</td><td>nan<sup>***</sup> (df=1; 832)</td><td>nan<sup>***</sup> (df=1; 832)</td><td>nan<sup>***</sup> (df=1; 832)</td><td>nan<sup>***</sup> (df=1; 832)</td><td>nan<sup>***</sup> (df=1; 832)</td><td>nan<sup>***</sup> (df=1; 832)</td><td>nan<sup>***</sup> (df=1; 832)</td><td>nan<sup>***</sup> (df=1; 832)</td><td>nan<sup>***</sup> (df=1; 832)</td><td>nan<sup>***</sup> (df=1; 832)</td><td>nan<sup>***</sup> (df=1; 832)</td><td>nan<sup>***</sup> (df=1; 832)</td><td>nan<sup>***</sup> (df=1; 832)</td></tr>\n",
       "<tr><td colspan=\"21\" style=\"border-bottom: 1px solid black\"></td></tr><tr><td style=\"text-align: left\">Note:</td><td colspan=\"20\" style=\"text-align: right\"><sup>*</sup>p&lt;0.1; <sup>**</sup>p&lt;0.05; <sup>***</sup>p&lt;0.01</td></tr></table>"
      ],
      "text/plain": [
       "<stargazer.stargazer.Stargazer at 0x7f989aa6ceb0>"
      ]
     },
     "execution_count": 15,
     "metadata": {},
     "output_type": "execute_result"
    }
   ],
   "source": [
    "# Get tables\n",
    "regtab_frag, regtab = esttab_ols_quantile(y=outcome, x=\"rep\", quantiles=quantiles, df=df_ind)\n",
    "with open(f\"../tabs/regtab_{savepath}.tex\", \"w\") as tf:\n",
    "    tf.write(regtab_frag)\n",
    "\n",
    "regtab"
   ]
  },
  {
   "cell_type": "code",
   "execution_count": null,
   "id": "b4721b9a",
   "metadata": {},
   "outputs": [],
   "source": []
  },
  {
   "cell_type": "code",
   "execution_count": null,
   "id": "91a31b51",
   "metadata": {},
   "outputs": [],
   "source": []
  }
 ],
 "metadata": {
  "kernelspec": {
   "display_name": "Python 3 (ipykernel)",
   "language": "python",
   "name": "python3"
  },
  "language_info": {
   "codemirror_mode": {
    "name": "ipython",
    "version": 3
   },
   "file_extension": ".py",
   "mimetype": "text/x-python",
   "name": "python",
   "nbconvert_exporter": "python",
   "pygments_lexer": "ipython3",
   "version": "3.10.11"
  },
  "toc": {
   "base_numbering": 1,
   "nav_menu": {},
   "number_sections": true,
   "sideBar": true,
   "skip_h1_title": false,
   "title_cell": "Table of Contents",
   "title_sidebar": "Contents",
   "toc_cell": false,
   "toc_position": {},
   "toc_section_display": true,
   "toc_window_display": false
  },
  "varInspector": {
   "cols": {
    "lenName": 16,
    "lenType": 16,
    "lenVar": 40
   },
   "kernels_config": {
    "python": {
     "delete_cmd_postfix": "",
     "delete_cmd_prefix": "del ",
     "library": "var_list.py",
     "varRefreshCmd": "print(var_dic_list())"
    },
    "r": {
     "delete_cmd_postfix": ") ",
     "delete_cmd_prefix": "rm(",
     "library": "var_list.r",
     "varRefreshCmd": "cat(var_dic_list()) "
    }
   },
   "types_to_exclude": [
    "module",
    "function",
    "builtin_function_or_method",
    "instance",
    "_Feature"
   ],
   "window_display": false
  }
 },
 "nbformat": 4,
 "nbformat_minor": 5
}
