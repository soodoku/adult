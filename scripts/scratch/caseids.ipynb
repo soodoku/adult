{
 "cells": [
  {
   "cell_type": "code",
   "execution_count": 1,
   "id": "f41e790c",
   "metadata": {
    "ExecuteTime": {
     "end_time": "2022-12-14T05:33:20.885273Z",
     "start_time": "2022-12-14T05:33:18.938793Z"
    }
   },
   "outputs": [],
   "source": [
    "import os\n",
    "import pandas as pd\n",
    "import janitor\n",
    "import numpy as np\n",
    "pd.set_option('display.max_columns', 100)\n",
    "\n",
    "DATAPATH = \"../../adult-data\"        "
   ]
  },
  {
   "cell_type": "code",
   "execution_count": 2,
   "id": "ddda304d",
   "metadata": {
    "ExecuteTime": {
     "end_time": "2022-12-14T05:33:40.106800Z",
     "start_time": "2022-12-14T05:33:21.890506Z"
    },
    "code_folding": []
   },
   "outputs": [
    {
     "name": "stdout",
     "output_type": "stream",
     "text": [
      "df of web browses\n",
      "len(df)=6,297,382\n"
     ]
    },
    {
     "data": {
      "text/html": [
       "<div>\n",
       "<style scoped>\n",
       "    .dataframe tbody tr th:only-of-type {\n",
       "        vertical-align: middle;\n",
       "    }\n",
       "\n",
       "    .dataframe tbody tr th {\n",
       "        vertical-align: top;\n",
       "    }\n",
       "\n",
       "    .dataframe thead th {\n",
       "        text-align: right;\n",
       "    }\n",
       "</style>\n",
       "<table border=\"1\" class=\"dataframe\">\n",
       "  <thead>\n",
       "    <tr style=\"text-align: right;\">\n",
       "      <th></th>\n",
       "      <th>caseid</th>\n",
       "      <th>private_domain</th>\n",
       "      <th>category</th>\n",
       "      <th>visit_time_local</th>\n",
       "      <th>visit_duration</th>\n",
       "    </tr>\n",
       "  </thead>\n",
       "  <tbody>\n",
       "    <tr>\n",
       "      <th>0</th>\n",
       "      <td>205323077</td>\n",
       "      <td>google.com</td>\n",
       "      <td>Search Engines and Portals</td>\n",
       "      <td>2022-05-31 23:52:37</td>\n",
       "      <td>2</td>\n",
       "    </tr>\n",
       "    <tr>\n",
       "      <th>1</th>\n",
       "      <td>205323077</td>\n",
       "      <td>coupons.com</td>\n",
       "      <td>Business, Shopping</td>\n",
       "      <td>2022-06-01 01:07:35</td>\n",
       "      <td>457</td>\n",
       "    </tr>\n",
       "    <tr>\n",
       "      <th>2</th>\n",
       "      <td>205323077</td>\n",
       "      <td>google.com</td>\n",
       "      <td>Business</td>\n",
       "      <td>2022-06-01 01:15:12</td>\n",
       "      <td>55</td>\n",
       "    </tr>\n",
       "    <tr>\n",
       "      <th>3</th>\n",
       "      <td>205323077</td>\n",
       "      <td>coupons.com</td>\n",
       "      <td>Business, Shopping</td>\n",
       "      <td>2022-06-01 01:16:07</td>\n",
       "      <td>2225</td>\n",
       "    </tr>\n",
       "    <tr>\n",
       "      <th>4</th>\n",
       "      <td>205323077</td>\n",
       "      <td>google.com</td>\n",
       "      <td>Search Engines and Portals</td>\n",
       "      <td>2022-06-01 04:38:10</td>\n",
       "      <td>10</td>\n",
       "    </tr>\n",
       "  </tbody>\n",
       "</table>\n",
       "</div>"
      ],
      "text/plain": [
       "      caseid private_domain                    category     visit_time_local  \\\n",
       "0  205323077     google.com  Search Engines and Portals  2022-05-31 23:52:37   \n",
       "1  205323077    coupons.com          Business, Shopping  2022-06-01 01:07:35   \n",
       "2  205323077     google.com                    Business  2022-06-01 01:15:12   \n",
       "3  205323077    coupons.com          Business, Shopping  2022-06-01 01:16:07   \n",
       "4  205323077     google.com  Search Engines and Portals  2022-06-01 04:38:10   \n",
       "\n",
       "   visit_duration  \n",
       "0               2  \n",
       "1             457  \n",
       "2              55  \n",
       "3            2225  \n",
       "4              10  "
      ]
     },
     "execution_count": 2,
     "metadata": {},
     "output_type": "execute_result"
    }
   ],
   "source": [
    "# (fold cell) Load web browsing data\n",
    "usecols_web_desktop = [\"caseid\", \"category\", \"private_domain\", \"visit_duration\", \"visit_time_local\"]\n",
    "usecols = [\"caseid\", \"category\", \"private_domain\", \"page_duration\", \"session_start_time\"]\n",
    "\n",
    "df = (pd.concat([\n",
    "        # Get web_mobile\n",
    "        pd.read_csv(\n",
    "            os.path.join(DATAPATH, \"output/realityMine_web_mobile_2022-06-01_2022-06-30.csv\"),\n",
    "            usecols=usecols_web_desktop,\n",
    "            low_memory=False,\n",
    "        ), \n",
    "        # Get web_desktop\n",
    "        pd.read_csv(\n",
    "            os.path.join(DATAPATH, \"output/realityMine_web_desktop_2022-06-01_2022-06-30.csv\"),\n",
    "            usecols=usecols_web_desktop,\n",
    "            low_memory=False,\n",
    "        ),\n",
    "        # Get web\n",
    "        (pd.read_csv(\n",
    "            os.path.join(DATAPATH, \"output/realityMine_web_2022-06-01_2022-06-30.csv\"),\n",
    "            usecols=usecols,\n",
    "            low_memory=False,\n",
    "        )\n",
    "         # Renaming columns to be consistent w/ web_mobile & web_desktop\n",
    "         .rename_column(\"session_start_time\", \"visit_time_local\")\n",
    "         .rename_column(\"page_duration\", \"visit_duration\")\n",
    "        )\n",
    "        ])\n",
    "      .dropna(subset=[\"caseid\", \"visit_duration\"])\n",
    "    .assign(caseid=lambda df: df.caseid.astype(object))      \n",
    "     )\n",
    "print(\"df of web browses\")\n",
    "print(f\"{len(df)=:,}\")\n",
    "df.head()"
   ]
  },
  {
   "cell_type": "code",
   "execution_count": 3,
   "id": "fe4fef1d",
   "metadata": {
    "ExecuteTime": {
     "end_time": "2022-12-14T05:34:51.502063Z",
     "start_time": "2022-12-14T05:34:50.730901Z"
    }
   },
   "outputs": [
    {
     "name": "stdout",
     "output_type": "stream",
     "text": [
      "_nonzeroes=5,972,450\n"
     ]
    }
   ],
   "source": [
    "# Zero duration (visit_duration==0)\n",
    "_nonzeroes = len(df.query(\"visit_duration!=0\"))\n",
    "print(f\"{_nonzeroes=:,}\")"
   ]
  },
  {
   "cell_type": "code",
   "execution_count": 4,
   "id": "7fb9e40b",
   "metadata": {
    "ExecuteTime": {
     "end_time": "2022-12-14T05:34:56.894037Z",
     "start_time": "2022-12-14T05:34:56.810018Z"
    }
   },
   "outputs": [
    {
     "name": "stdout",
     "output_type": "stream",
     "text": [
      "_zeroes=324,932\n"
     ]
    }
   ],
   "source": [
    "# Zero duration (visit_duration==0)\n",
    "_zeroes = len(df.query(\"visit_duration==0\"))\n",
    "print(f\"{_zeroes=:,}\")"
   ]
  },
  {
   "cell_type": "code",
   "execution_count": 5,
   "id": "5d3bc5ca",
   "metadata": {
    "ExecuteTime": {
     "end_time": "2022-12-14T05:35:04.264445Z",
     "start_time": "2022-12-14T05:35:04.225428Z"
    },
    "code_folding": [
     0
    ],
    "scrolled": true
   },
   "outputs": [
    {
     "name": "stdout",
     "output_type": "stream",
     "text": [
      "len(df_ind_metadata)=1200\n"
     ]
    },
    {
     "data": {
      "text/html": [
       "<div>\n",
       "<style scoped>\n",
       "    .dataframe tbody tr th:only-of-type {\n",
       "        vertical-align: middle;\n",
       "    }\n",
       "\n",
       "    .dataframe tbody tr th {\n",
       "        vertical-align: top;\n",
       "    }\n",
       "\n",
       "    .dataframe thead th {\n",
       "        text-align: right;\n",
       "    }\n",
       "</style>\n",
       "<table border=\"1\" class=\"dataframe\">\n",
       "  <thead>\n",
       "    <tr style=\"text-align: right;\">\n",
       "      <th></th>\n",
       "      <th>caseid</th>\n",
       "      <th>birthyr</th>\n",
       "      <th>gender</th>\n",
       "      <th>race</th>\n",
       "      <th>educ</th>\n",
       "      <th>pid3</th>\n",
       "      <th>pid7</th>\n",
       "      <th>presvote20post</th>\n",
       "      <th>inputstate</th>\n",
       "      <th>region</th>\n",
       "    </tr>\n",
       "  </thead>\n",
       "  <tbody>\n",
       "    <tr>\n",
       "      <th>0</th>\n",
       "      <td>200661421.0</td>\n",
       "      <td>1963</td>\n",
       "      <td>2</td>\n",
       "      <td>1</td>\n",
       "      <td>4</td>\n",
       "      <td>3</td>\n",
       "      <td>3</td>\n",
       "      <td>1</td>\n",
       "      <td>39</td>\n",
       "      <td>2</td>\n",
       "    </tr>\n",
       "    <tr>\n",
       "      <th>1</th>\n",
       "      <td>200686597.0</td>\n",
       "      <td>1992</td>\n",
       "      <td>2</td>\n",
       "      <td>6</td>\n",
       "      <td>5</td>\n",
       "      <td>5</td>\n",
       "      <td>8</td>\n",
       "      <td>-1</td>\n",
       "      <td>48</td>\n",
       "      <td>3</td>\n",
       "    </tr>\n",
       "    <tr>\n",
       "      <th>2</th>\n",
       "      <td>200953869.0</td>\n",
       "      <td>1959</td>\n",
       "      <td>2</td>\n",
       "      <td>1</td>\n",
       "      <td>5</td>\n",
       "      <td>2</td>\n",
       "      <td>7</td>\n",
       "      <td>2</td>\n",
       "      <td>42</td>\n",
       "      <td>1</td>\n",
       "    </tr>\n",
       "  </tbody>\n",
       "</table>\n",
       "</div>"
      ],
      "text/plain": [
       "        caseid  birthyr  gender  race  educ  pid3  pid7  presvote20post  \\\n",
       "0  200661421.0     1963       2     1     4     3     3               1   \n",
       "1  200686597.0     1992       2     6     5     5     8              -1   \n",
       "2  200953869.0     1959       2     1     5     2     7               2   \n",
       "\n",
       "   inputstate  region  \n",
       "0          39       2  \n",
       "1          48       3  \n",
       "2          42       1  "
      ]
     },
     "execution_count": 5,
     "metadata": {},
     "output_type": "execute_result"
    }
   ],
   "source": [
    "# (fold cell) Load the 1200 individual metadata\n",
    "df_ind_metadata = (\n",
    "    pd.read_csv(os.path.join(DATAPATH, \"SOOD0001_OUTPUT.csv\"))\n",
    "    .assign(\n",
    "        caseid=lambda df: df.caseid.astype(object),\n",
    "        birthyr=lambda df: df.birthyr.apply(int),\n",
    "    )\n",
    ")\n",
    "print(f\"{len(df_ind_metadata)=}\")\n",
    "df_ind_metadata.head(3)"
   ]
  },
  {
   "cell_type": "code",
   "execution_count": 6,
   "id": "24b7fcd4",
   "metadata": {
    "ExecuteTime": {
     "end_time": "2022-12-14T05:35:06.914907Z",
     "start_time": "2022-12-14T05:35:06.713801Z"
    },
    "scrolled": true
   },
   "outputs": [
    {
     "data": {
      "text/plain": [
       "0"
      ]
     },
     "execution_count": 6,
     "metadata": {},
     "output_type": "execute_result"
    }
   ],
   "source": [
    "ids_webbrowses = df.caseid.unique().tolist()\n",
    "ids_metadata = df_ind_metadata.caseid.unique().tolist()\n",
    "\n",
    "len(set(ids_webbrowses) - set(ids_metadata))"
   ]
  },
  {
   "cell_type": "code",
   "execution_count": 7,
   "id": "701fb5f5",
   "metadata": {
    "ExecuteTime": {
     "end_time": "2022-12-14T05:41:32.898288Z",
     "start_time": "2022-12-14T05:41:32.880707Z"
    }
   },
   "outputs": [],
   "source": [
    "(pd.DataFrame(set(ids_webbrowses) - set(ids_metadata), columns=[\"caseid\"])\n",
    " .to_csv(\"caseids.csv\", index=False)\n",
    ")"
   ]
  },
  {
   "cell_type": "code",
   "execution_count": null,
   "id": "6e473c04",
   "metadata": {},
   "outputs": [],
   "source": []
  }
 ],
 "metadata": {
  "kernelspec": {
   "display_name": "Python 3",
   "language": "python",
   "name": "python3"
  },
  "language_info": {
   "codemirror_mode": {
    "name": "ipython",
    "version": 3
   },
   "file_extension": ".py",
   "mimetype": "text/x-python",
   "name": "python",
   "nbconvert_exporter": "python",
   "pygments_lexer": "ipython3",
   "version": "3.9.12"
  },
  "toc": {
   "base_numbering": 1,
   "nav_menu": {},
   "number_sections": true,
   "sideBar": true,
   "skip_h1_title": false,
   "title_cell": "Table of Contents",
   "title_sidebar": "Contents",
   "toc_cell": false,
   "toc_position": {},
   "toc_section_display": true,
   "toc_window_display": false
  },
  "varInspector": {
   "cols": {
    "lenName": 16,
    "lenType": 16,
    "lenVar": 40
   },
   "kernels_config": {
    "python": {
     "delete_cmd_postfix": "",
     "delete_cmd_prefix": "del ",
     "library": "var_list.py",
     "varRefreshCmd": "print(var_dic_list())"
    },
    "r": {
     "delete_cmd_postfix": ") ",
     "delete_cmd_prefix": "rm(",
     "library": "var_list.r",
     "varRefreshCmd": "cat(var_dic_list()) "
    }
   },
   "types_to_exclude": [
    "module",
    "function",
    "builtin_function_or_method",
    "instance",
    "_Feature"
   ],
   "window_display": false
  }
 },
 "nbformat": 4,
 "nbformat_minor": 5
}
