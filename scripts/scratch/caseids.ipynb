{
 "cells": [
  {
   "cell_type": "code",
   "execution_count": 3,
   "id": "7422fbca",
   "metadata": {
    "ExecuteTime": {
     "end_time": "2022-11-19T09:22:32.830716Z",
     "start_time": "2022-11-19T09:22:31.072046Z"
    }
   },
   "outputs": [],
   "source": [
    "import os\n",
    "import pandas as pd\n",
    "import janitor\n",
    "import numpy as np\n",
    "pd.set_option('display.max_columns', 100)\n",
    "\n",
    "DATAPATH = \"../../adult-data\"        "
   ]
  },
  {
   "cell_type": "code",
   "execution_count": 4,
   "id": "6f46379f",
   "metadata": {
    "ExecuteTime": {
     "end_time": "2022-11-19T09:22:49.651694Z",
     "start_time": "2022-11-19T09:22:35.071950Z"
    },
    "code_folding": []
   },
   "outputs": [
    {
     "name": "stdout",
     "output_type": "stream",
     "text": [
      "df of web browses\n",
      "len(df)=5,090,441\n"
     ]
    },
    {
     "data": {
      "text/html": [
       "<div>\n",
       "<style scoped>\n",
       "    .dataframe tbody tr th:only-of-type {\n",
       "        vertical-align: middle;\n",
       "    }\n",
       "\n",
       "    .dataframe tbody tr th {\n",
       "        vertical-align: top;\n",
       "    }\n",
       "\n",
       "    .dataframe thead th {\n",
       "        text-align: right;\n",
       "    }\n",
       "</style>\n",
       "<table border=\"1\" class=\"dataframe\">\n",
       "  <thead>\n",
       "    <tr style=\"text-align: right;\">\n",
       "      <th></th>\n",
       "      <th>caseid</th>\n",
       "      <th>private_domain</th>\n",
       "      <th>category</th>\n",
       "      <th>visit_time_local</th>\n",
       "      <th>visit_duration</th>\n",
       "    </tr>\n",
       "  </thead>\n",
       "  <tbody>\n",
       "    <tr>\n",
       "      <th>0</th>\n",
       "      <td>210362181</td>\n",
       "      <td>liveineverett.com</td>\n",
       "      <td>NaN</td>\n",
       "      <td>2022-05-31 17:19:01</td>\n",
       "      <td>50</td>\n",
       "    </tr>\n",
       "    <tr>\n",
       "      <th>1</th>\n",
       "      <td>210362181</td>\n",
       "      <td>wa.gov</td>\n",
       "      <td>Education, Government</td>\n",
       "      <td>2022-05-31 19:28:41</td>\n",
       "      <td>48</td>\n",
       "    </tr>\n",
       "    <tr>\n",
       "      <th>2</th>\n",
       "      <td>210362181</td>\n",
       "      <td>yahoo.com</td>\n",
       "      <td>Economy and Finance</td>\n",
       "      <td>2022-06-01 03:16:33</td>\n",
       "      <td>1</td>\n",
       "    </tr>\n",
       "    <tr>\n",
       "      <th>3</th>\n",
       "      <td>210362181</td>\n",
       "      <td>collider.com</td>\n",
       "      <td>Entertainment</td>\n",
       "      <td>2022-06-01 03:29:15</td>\n",
       "      <td>60</td>\n",
       "    </tr>\n",
       "    <tr>\n",
       "      <th>4</th>\n",
       "      <td>210362181</td>\n",
       "      <td>yahoo.com</td>\n",
       "      <td>Education, News and Media</td>\n",
       "      <td>2022-06-01 03:42:43</td>\n",
       "      <td>83</td>\n",
       "    </tr>\n",
       "  </tbody>\n",
       "</table>\n",
       "</div>"
      ],
      "text/plain": [
       "      caseid     private_domain                   category  \\\n",
       "0  210362181  liveineverett.com                        NaN   \n",
       "1  210362181             wa.gov      Education, Government   \n",
       "2  210362181          yahoo.com        Economy and Finance   \n",
       "3  210362181       collider.com              Entertainment   \n",
       "4  210362181          yahoo.com  Education, News and Media   \n",
       "\n",
       "      visit_time_local  visit_duration  \n",
       "0  2022-05-31 17:19:01              50  \n",
       "1  2022-05-31 19:28:41              48  \n",
       "2  2022-06-01 03:16:33               1  \n",
       "3  2022-06-01 03:29:15              60  \n",
       "4  2022-06-01 03:42:43              83  "
      ]
     },
     "execution_count": 4,
     "metadata": {},
     "output_type": "execute_result"
    }
   ],
   "source": [
    "# (fold cell) Load web browsing data\n",
    "usecols_web_desktop = [\"caseid\", \"category\", \"private_domain\", \"visit_duration\", \"visit_time_local\"]\n",
    "usecols = [\"caseid\", \"category\", \"private_domain\", \"page_duration\", \"session_start_time\"]\n",
    "\n",
    "df = (pd.concat([\n",
    "        # Get web_mobile\n",
    "        pd.read_csv(\n",
    "            os.path.join(DATAPATH, \"output/realityMine_web_mobile_2022-06-01_2022-06-30.csv\"),\n",
    "            usecols=usecols_web_desktop,\n",
    "            low_memory=False,\n",
    "        ), \n",
    "        # Get web_desktop\n",
    "        pd.read_csv(\n",
    "            os.path.join(DATAPATH, \"output/realityMine_web_desktop_2022-06-01_2022-06-30.csv\"),\n",
    "            usecols=usecols_web_desktop,\n",
    "            low_memory=False,\n",
    "        ),\n",
    "        # Get web\n",
    "        (pd.read_csv(\n",
    "            os.path.join(DATAPATH, \"output/realityMine_web_2022-06-01_2022-06-30.csv\"),\n",
    "            usecols=usecols,\n",
    "            low_memory=False,\n",
    "        )\n",
    "         # Renaming columns to be consistent w/ web_mobile & web_desktop\n",
    "         .rename_column(\"session_start_time\", \"visit_time_local\")\n",
    "         .rename_column(\"page_duration\", \"visit_duration\")\n",
    "        )\n",
    "        ])\n",
    "      .dropna(subset=[\"caseid\", \"visit_duration\"])\n",
    "    .assign(caseid=lambda df: df.caseid.astype(object))      \n",
    "     )\n",
    "print(\"df of web browses\")\n",
    "print(f\"{len(df)=:,}\")\n",
    "df.head()"
   ]
  },
  {
   "cell_type": "code",
   "execution_count": 5,
   "id": "9147e072",
   "metadata": {
    "ExecuteTime": {
     "end_time": "2022-11-19T09:22:50.317286Z",
     "start_time": "2022-11-19T09:22:49.732137Z"
    }
   },
   "outputs": [
    {
     "name": "stdout",
     "output_type": "stream",
     "text": [
      "_nonzeroes=4,818,516\n"
     ]
    }
   ],
   "source": [
    "# Zero duration (visit_duration==0)\n",
    "_nonzeroes = len(df.query(\"visit_duration!=0\"))\n",
    "print(f\"{_nonzeroes=:,}\")"
   ]
  },
  {
   "cell_type": "code",
   "execution_count": 6,
   "id": "1c5b7700",
   "metadata": {
    "ExecuteTime": {
     "end_time": "2022-11-19T09:22:50.459323Z",
     "start_time": "2022-11-19T09:22:50.396700Z"
    }
   },
   "outputs": [
    {
     "name": "stdout",
     "output_type": "stream",
     "text": [
      "_zeroes=271,925\n"
     ]
    }
   ],
   "source": [
    "# Zero duration (visit_duration==0)\n",
    "_zeroes = len(df.query(\"visit_duration==0\"))\n",
    "print(f\"{_zeroes=:,}\")"
   ]
  },
  {
   "cell_type": "code",
   "execution_count": 7,
   "id": "2b59cb61",
   "metadata": {
    "ExecuteTime": {
     "end_time": "2022-11-19T09:22:50.553345Z",
     "start_time": "2022-11-19T09:22:50.539342Z"
    },
    "code_folding": [
     0
    ]
   },
   "outputs": [
    {
     "name": "stdout",
     "output_type": "stream",
     "text": [
      "len(df_ind_metadata)=1200\n"
     ]
    },
    {
     "data": {
      "text/html": [
       "<div>\n",
       "<style scoped>\n",
       "    .dataframe tbody tr th:only-of-type {\n",
       "        vertical-align: middle;\n",
       "    }\n",
       "\n",
       "    .dataframe tbody tr th {\n",
       "        vertical-align: top;\n",
       "    }\n",
       "\n",
       "    .dataframe thead th {\n",
       "        text-align: right;\n",
       "    }\n",
       "</style>\n",
       "<table border=\"1\" class=\"dataframe\">\n",
       "  <thead>\n",
       "    <tr style=\"text-align: right;\">\n",
       "      <th></th>\n",
       "      <th>caseid</th>\n",
       "      <th>birthyr</th>\n",
       "      <th>gender</th>\n",
       "      <th>race</th>\n",
       "      <th>educ</th>\n",
       "      <th>pid3</th>\n",
       "      <th>pid7</th>\n",
       "      <th>presvote20post</th>\n",
       "      <th>inputstate</th>\n",
       "      <th>region</th>\n",
       "    </tr>\n",
       "  </thead>\n",
       "  <tbody>\n",
       "    <tr>\n",
       "      <th>0</th>\n",
       "      <td>200661421.0</td>\n",
       "      <td>1963</td>\n",
       "      <td>2</td>\n",
       "      <td>1</td>\n",
       "      <td>4</td>\n",
       "      <td>3</td>\n",
       "      <td>3</td>\n",
       "      <td>1</td>\n",
       "      <td>39</td>\n",
       "      <td>2</td>\n",
       "    </tr>\n",
       "    <tr>\n",
       "      <th>1</th>\n",
       "      <td>200686597.0</td>\n",
       "      <td>1992</td>\n",
       "      <td>2</td>\n",
       "      <td>6</td>\n",
       "      <td>5</td>\n",
       "      <td>5</td>\n",
       "      <td>8</td>\n",
       "      <td>-1</td>\n",
       "      <td>48</td>\n",
       "      <td>3</td>\n",
       "    </tr>\n",
       "    <tr>\n",
       "      <th>2</th>\n",
       "      <td>200953869.0</td>\n",
       "      <td>1959</td>\n",
       "      <td>2</td>\n",
       "      <td>1</td>\n",
       "      <td>5</td>\n",
       "      <td>2</td>\n",
       "      <td>7</td>\n",
       "      <td>2</td>\n",
       "      <td>42</td>\n",
       "      <td>1</td>\n",
       "    </tr>\n",
       "  </tbody>\n",
       "</table>\n",
       "</div>"
      ],
      "text/plain": [
       "        caseid  birthyr  gender  race  educ  pid3  pid7  presvote20post  \\\n",
       "0  200661421.0     1963       2     1     4     3     3               1   \n",
       "1  200686597.0     1992       2     6     5     5     8              -1   \n",
       "2  200953869.0     1959       2     1     5     2     7               2   \n",
       "\n",
       "   inputstate  region  \n",
       "0          39       2  \n",
       "1          48       3  \n",
       "2          42       1  "
      ]
     },
     "execution_count": 7,
     "metadata": {},
     "output_type": "execute_result"
    }
   ],
   "source": [
    "# (fold cell) Load the 1200 individual metadata\n",
    "df_ind_metadata = (\n",
    "    pd.read_csv(os.path.join(DATAPATH, \"SOOD0001_OUTPUT.csv\"))\n",
    "    .assign(\n",
    "        caseid=lambda df: df.caseid.astype(object),\n",
    "        birthyr=lambda df: df.birthyr.apply(int),\n",
    "    )\n",
    ")\n",
    "print(f\"{len(df_ind_metadata)=}\")\n",
    "df_ind_metadata.head(3)"
   ]
  },
  {
   "cell_type": "code",
   "execution_count": 8,
   "id": "a9ccd408",
   "metadata": {
    "ExecuteTime": {
     "end_time": "2022-11-19T09:22:50.791911Z",
     "start_time": "2022-11-19T09:22:50.632870Z"
    },
    "scrolled": true
   },
   "outputs": [
    {
     "data": {
      "text/plain": [
       "361"
      ]
     },
     "execution_count": 8,
     "metadata": {},
     "output_type": "execute_result"
    }
   ],
   "source": [
    "ids_webbrowses = df.caseid.unique().tolist()\n",
    "ids_metadata = df_ind_metadata.caseid.unique().tolist()\n",
    "\n",
    "len(set(ids_webbrowses) - set(ids_metadata))"
   ]
  },
  {
   "cell_type": "code",
   "execution_count": 9,
   "id": "b2ff68b7",
   "metadata": {
    "ExecuteTime": {
     "end_time": "2022-11-19T09:22:50.888009Z",
     "start_time": "2022-11-19T09:22:50.872947Z"
    }
   },
   "outputs": [],
   "source": [
    "(pd.DataFrame(set(ids_webbrowses) - set(ids_metadata), columns=[\"caseid\"])\n",
    " .to_csv(\"caseids.csv\", index=False)\n",
    ")"
   ]
  },
  {
   "cell_type": "code",
   "execution_count": null,
   "id": "5158fce9",
   "metadata": {},
   "outputs": [],
   "source": []
  }
 ],
 "metadata": {
  "kernelspec": {
   "display_name": "Python 3",
   "language": "python",
   "name": "python3"
  },
  "language_info": {
   "codemirror_mode": {
    "name": "ipython",
    "version": 3
   },
   "file_extension": ".py",
   "mimetype": "text/x-python",
   "name": "python",
   "nbconvert_exporter": "python",
   "pygments_lexer": "ipython3",
   "version": "3.9.12"
  },
  "toc": {
   "base_numbering": 1,
   "nav_menu": {},
   "number_sections": true,
   "sideBar": true,
   "skip_h1_title": false,
   "title_cell": "Table of Contents",
   "title_sidebar": "Contents",
   "toc_cell": false,
   "toc_position": {},
   "toc_section_display": true,
   "toc_window_display": false
  },
  "varInspector": {
   "cols": {
    "lenName": 16,
    "lenType": 16,
    "lenVar": 40
   },
   "kernels_config": {
    "python": {
     "delete_cmd_postfix": "",
     "delete_cmd_prefix": "del ",
     "library": "var_list.py",
     "varRefreshCmd": "print(var_dic_list())"
    },
    "r": {
     "delete_cmd_postfix": ") ",
     "delete_cmd_prefix": "rm(",
     "library": "var_list.r",
     "varRefreshCmd": "cat(var_dic_list()) "
    }
   },
   "types_to_exclude": [
    "module",
    "function",
    "builtin_function_or_method",
    "instance",
    "_Feature"
   ],
   "window_display": false
  }
 },
 "nbformat": 4,
 "nbformat_minor": 5
}
