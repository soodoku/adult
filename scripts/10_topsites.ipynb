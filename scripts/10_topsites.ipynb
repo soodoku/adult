{
 "cells": [
  {
   "cell_type": "code",
   "execution_count": 1,
   "id": "7d51f25a",
   "metadata": {
    "ExecuteTime": {
     "end_time": "2023-01-13T09:17:24.517531Z",
     "start_time": "2023-01-13T09:17:18.646907Z"
    }
   },
   "outputs": [
    {
     "name": "stderr",
     "output_type": "stream",
     "text": [
      "C:\\Users\\lsys\\.conda\\envs\\gis\\lib\\site-packages\\scipy\\__init__.py:146: UserWarning: A NumPy version >=1.16.5 and <1.23.0 is required for this version of SciPy (detected version 1.23.5\n",
      "  warnings.warn(f\"A NumPy version >={np_minversion} and <{np_maxversion}\"\n"
     ]
    }
   ],
   "source": [
    "import os\n",
    "import pandas as pd\n",
    "import janitor\n",
    "import numpy as np\n",
    "pd.set_option('display.max_columns', 100)\n",
    "\n",
    "import seaborn as sns\n",
    "sns.set_theme(context=\"notebook\", font_scale=1.05, \n",
    "              style='whitegrid', palette='dark') #  Darkgrid Whitegrid Dark White Ticksimport matplotlib.pyplot as plt\n",
    "import matplotlib.pyplot as plt\n",
    "from forestplot import forestplot\n",
    "import matplotlib.ticker as mtick\n",
    "\n",
    "def save_mpl_fig(savepath):\n",
    "    plt.savefig(f\"{savepath}.pdf\", dpi=None, bbox_inches=\"tight\", pad_inches=0)\n",
    "    plt.savefig(f\"{savepath}.png\", dpi=120, bbox_inches=\"tight\", pad_inches=0)\n",
    "    \n",
    "DATAPATH = \"../adult-data/output\"        "
   ]
  },
  {
   "cell_type": "code",
   "execution_count": 2,
   "id": "a4fa5d5c",
   "metadata": {
    "ExecuteTime": {
     "end_time": "2023-01-13T09:17:24.530425Z",
     "start_time": "2023-01-13T09:17:24.519015Z"
    },
    "code_folding": [
     0
    ]
   },
   "outputs": [
    {
     "data": {
      "text/plain": [
       "['9gag.com',\n",
       " 'sniffies.com',\n",
       " 'f95zone.to',\n",
       " 'silverdaddies.com',\n",
       " 'ttcache.com',\n",
       " 'xlviirdr.com',\n",
       " '4chan.org',\n",
       " 'thechive.com',\n",
       " 'victoriassecret.com',\n",
       " 'usasexguide.nl',\n",
       " 'xlviiirdr.com',\n",
       " 'xxxjmp.com',\n",
       " 'urbandictionary.com',\n",
       " 'lpsg.com']"
      ]
     },
     "execution_count": 2,
     "metadata": {},
     "output_type": "execute_result"
    }
   ],
   "source": [
    "# Read in list of classified FP (false positives)\n",
    "falsepositives = (pd\n",
    "                  .read_csv(\"../data/false_positives_list.csv\")\n",
    "                  [\"flagged as FP\"].tolist()\n",
    "                 )\n",
    "falsepositives"
   ]
  },
  {
   "cell_type": "code",
   "execution_count": 3,
   "id": "be5cccf0",
   "metadata": {
    "ExecuteTime": {
     "end_time": "2023-01-13T09:17:42.863462Z",
     "start_time": "2023-01-13T09:17:24.532406Z"
    },
    "code_folding": [
     0
    ]
   },
   "outputs": [
    {
     "name": "stdout",
     "output_type": "stream",
     "text": [
      "len(df)=6,297,382\n"
     ]
    },
    {
     "data": {
      "text/html": [
       "<div>\n",
       "<style scoped>\n",
       "    .dataframe tbody tr th:only-of-type {\n",
       "        vertical-align: middle;\n",
       "    }\n",
       "\n",
       "    .dataframe tbody tr th {\n",
       "        vertical-align: top;\n",
       "    }\n",
       "\n",
       "    .dataframe thead th {\n",
       "        text-align: right;\n",
       "    }\n",
       "</style>\n",
       "<table border=\"1\" class=\"dataframe\">\n",
       "  <thead>\n",
       "    <tr style=\"text-align: right;\">\n",
       "      <th></th>\n",
       "      <th>caseid</th>\n",
       "      <th>private_domain</th>\n",
       "      <th>category</th>\n",
       "      <th>visit_time_local</th>\n",
       "      <th>visit_duration</th>\n",
       "    </tr>\n",
       "  </thead>\n",
       "  <tbody>\n",
       "    <tr>\n",
       "      <th>0</th>\n",
       "      <td>205323077</td>\n",
       "      <td>google.com</td>\n",
       "      <td>Search Engines and Portals</td>\n",
       "      <td>2022-05-31 23:52:37</td>\n",
       "      <td>2</td>\n",
       "    </tr>\n",
       "    <tr>\n",
       "      <th>1</th>\n",
       "      <td>205323077</td>\n",
       "      <td>coupons.com</td>\n",
       "      <td>Business, Shopping</td>\n",
       "      <td>2022-06-01 01:07:35</td>\n",
       "      <td>457</td>\n",
       "    </tr>\n",
       "    <tr>\n",
       "      <th>2</th>\n",
       "      <td>205323077</td>\n",
       "      <td>google.com</td>\n",
       "      <td>Business</td>\n",
       "      <td>2022-06-01 01:15:12</td>\n",
       "      <td>55</td>\n",
       "    </tr>\n",
       "    <tr>\n",
       "      <th>3</th>\n",
       "      <td>205323077</td>\n",
       "      <td>coupons.com</td>\n",
       "      <td>Business, Shopping</td>\n",
       "      <td>2022-06-01 01:16:07</td>\n",
       "      <td>2225</td>\n",
       "    </tr>\n",
       "    <tr>\n",
       "      <th>4</th>\n",
       "      <td>205323077</td>\n",
       "      <td>google.com</td>\n",
       "      <td>Search Engines and Portals</td>\n",
       "      <td>2022-06-01 04:38:10</td>\n",
       "      <td>10</td>\n",
       "    </tr>\n",
       "  </tbody>\n",
       "</table>\n",
       "</div>"
      ],
      "text/plain": [
       "      caseid private_domain                    category     visit_time_local  \\\n",
       "0  205323077     google.com  Search Engines and Portals  2022-05-31 23:52:37   \n",
       "1  205323077    coupons.com          Business, Shopping  2022-06-01 01:07:35   \n",
       "2  205323077     google.com                    Business  2022-06-01 01:15:12   \n",
       "3  205323077    coupons.com          Business, Shopping  2022-06-01 01:16:07   \n",
       "4  205323077     google.com  Search Engines and Portals  2022-06-01 04:38:10   \n",
       "\n",
       "   visit_duration  \n",
       "0               2  \n",
       "1             457  \n",
       "2              55  \n",
       "3            2225  \n",
       "4              10  "
      ]
     },
     "execution_count": 3,
     "metadata": {},
     "output_type": "execute_result"
    }
   ],
   "source": [
    "# (fold cell) Load and prep web browsing data\n",
    "usecols_web_desktop = [\"caseid\", \"category\", \"private_domain\", \"visit_duration\", \"visit_time_local\"]\n",
    "usecols = [\"caseid\", \"category\", \"private_domain\", \"page_duration\", \"session_start_time\"]\n",
    "\n",
    "df = (pd.concat([\n",
    "        # Get web_mobile\n",
    "        pd.read_csv(\n",
    "            os.path.join(DATAPATH, \"realityMine_web_mobile_2022-06-01_2022-06-30.csv\"),\n",
    "            usecols=usecols_web_desktop,\n",
    "            low_memory=False,\n",
    "        ), \n",
    "        # Get web_desktop\n",
    "        pd.read_csv(\n",
    "            os.path.join(DATAPATH, \"realityMine_web_desktop_2022-06-01_2022-06-30.csv\"),\n",
    "            usecols=usecols_web_desktop,\n",
    "            low_memory=False,\n",
    "        ),\n",
    "        # Get web\n",
    "        (pd.read_csv(\n",
    "            os.path.join(DATAPATH, \"realityMine_web_2022-06-01_2022-06-30.csv\"),\n",
    "            usecols=usecols,\n",
    "            low_memory=False,\n",
    "        )\n",
    "         # Renaming columns to be consistent w/ web_mobile & web_desktop\n",
    "         .rename_column(\"session_start_time\", \"visit_time_local\")\n",
    "         .rename_column(\"page_duration\", \"visit_duration\")\n",
    "        )\n",
    "        ])\n",
    "     )\n",
    "# print(\"output = df with visits to adult sites\")\n",
    "print(f\"{len(df)=:,}\")\n",
    "df.head()"
   ]
  },
  {
   "cell_type": "code",
   "execution_count": 4,
   "id": "1aa698d2",
   "metadata": {
    "ExecuteTime": {
     "end_time": "2023-01-13T09:17:47.486648Z",
     "start_time": "2023-01-13T09:17:42.864949Z"
    },
    "code_folding": [
     0
    ]
   },
   "outputs": [
    {
     "ename": "TypeError",
     "evalue": "unhashable type: 'Series'",
     "output_type": "error",
     "traceback": [
      "\u001b[1;31m---------------------------------------------------------------------------\u001b[0m",
      "\u001b[1;31mTypeError\u001b[0m                                 Traceback (most recent call last)",
      "\u001b[1;32m~\\AppData\\Local\\Temp/ipykernel_14440/474645583.py\u001b[0m in \u001b[0;36m<module>\u001b[1;34m\u001b[0m\n\u001b[0;32m      1\u001b[0m \u001b[1;31m# (fold cell) Get adult sites metrics\u001b[0m\u001b[1;33m\u001b[0m\u001b[1;33m\u001b[0m\u001b[0m\n\u001b[1;32m----> 2\u001b[1;33m df_adultsites_count = (df\n\u001b[0m\u001b[0;32m      3\u001b[0m                        \u001b[1;33m.\u001b[0m\u001b[0mquery\u001b[0m\u001b[1;33m(\u001b[0m\u001b[1;34m\"category.str.contains('adult', case=False, na=False)\"\u001b[0m\u001b[1;33m)\u001b[0m\u001b[1;33m\u001b[0m\u001b[1;33m\u001b[0m\u001b[0m\n\u001b[0;32m      4\u001b[0m                        \u001b[1;33m.\u001b[0m\u001b[0mquery\u001b[0m\u001b[1;33m(\u001b[0m\u001b[1;34m\"private_domain not in @falsepositives\"\u001b[0m\u001b[1;33m)\u001b[0m\u001b[1;33m\u001b[0m\u001b[1;33m\u001b[0m\u001b[0m\n\u001b[0;32m      5\u001b[0m                        \u001b[1;33m.\u001b[0m\u001b[0mdropna\u001b[0m\u001b[1;33m(\u001b[0m\u001b[0msubset\u001b[0m\u001b[1;33m=\u001b[0m\u001b[1;33m[\u001b[0m\u001b[1;34m\"caseid\"\u001b[0m\u001b[1;33m,\u001b[0m \u001b[1;34m\"category\"\u001b[0m\u001b[1;33m,\u001b[0m \u001b[1;34m\"visit_duration\"\u001b[0m\u001b[1;33m]\u001b[0m\u001b[1;33m)\u001b[0m\u001b[1;33m\u001b[0m\u001b[1;33m\u001b[0m\u001b[0m\n",
      "\u001b[1;32m~\\.conda\\envs\\gis\\lib\\site-packages\\pandas\\core\\frame.py\u001b[0m in \u001b[0;36mquery\u001b[1;34m(self, expr, inplace, **kwargs)\u001b[0m\n\u001b[0;32m   4058\u001b[0m         \u001b[0mkwargs\u001b[0m\u001b[1;33m[\u001b[0m\u001b[1;34m\"level\"\u001b[0m\u001b[1;33m]\u001b[0m \u001b[1;33m=\u001b[0m \u001b[0mkwargs\u001b[0m\u001b[1;33m.\u001b[0m\u001b[0mpop\u001b[0m\u001b[1;33m(\u001b[0m\u001b[1;34m\"level\"\u001b[0m\u001b[1;33m,\u001b[0m \u001b[1;36m0\u001b[0m\u001b[1;33m)\u001b[0m \u001b[1;33m+\u001b[0m \u001b[1;36m1\u001b[0m\u001b[1;33m\u001b[0m\u001b[1;33m\u001b[0m\u001b[0m\n\u001b[0;32m   4059\u001b[0m         \u001b[0mkwargs\u001b[0m\u001b[1;33m[\u001b[0m\u001b[1;34m\"target\"\u001b[0m\u001b[1;33m]\u001b[0m \u001b[1;33m=\u001b[0m \u001b[1;32mNone\u001b[0m\u001b[1;33m\u001b[0m\u001b[1;33m\u001b[0m\u001b[0m\n\u001b[1;32m-> 4060\u001b[1;33m         \u001b[0mres\u001b[0m \u001b[1;33m=\u001b[0m \u001b[0mself\u001b[0m\u001b[1;33m.\u001b[0m\u001b[0meval\u001b[0m\u001b[1;33m(\u001b[0m\u001b[0mexpr\u001b[0m\u001b[1;33m,\u001b[0m \u001b[1;33m**\u001b[0m\u001b[0mkwargs\u001b[0m\u001b[1;33m)\u001b[0m\u001b[1;33m\u001b[0m\u001b[1;33m\u001b[0m\u001b[0m\n\u001b[0m\u001b[0;32m   4061\u001b[0m \u001b[1;33m\u001b[0m\u001b[0m\n\u001b[0;32m   4062\u001b[0m         \u001b[1;32mtry\u001b[0m\u001b[1;33m:\u001b[0m\u001b[1;33m\u001b[0m\u001b[1;33m\u001b[0m\u001b[0m\n",
      "\u001b[1;32m~\\.conda\\envs\\gis\\lib\\site-packages\\pandas\\core\\frame.py\u001b[0m in \u001b[0;36meval\u001b[1;34m(self, expr, inplace, **kwargs)\u001b[0m\n\u001b[0;32m   4189\u001b[0m         \u001b[0mkwargs\u001b[0m\u001b[1;33m[\u001b[0m\u001b[1;34m\"resolvers\"\u001b[0m\u001b[1;33m]\u001b[0m \u001b[1;33m=\u001b[0m \u001b[0mkwargs\u001b[0m\u001b[1;33m.\u001b[0m\u001b[0mget\u001b[0m\u001b[1;33m(\u001b[0m\u001b[1;34m\"resolvers\"\u001b[0m\u001b[1;33m,\u001b[0m \u001b[1;33m(\u001b[0m\u001b[1;33m)\u001b[0m\u001b[1;33m)\u001b[0m \u001b[1;33m+\u001b[0m \u001b[0mtuple\u001b[0m\u001b[1;33m(\u001b[0m\u001b[0mresolvers\u001b[0m\u001b[1;33m)\u001b[0m\u001b[1;33m\u001b[0m\u001b[1;33m\u001b[0m\u001b[0m\n\u001b[0;32m   4190\u001b[0m \u001b[1;33m\u001b[0m\u001b[0m\n\u001b[1;32m-> 4191\u001b[1;33m         \u001b[1;32mreturn\u001b[0m \u001b[0m_eval\u001b[0m\u001b[1;33m(\u001b[0m\u001b[0mexpr\u001b[0m\u001b[1;33m,\u001b[0m \u001b[0minplace\u001b[0m\u001b[1;33m=\u001b[0m\u001b[0minplace\u001b[0m\u001b[1;33m,\u001b[0m \u001b[1;33m**\u001b[0m\u001b[0mkwargs\u001b[0m\u001b[1;33m)\u001b[0m\u001b[1;33m\u001b[0m\u001b[1;33m\u001b[0m\u001b[0m\n\u001b[0m\u001b[0;32m   4192\u001b[0m \u001b[1;33m\u001b[0m\u001b[0m\n\u001b[0;32m   4193\u001b[0m     \u001b[1;32mdef\u001b[0m \u001b[0mselect_dtypes\u001b[0m\u001b[1;33m(\u001b[0m\u001b[0mself\u001b[0m\u001b[1;33m,\u001b[0m \u001b[0minclude\u001b[0m\u001b[1;33m=\u001b[0m\u001b[1;32mNone\u001b[0m\u001b[1;33m,\u001b[0m \u001b[0mexclude\u001b[0m\u001b[1;33m=\u001b[0m\u001b[1;32mNone\u001b[0m\u001b[1;33m)\u001b[0m \u001b[1;33m->\u001b[0m \u001b[0mDataFrame\u001b[0m\u001b[1;33m:\u001b[0m\u001b[1;33m\u001b[0m\u001b[1;33m\u001b[0m\u001b[0m\n",
      "\u001b[1;32m~\\.conda\\envs\\gis\\lib\\site-packages\\pandas\\core\\computation\\eval.py\u001b[0m in \u001b[0;36meval\u001b[1;34m(expr, parser, engine, truediv, local_dict, global_dict, resolvers, level, target, inplace)\u001b[0m\n\u001b[0;32m    351\u001b[0m         \u001b[0meng\u001b[0m \u001b[1;33m=\u001b[0m \u001b[0mENGINES\u001b[0m\u001b[1;33m[\u001b[0m\u001b[0mengine\u001b[0m\u001b[1;33m]\u001b[0m\u001b[1;33m\u001b[0m\u001b[1;33m\u001b[0m\u001b[0m\n\u001b[0;32m    352\u001b[0m         \u001b[0meng_inst\u001b[0m \u001b[1;33m=\u001b[0m \u001b[0meng\u001b[0m\u001b[1;33m(\u001b[0m\u001b[0mparsed_expr\u001b[0m\u001b[1;33m)\u001b[0m\u001b[1;33m\u001b[0m\u001b[1;33m\u001b[0m\u001b[0m\n\u001b[1;32m--> 353\u001b[1;33m         \u001b[0mret\u001b[0m \u001b[1;33m=\u001b[0m \u001b[0meng_inst\u001b[0m\u001b[1;33m.\u001b[0m\u001b[0mevaluate\u001b[0m\u001b[1;33m(\u001b[0m\u001b[1;33m)\u001b[0m\u001b[1;33m\u001b[0m\u001b[1;33m\u001b[0m\u001b[0m\n\u001b[0m\u001b[0;32m    354\u001b[0m \u001b[1;33m\u001b[0m\u001b[0m\n\u001b[0;32m    355\u001b[0m         \u001b[1;32mif\u001b[0m \u001b[0mparsed_expr\u001b[0m\u001b[1;33m.\u001b[0m\u001b[0massigner\u001b[0m \u001b[1;32mis\u001b[0m \u001b[1;32mNone\u001b[0m\u001b[1;33m:\u001b[0m\u001b[1;33m\u001b[0m\u001b[1;33m\u001b[0m\u001b[0m\n",
      "\u001b[1;32m~\\.conda\\envs\\gis\\lib\\site-packages\\pandas\\core\\computation\\engines.py\u001b[0m in \u001b[0;36mevaluate\u001b[1;34m(self)\u001b[0m\n\u001b[0;32m     78\u001b[0m \u001b[1;33m\u001b[0m\u001b[0m\n\u001b[0;32m     79\u001b[0m         \u001b[1;31m# make sure no names in resolvers and locals/globals clash\u001b[0m\u001b[1;33m\u001b[0m\u001b[1;33m\u001b[0m\u001b[0m\n\u001b[1;32m---> 80\u001b[1;33m         \u001b[0mres\u001b[0m \u001b[1;33m=\u001b[0m \u001b[0mself\u001b[0m\u001b[1;33m.\u001b[0m\u001b[0m_evaluate\u001b[0m\u001b[1;33m(\u001b[0m\u001b[1;33m)\u001b[0m\u001b[1;33m\u001b[0m\u001b[1;33m\u001b[0m\u001b[0m\n\u001b[0m\u001b[0;32m     81\u001b[0m         return reconstruct_object(\n\u001b[0;32m     82\u001b[0m             \u001b[0mself\u001b[0m\u001b[1;33m.\u001b[0m\u001b[0mresult_type\u001b[0m\u001b[1;33m,\u001b[0m \u001b[0mres\u001b[0m\u001b[1;33m,\u001b[0m \u001b[0mself\u001b[0m\u001b[1;33m.\u001b[0m\u001b[0maligned_axes\u001b[0m\u001b[1;33m,\u001b[0m \u001b[0mself\u001b[0m\u001b[1;33m.\u001b[0m\u001b[0mexpr\u001b[0m\u001b[1;33m.\u001b[0m\u001b[0mterms\u001b[0m\u001b[1;33m.\u001b[0m\u001b[0mreturn_type\u001b[0m\u001b[1;33m\u001b[0m\u001b[1;33m\u001b[0m\u001b[0m\n",
      "\u001b[1;32m~\\.conda\\envs\\gis\\lib\\site-packages\\pandas\\core\\computation\\engines.py\u001b[0m in \u001b[0;36m_evaluate\u001b[1;34m(self)\u001b[0m\n\u001b[0;32m    118\u001b[0m         \u001b[0menv\u001b[0m \u001b[1;33m=\u001b[0m \u001b[0mself\u001b[0m\u001b[1;33m.\u001b[0m\u001b[0mexpr\u001b[0m\u001b[1;33m.\u001b[0m\u001b[0menv\u001b[0m\u001b[1;33m\u001b[0m\u001b[1;33m\u001b[0m\u001b[0m\n\u001b[0;32m    119\u001b[0m         \u001b[0mscope\u001b[0m \u001b[1;33m=\u001b[0m \u001b[0menv\u001b[0m\u001b[1;33m.\u001b[0m\u001b[0mfull_scope\u001b[0m\u001b[1;33m\u001b[0m\u001b[1;33m\u001b[0m\u001b[0m\n\u001b[1;32m--> 120\u001b[1;33m         \u001b[0m_check_ne_builtin_clash\u001b[0m\u001b[1;33m(\u001b[0m\u001b[0mself\u001b[0m\u001b[1;33m.\u001b[0m\u001b[0mexpr\u001b[0m\u001b[1;33m)\u001b[0m\u001b[1;33m\u001b[0m\u001b[1;33m\u001b[0m\u001b[0m\n\u001b[0m\u001b[0;32m    121\u001b[0m         \u001b[1;32mreturn\u001b[0m \u001b[0mne\u001b[0m\u001b[1;33m.\u001b[0m\u001b[0mevaluate\u001b[0m\u001b[1;33m(\u001b[0m\u001b[0ms\u001b[0m\u001b[1;33m,\u001b[0m \u001b[0mlocal_dict\u001b[0m\u001b[1;33m=\u001b[0m\u001b[0mscope\u001b[0m\u001b[1;33m)\u001b[0m\u001b[1;33m\u001b[0m\u001b[1;33m\u001b[0m\u001b[0m\n\u001b[0;32m    122\u001b[0m \u001b[1;33m\u001b[0m\u001b[0m\n",
      "\u001b[1;32m~\\.conda\\envs\\gis\\lib\\site-packages\\pandas\\core\\computation\\engines.py\u001b[0m in \u001b[0;36m_check_ne_builtin_clash\u001b[1;34m(expr)\u001b[0m\n\u001b[0;32m     34\u001b[0m         \u001b[0mTerms\u001b[0m \u001b[0mcan\u001b[0m \u001b[0mcontain\u001b[0m\u001b[1;33m\u001b[0m\u001b[1;33m\u001b[0m\u001b[0m\n\u001b[0;32m     35\u001b[0m     \"\"\"\n\u001b[1;32m---> 36\u001b[1;33m     \u001b[0mnames\u001b[0m \u001b[1;33m=\u001b[0m \u001b[0mexpr\u001b[0m\u001b[1;33m.\u001b[0m\u001b[0mnames\u001b[0m\u001b[1;33m\u001b[0m\u001b[1;33m\u001b[0m\u001b[0m\n\u001b[0m\u001b[0;32m     37\u001b[0m     \u001b[0moverlap\u001b[0m \u001b[1;33m=\u001b[0m \u001b[0mnames\u001b[0m \u001b[1;33m&\u001b[0m \u001b[0m_ne_builtins\u001b[0m\u001b[1;33m\u001b[0m\u001b[1;33m\u001b[0m\u001b[0m\n\u001b[0;32m     38\u001b[0m \u001b[1;33m\u001b[0m\u001b[0m\n",
      "\u001b[1;32m~\\.conda\\envs\\gis\\lib\\site-packages\\pandas\\core\\computation\\expr.py\u001b[0m in \u001b[0;36mnames\u001b[1;34m(self)\u001b[0m\n\u001b[0;32m    831\u001b[0m         \"\"\"\n\u001b[0;32m    832\u001b[0m         \u001b[1;32mif\u001b[0m \u001b[0mis_term\u001b[0m\u001b[1;33m(\u001b[0m\u001b[0mself\u001b[0m\u001b[1;33m.\u001b[0m\u001b[0mterms\u001b[0m\u001b[1;33m)\u001b[0m\u001b[1;33m:\u001b[0m\u001b[1;33m\u001b[0m\u001b[1;33m\u001b[0m\u001b[0m\n\u001b[1;32m--> 833\u001b[1;33m             \u001b[1;32mreturn\u001b[0m \u001b[0mfrozenset\u001b[0m\u001b[1;33m(\u001b[0m\u001b[1;33m[\u001b[0m\u001b[0mself\u001b[0m\u001b[1;33m.\u001b[0m\u001b[0mterms\u001b[0m\u001b[1;33m.\u001b[0m\u001b[0mname\u001b[0m\u001b[1;33m]\u001b[0m\u001b[1;33m)\u001b[0m\u001b[1;33m\u001b[0m\u001b[1;33m\u001b[0m\u001b[0m\n\u001b[0m\u001b[0;32m    834\u001b[0m         \u001b[1;32mreturn\u001b[0m \u001b[0mfrozenset\u001b[0m\u001b[1;33m(\u001b[0m\u001b[0mterm\u001b[0m\u001b[1;33m.\u001b[0m\u001b[0mname\u001b[0m \u001b[1;32mfor\u001b[0m \u001b[0mterm\u001b[0m \u001b[1;32min\u001b[0m \u001b[0mcom\u001b[0m\u001b[1;33m.\u001b[0m\u001b[0mflatten\u001b[0m\u001b[1;33m(\u001b[0m\u001b[0mself\u001b[0m\u001b[1;33m.\u001b[0m\u001b[0mterms\u001b[0m\u001b[1;33m)\u001b[0m\u001b[1;33m)\u001b[0m\u001b[1;33m\u001b[0m\u001b[1;33m\u001b[0m\u001b[0m\n\u001b[0;32m    835\u001b[0m \u001b[1;33m\u001b[0m\u001b[0m\n",
      "\u001b[1;31mTypeError\u001b[0m: unhashable type: 'Series'"
     ]
    }
   ],
   "source": [
    "# (fold cell) Get adult sites metrics\n",
    "df_adultsites_count = (df\n",
    "                       .query(\"category.str.contains('adult', case=False, na=False)\")\n",
    "                       .query(\"private_domain not in @falsepositives\")\n",
    "                       .dropna(subset=[\"caseid\", \"category\", \"visit_duration\"])\n",
    "                       .groupby([\"private_domain\", \"category\"])\n",
    "                       .size()\n",
    "                       .reset_index()\n",
    "                       .rename_column(0, \"count\")\n",
    "                       .sort_values(\"count\", ascending=False, ignore_index=True)\n",
    "                       # Get total visit duration of websites\n",
    "                       .merge((df\n",
    "                               .groupby([\"private_domain\", \"category\"])\n",
    "                               .visit_duration.sum()\n",
    "                               .reset_index()\n",
    "                               # Normalize from second(s) to hour(s)\n",
    "                               .assign(visit_duration=lambda df: df.visit_duration/3600)\n",
    "                               .round(decimals=0)\n",
    "                               .assign(visit_duration=lambda df: df.visit_duration.apply(int))\n",
    "                              ), how=\"left\", on=[\"private_domain\", \"category\"], validate=\"1:1\"\n",
    "                             )                       \n",
    "                       # Preparing for plot\n",
    "                       .assign(ll=lambda df: df[\"count\"])\n",
    "                       .assign(hl=lambda df: df[\"count\"])\n",
    "                       # Format count and visit_duration\n",
    "                       .assign(count_str=lambda df: df.apply(lambda x: \"{:,}\".format(x['count']), axis=1))\n",
    "                       .assign(count_str=lambda df: df.count_str.apply(lambda x: x.rjust(7) if len(x)<7 else x))\n",
    "                       .assign(visit_duration_str=lambda df: df.apply(lambda x: \"{:,}\".format(x['visit_duration']), axis=1))\n",
    "                       .assign(visit_duration_str=lambda df: df.visit_duration_str.apply(lambda x: x.rjust(5) if len(x)<5 else x))\n",
    "                       .assign(category=lambda df: df.category.apply(lambda x: x.rjust(46) if len(x)<46 else x))\n",
    "                      )\n",
    "df_adultsites_count.head()"
   ]
  },
  {
   "cell_type": "code",
   "execution_count": null,
   "id": "aab48843",
   "metadata": {
    "ExecuteTime": {
     "end_time": "2023-01-13T09:17:47.488633Z",
     "start_time": "2023-01-13T09:17:47.488633Z"
    }
   },
   "outputs": [],
   "source": [
    "print((df_adultsites_count\n",
    " .head(100)\n",
    " .filter([\"private_domain\", \"category\", \"count\", \"visit_duration\"])\n",
    " .head(50)\n",
    " .to_markdown()\n",
    "#  .to_csv(\"../data/top100_adultsites.csv\", index=False)\n",
    "))"
   ]
  },
  {
   "cell_type": "code",
   "execution_count": null,
   "id": "d4760213",
   "metadata": {
    "ExecuteTime": {
     "end_time": "2023-01-13T09:17:47.490121Z",
     "start_time": "2023-01-13T09:17:47.490121Z"
    },
    "code_folding": [
     0
    ],
    "scrolled": false
   },
   "outputs": [],
   "source": [
    "# Plot (fold cell)\n",
    "ax = forestplot(df_adultsites_count.head(25), \n",
    "                estimate=\"count\", \n",
    "                ll=\"ll\", hl=\"hl\",\n",
    "                varlabel=\"private_domain\",\n",
    "                annote=[\"category\", \"visit_duration_str\", \"count_str\"],\n",
    "                annoteheaders=[25*\" \" + \"Category (via YouGov)\", \"Hours\", \" Visits\"],\n",
    "                ci_report=False,\n",
    "                figsize=(6,12),\n",
    "                color_alt_rows=True,\n",
    "                xticks=range(0,12_500,2_500),  # x-ticks to be printed\n",
    "                table=True,\n",
    "               **{\"marker\": \"o\",  # set maker symbol as diamond\n",
    "                  \"variable_header\": \"Site\",\n",
    "                  \"markersize\": 35,  # adjust marker size\n",
    "#                   \"xlinestyle\": (0, (10, 5)),  # long dash for x-reference line \n",
    "                  \"xlinecolor\": \"1\",  # gray color for x-reference line\n",
    "                  \"xtick_size\": 13,  # adjust x-ticker fontsize\n",
    "                 }   \n",
    "               )\n",
    "ax.xaxis.set_ticks_position('none') \n",
    "ax.grid(False)\n",
    "fmt = '{x:,.0f}'\n",
    "tick = mtick.StrMethodFormatter(fmt)\n",
    "ax.xaxis.set_major_formatter(tick) \n",
    "ax.set_ylim(-.5, 25.5) # Gets rid of white padding above\n",
    "for vline in [2000, 4000, 6000, 8000]:\n",
    "    ax.vlines(vline, ymin=-.5, ymax=24.5, colors=\".6\", linewidth=.2)\n",
    "annotation = \"99th percentile\"\n",
    "p95 = df_adultsites_count[\"count\"].quantile(q=.99)\n",
    "horizontal_scaler = 1.05\n",
    "x, y = horizontal_scaler*p95, 7\n",
    "plt.annotate(annotation, (x, y), size=15)\n",
    "plt.axvline(\n",
    "    x, \n",
    "    ymax=.96, \n",
    "    color=\".6\", \n",
    "    ls=(0, (5, 10)), \n",
    "    lw=1.3\n",
    ")\n",
    "save_mpl_fig(os.path.join(\"../figs/top_25_adultsites\"))"
   ]
  },
  {
   "cell_type": "code",
   "execution_count": null,
   "id": "d0da4cbf",
   "metadata": {
    "ExecuteTime": {
     "end_time": "2023-01-13T09:17:47.491113Z",
     "start_time": "2023-01-13T09:17:47.491113Z"
    },
    "code_folding": [
     0
    ]
   },
   "outputs": [],
   "source": [
    "# (fold cell) Get non-adult sites metrics\n",
    "df_nonadultsites_count = (df\n",
    "                          .query(\"~category.str.contains('adult', case=False, na=False)\")\n",
    "                          .dropna(subset=[\"caseid\", \"category\", \"visit_duration\"])\n",
    "                          .groupby([\"private_domain\", \"category\"])\n",
    "                          .size()\n",
    "                          .reset_index()\n",
    "                          .rename_column(0, \"count\")\n",
    "                          .sort_values(\"count\", ascending=False, ignore_index=True)\n",
    "                          # Get total visit duration of websites\n",
    "                          .merge((df\n",
    "                                  .groupby([\"private_domain\", \"category\"])\n",
    "                                  .visit_duration.sum()\n",
    "                                  .reset_index()\n",
    "                                  # Normalize from second(s) to hour(s)\n",
    "                                  .assign(visit_duration=lambda df: df.visit_duration/3600)\n",
    "                                  .round(decimals=0)\n",
    "                                  .assign(visit_duration=lambda df: df.visit_duration.apply(int))\n",
    "                                 ), how=\"left\", on=[\"private_domain\", \"category\"], validate=\"1:1\"\n",
    "                                )\n",
    "                          # Preparing for plot\n",
    "                          .assign(ll=lambda df: df[\"count\"])\n",
    "                          .assign(hl=lambda df: df[\"count\"])\n",
    "                          # Format count and visit_duration\n",
    "                          .assign(count_str=lambda df: df.apply(lambda x: \"{:,}\".format(x['count']), axis=1))\n",
    "                          .assign(count_str=lambda df: df.count_str.apply(lambda x: x.rjust(7) if len(x)<7 else x))\n",
    "                          .assign(visit_duration_str=lambda df: df.apply(lambda x: \"{:,}\".format(x['visit_duration']), axis=1))\n",
    "                          .assign(visit_duration_str=lambda df: df.visit_duration_str.apply(lambda x: x.rjust(5) if len(x)<5 else x))\n",
    "                          .assign(category=lambda df: df.category.apply(lambda x: x.rjust(42) if len(x)<42 else x))\n",
    "                         )\n",
    "df_nonadultsites_count.head()"
   ]
  },
  {
   "cell_type": "code",
   "execution_count": null,
   "id": "0e30341b",
   "metadata": {
    "ExecuteTime": {
     "end_time": "2023-01-13T09:17:47.492104Z",
     "start_time": "2023-01-13T09:17:47.492104Z"
    },
    "code_folding": [
     0
    ]
   },
   "outputs": [],
   "source": [
    "# Plot (fold cell)\n",
    "ax = forestplot(df_nonadultsites_count.head(25), \n",
    "                estimate=\"count\", \n",
    "                ll=\"ll\", hl=\"hl\",\n",
    "                varlabel=\"private_domain\",\n",
    "                annote=[\"category\", \"visit_duration_str\", \"count_str\"],\n",
    "                annoteheaders=[21*\" \" + \"Category (via YouGov)\", \"Hours\", \" Visits\"],\n",
    "                ci_report=False,\n",
    "                figsize=(6,12),\n",
    "                color_alt_rows=True,\n",
    "                xticks=range(0,800_000,150_000),  # x-ticks to be printed\n",
    "                table=True,\n",
    "               **{\"marker\": \"o\",  # set maker symbol as diamond\n",
    "                  \"variable_header\": \"Site\",\n",
    "                  \"markersize\": 35,  # adjust marker size\n",
    "#                   \"xlinestyle\": (0, (10, 5)),  # long dash for x-reference line \n",
    "                  \"xlinecolor\": \"1\",  # gray color for x-reference line\n",
    "                  \"xtick_size\": 13,  # adjust x-ticker fontsize\n",
    "                 }   \n",
    "               )\n",
    "ax.xaxis.set_ticks_position('none') \n",
    "ax.grid(False)\n",
    "fmt = '{x:,.0f}'\n",
    "tick = mtick.StrMethodFormatter(fmt)\n",
    "ax.xaxis.set_major_formatter(tick) \n",
    "ax.set_ylim(-.5, 25.5) # Gets rid of white padding above\n",
    "for vline in [200_000, 400_000, 600_000]:\n",
    "    ax.vlines(vline, ymin=-.5, ymax=24.5, colors=\".6\", linewidth=.2)\n",
    "annotation = \"99th percentile\"\n",
    "p95 = df_nonadultsites_count[\"count\"].quantile(q=.99)\n",
    "horizontal_scaler = 1.05\n",
    "x, y = horizontal_scaler*p95, 7\n",
    "plt.annotate(annotation, (x, y), size=15)\n",
    "plt.axvline(\n",
    "    x, \n",
    "    ymax=.96, \n",
    "    color=\".6\", \n",
    "    ls=(0, (5, 10)), \n",
    "    lw=1.3\n",
    ")\n",
    "save_mpl_fig(os.path.join(\"../figs/top_25_nonadultsites\"))"
   ]
  },
  {
   "cell_type": "code",
   "execution_count": null,
   "id": "abd1684d",
   "metadata": {
    "ExecuteTime": {
     "end_time": "2023-01-13T09:17:47.493098Z",
     "start_time": "2023-01-13T09:17:47.493098Z"
    },
    "scrolled": false
   },
   "outputs": [],
   "source": [
    "df_zero_duration = (df\n",
    "                    .query(f\"visit_duration==0\")\n",
    "                    .groupby([\"private_domain\", \"category\"])\n",
    "                    .size()\n",
    "                    .reset_index()\n",
    "                    .rename_column(0, \"count\")\n",
    "                    .sort_values(\"count\", ascending=False, ignore_index=True)\n",
    "                   )\n",
    "df_zero_duration.head(20)"
   ]
  },
  {
   "cell_type": "code",
   "execution_count": null,
   "id": "321c5fb5",
   "metadata": {},
   "outputs": [],
   "source": []
  }
 ],
 "metadata": {
  "kernelspec": {
   "display_name": "Python 3 (ipykernel)",
   "language": "python",
   "name": "python3"
  },
  "language_info": {
   "codemirror_mode": {
    "name": "ipython",
    "version": 3
   },
   "file_extension": ".py",
   "mimetype": "text/x-python",
   "name": "python",
   "nbconvert_exporter": "python",
   "pygments_lexer": "ipython3",
   "version": "3.9.7"
  },
  "toc": {
   "base_numbering": 1,
   "nav_menu": {},
   "number_sections": true,
   "sideBar": true,
   "skip_h1_title": false,
   "title_cell": "Table of Contents",
   "title_sidebar": "Contents",
   "toc_cell": false,
   "toc_position": {},
   "toc_section_display": true,
   "toc_window_display": false
  },
  "varInspector": {
   "cols": {
    "lenName": 16,
    "lenType": 16,
    "lenVar": 40
   },
   "kernels_config": {
    "python": {
     "delete_cmd_postfix": "",
     "delete_cmd_prefix": "del ",
     "library": "var_list.py",
     "varRefreshCmd": "print(var_dic_list())"
    },
    "r": {
     "delete_cmd_postfix": ") ",
     "delete_cmd_prefix": "rm(",
     "library": "var_list.r",
     "varRefreshCmd": "cat(var_dic_list()) "
    }
   },
   "types_to_exclude": [
    "module",
    "function",
    "builtin_function_or_method",
    "instance",
    "_Feature"
   ],
   "window_display": false
  }
 },
 "nbformat": 4,
 "nbformat_minor": 5
}
