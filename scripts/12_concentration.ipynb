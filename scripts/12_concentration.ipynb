{
 "cells": [
  {
   "cell_type": "code",
   "execution_count": 1,
   "id": "7bca493e",
   "metadata": {
    "ExecuteTime": {
     "end_time": "2022-12-20T02:24:57.433973Z",
     "start_time": "2022-12-20T02:24:55.315930Z"
    },
    "execution": {
     "iopub.execute_input": "2024-04-27T09:52:42.652440Z",
     "iopub.status.busy": "2024-04-27T09:52:42.652215Z",
     "iopub.status.idle": "2024-04-27T09:52:44.064216Z",
     "shell.execute_reply": "2024-04-27T09:52:44.063622Z"
    }
   },
   "outputs": [],
   "source": [
    "import os\n",
    "import pandas as pd\n",
    "import janitor\n",
    "import numpy as np\n",
    "\n",
    "pd.set_option(\"display.max_columns\", 100)\n",
    "\n",
    "import seaborn as sns\n",
    "\n",
    "sns.set_theme(\n",
    "    context=\"notebook\", font_scale=1.05, style=\"whitegrid\", palette=\"dark\"\n",
    ")  #  Darkgrid Whitegrid Dark White Ticksimport matplotlib.pyplot as plt\n",
    "import matplotlib.pyplot as plt\n",
    "import matplotlib.lines as mlines\n",
    "from utils.utils import change_width, save_mpl_fig\n",
    "\n",
    "FIGSAVEDIR = \"../figs\"\n",
    "DATAPATH = \"../adult-data/output\""
   ]
  },
  {
   "cell_type": "code",
   "execution_count": 2,
   "id": "b7ba80e0",
   "metadata": {
    "ExecuteTime": {
     "end_time": "2022-12-20T02:24:57.449581Z",
     "start_time": "2022-12-20T02:24:57.434974Z"
    },
    "code_folding": [
     0
    ],
    "execution": {
     "iopub.execute_input": "2024-04-27T09:52:44.066915Z",
     "iopub.status.busy": "2024-04-27T09:52:44.066671Z",
     "iopub.status.idle": "2024-04-27T09:52:44.080463Z",
     "shell.execute_reply": "2024-04-27T09:52:44.080050Z"
    },
    "scrolled": true
   },
   "outputs": [
    {
     "data": {
      "text/plain": [
       "['9gag.com',\n",
       " 'sniffies.com',\n",
       " 'f95zone.to',\n",
       " 'silverdaddies.com',\n",
       " 'ttcache.com',\n",
       " 'xlviirdr.com',\n",
       " '4chan.org',\n",
       " 'thechive.com',\n",
       " 'victoriassecret.com',\n",
       " 'usasexguide.nl',\n",
       " 'xlviiirdr.com',\n",
       " 'xxxjmp.com',\n",
       " 'urbandictionary.com',\n",
       " 'lpsg.com']"
      ]
     },
     "execution_count": 2,
     "metadata": {},
     "output_type": "execute_result"
    }
   ],
   "source": [
    "# Read in list of classified FP (false positives)\n",
    "falsepositives = pd.read_csv(\"../data/false_positives_list.csv\")[\n",
    "    \"flagged as FP\"\n",
    "].tolist()\n",
    "falsepositives"
   ]
  },
  {
   "cell_type": "code",
   "execution_count": 3,
   "id": "29b32fa9",
   "metadata": {
    "ExecuteTime": {
     "end_time": "2022-12-20T02:25:13.202117Z",
     "start_time": "2022-12-20T02:24:57.450482Z"
    },
    "code_folding": [
     0
    ],
    "execution": {
     "iopub.execute_input": "2024-04-27T09:52:44.083436Z",
     "iopub.status.busy": "2024-04-27T09:52:44.082747Z",
     "iopub.status.idle": "2024-04-27T09:53:13.413934Z",
     "shell.execute_reply": "2024-04-27T09:53:13.413145Z"
    }
   },
   "outputs": [
    {
     "name": "stdout",
     "output_type": "stream",
     "text": [
      "output = df with visits to adult sites\n",
      "len(df)=84,289\n"
     ]
    },
    {
     "data": {
      "text/html": [
       "<div>\n",
       "<style scoped>\n",
       "    .dataframe tbody tr th:only-of-type {\n",
       "        vertical-align: middle;\n",
       "    }\n",
       "\n",
       "    .dataframe tbody tr th {\n",
       "        vertical-align: top;\n",
       "    }\n",
       "\n",
       "    .dataframe thead th {\n",
       "        text-align: right;\n",
       "    }\n",
       "</style>\n",
       "<table border=\"1\" class=\"dataframe\">\n",
       "  <thead>\n",
       "    <tr style=\"text-align: right;\">\n",
       "      <th></th>\n",
       "      <th>caseid</th>\n",
       "      <th>private_domain</th>\n",
       "      <th>category</th>\n",
       "      <th>visit_duration</th>\n",
       "    </tr>\n",
       "  </thead>\n",
       "  <tbody>\n",
       "    <tr>\n",
       "      <th>266</th>\n",
       "      <td>201302005</td>\n",
       "      <td>adameve.com</td>\n",
       "      <td>Adult, Shopping</td>\n",
       "      <td>482</td>\n",
       "    </tr>\n",
       "    <tr>\n",
       "      <th>292</th>\n",
       "      <td>201302005</td>\n",
       "      <td>adameve.com</td>\n",
       "      <td>Adult, Shopping</td>\n",
       "      <td>2601</td>\n",
       "    </tr>\n",
       "    <tr>\n",
       "      <th>518</th>\n",
       "      <td>219344965</td>\n",
       "      <td>xhamster.com</td>\n",
       "      <td>Adult</td>\n",
       "      <td>258</td>\n",
       "    </tr>\n",
       "    <tr>\n",
       "      <th>1528</th>\n",
       "      <td>238181637</td>\n",
       "      <td>xvideos.com</td>\n",
       "      <td>Adult</td>\n",
       "      <td>373</td>\n",
       "    </tr>\n",
       "    <tr>\n",
       "      <th>1530</th>\n",
       "      <td>238181637</td>\n",
       "      <td>xvideos.com</td>\n",
       "      <td>Adult</td>\n",
       "      <td>449</td>\n",
       "    </tr>\n",
       "  </tbody>\n",
       "</table>\n",
       "</div>"
      ],
      "text/plain": [
       "         caseid private_domain         category  visit_duration\n",
       "266   201302005    adameve.com  Adult, Shopping             482\n",
       "292   201302005    adameve.com  Adult, Shopping            2601\n",
       "518   219344965   xhamster.com            Adult             258\n",
       "1528  238181637    xvideos.com            Adult             373\n",
       "1530  238181637    xvideos.com            Adult             449"
      ]
     },
     "execution_count": 3,
     "metadata": {},
     "output_type": "execute_result"
    }
   ],
   "source": [
    "# (fold cell) Load and prep web browsing data\n",
    "usecols_web_desktop = [\"caseid\", \"category\", \"private_domain\", \"visit_duration\"]\n",
    "usecols = [\"caseid\", \"category\", \"private_domain\", \"page_duration\"]\n",
    "\n",
    "df = (\n",
    "    pd.concat(\n",
    "        [\n",
    "            # Get web_mobile\n",
    "            pd.read_csv(\n",
    "                os.path.join(\n",
    "                    DATAPATH, \"realityMine_web_mobile_2022-06-01_2022-06-30.csv\"\n",
    "                ),\n",
    "                usecols=usecols_web_desktop,\n",
    "                low_memory=False,\n",
    "            ),\n",
    "            # Get web_desktop\n",
    "            pd.read_csv(\n",
    "                os.path.join(\n",
    "                    DATAPATH, \"realityMine_web_desktop_2022-06-01_2022-06-30.csv\"\n",
    "                ),\n",
    "                usecols=usecols_web_desktop,\n",
    "                low_memory=False,\n",
    "            ),\n",
    "            # Get web\n",
    "            (\n",
    "                pd.read_csv(\n",
    "                    os.path.join(DATAPATH, \"realityMine_web_2022-06-01_2022-06-30.csv\"),\n",
    "                    usecols=usecols,\n",
    "                    low_memory=False,\n",
    "                )\n",
    "                # Renaming columns to be consistent w/ web_mobile & web_desktop\n",
    "                .rename_column(\"page_duration\", \"visit_duration\")\n",
    "            ),\n",
    "        ]\n",
    "    )\n",
    "    .query(\"category.str.contains('adult', case=False, na=False)\")\n",
    "    .query(\"private_domain not in @falsepositives\")\n",
    "    .dropna(subset=[\"caseid\", \"category\", \"visit_duration\"])\n",
    ")\n",
    "print(\"output = df with visits to adult sites\")\n",
    "print(f\"{len(df)=:,}\")\n",
    "df.head()"
   ]
  },
  {
   "cell_type": "code",
   "execution_count": 4,
   "id": "e74293cb",
   "metadata": {
    "ExecuteTime": {
     "end_time": "2022-12-20T02:25:13.233704Z",
     "start_time": "2022-12-20T02:25:13.203118Z"
    },
    "code_folding": [
     0
    ],
    "execution": {
     "iopub.execute_input": "2024-04-27T09:53:13.416210Z",
     "iopub.status.busy": "2024-04-27T09:53:13.416020Z",
     "iopub.status.idle": "2024-04-27T09:53:13.434788Z",
     "shell.execute_reply": "2024-04-27T09:53:13.434002Z"
    }
   },
   "outputs": [
    {
     "data": {
      "text/html": [
       "<div>\n",
       "<style scoped>\n",
       "    .dataframe tbody tr th:only-of-type {\n",
       "        vertical-align: middle;\n",
       "    }\n",
       "\n",
       "    .dataframe tbody tr th {\n",
       "        vertical-align: top;\n",
       "    }\n",
       "\n",
       "    .dataframe thead th {\n",
       "        text-align: right;\n",
       "    }\n",
       "</style>\n",
       "<table border=\"1\" class=\"dataframe\">\n",
       "  <thead>\n",
       "    <tr style=\"text-align: right;\">\n",
       "      <th></th>\n",
       "      <th>private_domain</th>\n",
       "      <th>rank</th>\n",
       "    </tr>\n",
       "  </thead>\n",
       "  <tbody>\n",
       "    <tr>\n",
       "      <th>0</th>\n",
       "      <td>xvideos.com</td>\n",
       "      <td>1</td>\n",
       "    </tr>\n",
       "    <tr>\n",
       "      <th>1</th>\n",
       "      <td>xnxx.com</td>\n",
       "      <td>2</td>\n",
       "    </tr>\n",
       "    <tr>\n",
       "      <th>2</th>\n",
       "      <td>pornhub.com</td>\n",
       "      <td>3</td>\n",
       "    </tr>\n",
       "    <tr>\n",
       "      <th>3</th>\n",
       "      <td>xhamster.com</td>\n",
       "      <td>4</td>\n",
       "    </tr>\n",
       "    <tr>\n",
       "      <th>4</th>\n",
       "      <td>onlyfans.com</td>\n",
       "      <td>5</td>\n",
       "    </tr>\n",
       "    <tr>\n",
       "      <th>5</th>\n",
       "      <td>literotica.com</td>\n",
       "      <td>6</td>\n",
       "    </tr>\n",
       "    <tr>\n",
       "      <th>6</th>\n",
       "      <td>rule34.xxx</td>\n",
       "      <td>7</td>\n",
       "    </tr>\n",
       "    <tr>\n",
       "      <th>7</th>\n",
       "      <td>youporn.com</td>\n",
       "      <td>8</td>\n",
       "    </tr>\n",
       "    <tr>\n",
       "      <th>8</th>\n",
       "      <td>motherless.com</td>\n",
       "      <td>9</td>\n",
       "    </tr>\n",
       "    <tr>\n",
       "      <th>9</th>\n",
       "      <td>redtube.com</td>\n",
       "      <td>10</td>\n",
       "    </tr>\n",
       "    <tr>\n",
       "      <th>10</th>\n",
       "      <td>chaturbate.com</td>\n",
       "      <td>11</td>\n",
       "    </tr>\n",
       "    <tr>\n",
       "      <th>11</th>\n",
       "      <td>myfreecams.com</td>\n",
       "      <td>12</td>\n",
       "    </tr>\n",
       "    <tr>\n",
       "      <th>12</th>\n",
       "      <td>cam4.com</td>\n",
       "      <td>13</td>\n",
       "    </tr>\n",
       "    <tr>\n",
       "      <th>13</th>\n",
       "      <td>dirtyleague.com</td>\n",
       "      <td>14</td>\n",
       "    </tr>\n",
       "    <tr>\n",
       "      <th>14</th>\n",
       "      <td>txxx.com</td>\n",
       "      <td>15</td>\n",
       "    </tr>\n",
       "    <tr>\n",
       "      <th>15</th>\n",
       "      <td>fetlife.com</td>\n",
       "      <td>16</td>\n",
       "    </tr>\n",
       "    <tr>\n",
       "      <th>16</th>\n",
       "      <td>spankbang.com</td>\n",
       "      <td>17</td>\n",
       "    </tr>\n",
       "    <tr>\n",
       "      <th>17</th>\n",
       "      <td>stripchat.com</td>\n",
       "      <td>18</td>\n",
       "    </tr>\n",
       "    <tr>\n",
       "      <th>18</th>\n",
       "      <td>pornone.com</td>\n",
       "      <td>19</td>\n",
       "    </tr>\n",
       "    <tr>\n",
       "      <th>19</th>\n",
       "      <td>youjizz.com</td>\n",
       "      <td>20</td>\n",
       "    </tr>\n",
       "    <tr>\n",
       "      <th>20</th>\n",
       "      <td>imagefap.com</td>\n",
       "      <td>21</td>\n",
       "    </tr>\n",
       "    <tr>\n",
       "      <th>21</th>\n",
       "      <td>redgifs.com</td>\n",
       "      <td>22</td>\n",
       "    </tr>\n",
       "    <tr>\n",
       "      <th>22</th>\n",
       "      <td>swinglifestyle.com</td>\n",
       "      <td>23</td>\n",
       "    </tr>\n",
       "    <tr>\n",
       "      <th>23</th>\n",
       "      <td>hentairead.com</td>\n",
       "      <td>24</td>\n",
       "    </tr>\n",
       "    <tr>\n",
       "      <th>24</th>\n",
       "      <td>analdin.com</td>\n",
       "      <td>25</td>\n",
       "    </tr>\n",
       "  </tbody>\n",
       "</table>\n",
       "</div>"
      ],
      "text/plain": [
       "        private_domain  rank\n",
       "0          xvideos.com     1\n",
       "1             xnxx.com     2\n",
       "2          pornhub.com     3\n",
       "3         xhamster.com     4\n",
       "4         onlyfans.com     5\n",
       "5       literotica.com     6\n",
       "6           rule34.xxx     7\n",
       "7          youporn.com     8\n",
       "8       motherless.com     9\n",
       "9          redtube.com    10\n",
       "10      chaturbate.com    11\n",
       "11      myfreecams.com    12\n",
       "12            cam4.com    13\n",
       "13     dirtyleague.com    14\n",
       "14            txxx.com    15\n",
       "15         fetlife.com    16\n",
       "16       spankbang.com    17\n",
       "17       stripchat.com    18\n",
       "18         pornone.com    19\n",
       "19         youjizz.com    20\n",
       "20        imagefap.com    21\n",
       "21         redgifs.com    22\n",
       "22  swinglifestyle.com    23\n",
       "23      hentairead.com    24\n",
       "24         analdin.com    25"
      ]
     },
     "execution_count": 4,
     "metadata": {},
     "output_type": "execute_result"
    }
   ],
   "source": [
    "# (fold cell) Get the top 25 adultsites by total duration of visits\n",
    "df_top25_adult = (\n",
    "    df.groupby([\"private_domain\", \"category\"])[\"visit_duration\"]\n",
    "    .sum()\n",
    "    .reset_index()\n",
    "    .sort_values(\"visit_duration\", ascending=False, ignore_index=True)\n",
    "    .head(25)\n",
    "    .assign(rank=lambda df: 1 + df.index)\n",
    "    .filter([\"private_domain\", \"rank\"])\n",
    ")\n",
    "df_top25_adult"
   ]
  },
  {
   "cell_type": "code",
   "execution_count": 5,
   "id": "734fba34",
   "metadata": {
    "ExecuteTime": {
     "end_time": "2022-12-20T02:25:13.249559Z",
     "start_time": "2022-12-20T02:25:13.234705Z"
    },
    "code_folding": [],
    "execution": {
     "iopub.execute_input": "2024-04-27T09:53:13.437035Z",
     "iopub.status.busy": "2024-04-27T09:53:13.436716Z",
     "iopub.status.idle": "2024-04-27T09:53:13.448870Z",
     "shell.execute_reply": "2024-04-27T09:53:13.448167Z"
    }
   },
   "outputs": [
    {
     "data": {
      "text/html": [
       "<div>\n",
       "<style scoped>\n",
       "    .dataframe tbody tr th:only-of-type {\n",
       "        vertical-align: middle;\n",
       "    }\n",
       "\n",
       "    .dataframe tbody tr th {\n",
       "        vertical-align: top;\n",
       "    }\n",
       "\n",
       "    .dataframe thead th {\n",
       "        text-align: right;\n",
       "    }\n",
       "</style>\n",
       "<table border=\"1\" class=\"dataframe\">\n",
       "  <thead>\n",
       "    <tr style=\"text-align: right;\">\n",
       "      <th></th>\n",
       "      <th>caseid</th>\n",
       "      <th>party</th>\n",
       "    </tr>\n",
       "  </thead>\n",
       "  <tbody>\n",
       "    <tr>\n",
       "      <th>0</th>\n",
       "      <td>200661421</td>\n",
       "      <td>D</td>\n",
       "    </tr>\n",
       "    <tr>\n",
       "      <th>1</th>\n",
       "      <td>200686597</td>\n",
       "      <td>NaN</td>\n",
       "    </tr>\n",
       "    <tr>\n",
       "      <th>2</th>\n",
       "      <td>200953869</td>\n",
       "      <td>R</td>\n",
       "    </tr>\n",
       "  </tbody>\n",
       "</table>\n",
       "</div>"
      ],
      "text/plain": [
       "      caseid party\n",
       "0  200661421     D\n",
       "1  200686597   NaN\n",
       "2  200953869     R"
      ]
     },
     "execution_count": 5,
     "metadata": {},
     "output_type": "execute_result"
    }
   ],
   "source": [
    "# (fold cell) Load individual metadata\n",
    "df_ind = pd.read_csv(\n",
    "    \"../data/individual_browsing_data.csv\", usecols=[\"caseid\", \"party\"]\n",
    ")\n",
    "df_ind.head(3)"
   ]
  },
  {
   "cell_type": "code",
   "execution_count": 6,
   "id": "db394c16",
   "metadata": {
    "ExecuteTime": {
     "end_time": "2022-12-20T02:25:13.312555Z",
     "start_time": "2022-12-20T02:25:13.250559Z"
    },
    "code_folding": [
     0
    ],
    "execution": {
     "iopub.execute_input": "2024-04-27T09:53:13.451153Z",
     "iopub.status.busy": "2024-04-27T09:53:13.450821Z",
     "iopub.status.idle": "2024-04-27T09:53:13.488288Z",
     "shell.execute_reply": "2024-04-27T09:53:13.487453Z"
    }
   },
   "outputs": [
    {
     "name": "stdout",
     "output_type": "stream",
     "text": [
      "len(df_plot_top10)=2437\n"
     ]
    },
    {
     "data": {
      "text/html": [
       "<div>\n",
       "<style scoped>\n",
       "    .dataframe tbody tr th:only-of-type {\n",
       "        vertical-align: middle;\n",
       "    }\n",
       "\n",
       "    .dataframe tbody tr th {\n",
       "        vertical-align: top;\n",
       "    }\n",
       "\n",
       "    .dataframe thead th {\n",
       "        text-align: right;\n",
       "    }\n",
       "</style>\n",
       "<table border=\"1\" class=\"dataframe\">\n",
       "  <thead>\n",
       "    <tr style=\"text-align: right;\">\n",
       "      <th></th>\n",
       "      <th>caseid</th>\n",
       "      <th>party</th>\n",
       "      <th>private_domain</th>\n",
       "      <th>visit_duration</th>\n",
       "      <th>rank</th>\n",
       "      <th>top10</th>\n",
       "    </tr>\n",
       "  </thead>\n",
       "  <tbody>\n",
       "    <tr>\n",
       "      <th>0</th>\n",
       "      <td>296069</td>\n",
       "      <td>R</td>\n",
       "      <td>18exgfs.com</td>\n",
       "      <td>0.233333</td>\n",
       "      <td>NaN</td>\n",
       "      <td>Others</td>\n",
       "    </tr>\n",
       "    <tr>\n",
       "      <th>1</th>\n",
       "      <td>296069</td>\n",
       "      <td>R</td>\n",
       "      <td>aiohotzgirl.com</td>\n",
       "      <td>5.066667</td>\n",
       "      <td>NaN</td>\n",
       "      <td>Others</td>\n",
       "    </tr>\n",
       "    <tr>\n",
       "      <th>2</th>\n",
       "      <td>296069</td>\n",
       "      <td>R</td>\n",
       "      <td>allover30.com</td>\n",
       "      <td>3.500000</td>\n",
       "      <td>NaN</td>\n",
       "      <td>Others</td>\n",
       "    </tr>\n",
       "    <tr>\n",
       "      <th>3</th>\n",
       "      <td>296069</td>\n",
       "      <td>R</td>\n",
       "      <td>anilos.com</td>\n",
       "      <td>5.933333</td>\n",
       "      <td>NaN</td>\n",
       "      <td>Others</td>\n",
       "    </tr>\n",
       "    <tr>\n",
       "      <th>4</th>\n",
       "      <td>296069</td>\n",
       "      <td>R</td>\n",
       "      <td>bestsexphoto.info</td>\n",
       "      <td>2.933333</td>\n",
       "      <td>NaN</td>\n",
       "      <td>Others</td>\n",
       "    </tr>\n",
       "  </tbody>\n",
       "</table>\n",
       "</div>"
      ],
      "text/plain": [
       "   caseid party     private_domain  visit_duration  rank   top10\n",
       "0  296069     R        18exgfs.com        0.233333   NaN  Others\n",
       "1  296069     R    aiohotzgirl.com        5.066667   NaN  Others\n",
       "2  296069     R      allover30.com        3.500000   NaN  Others\n",
       "3  296069     R         anilos.com        5.933333   NaN  Others\n",
       "4  296069     R  bestsexphoto.info        2.933333   NaN  Others"
      ]
     },
     "execution_count": 6,
     "metadata": {},
     "output_type": "execute_result"
    }
   ],
   "source": [
    "# Merge with top sites and individual metadata (for party)\n",
    "df_plot_top10 = (\n",
    "    df\n",
    "    # Merge with individual metadata\n",
    "    .merge(df_ind, how=\"left\", on=\"caseid\", validate=\"m:1\")\n",
    "    # Normalize seconds to mins\n",
    "    .assign(\n",
    "        visit_duration=lambda df: df.visit_duration / 60,\n",
    "    )\n",
    "    #     Collapse to individual-domain level\n",
    "    .groupby([\"caseid\", \"party\", \"private_domain\"])[\"visit_duration\"]\n",
    "    .sum()\n",
    "    .reset_index()\n",
    "    # Merge with top 25 sites to get rank (by total visit duration)\n",
    "    .merge(df_top25_adult, how=\"left\", on=\"private_domain\", validate=\"m:1\")\n",
    "    .assign(top10=lambda df: np.where(df[\"rank\"] <= 10, \"Top 10\", \"Others\"))\n",
    ")\n",
    "print(f\"{len(df_plot_top10)=}\")\n",
    "df_plot_top10.head()"
   ]
  },
  {
   "cell_type": "code",
   "execution_count": 7,
   "id": "d694b28f",
   "metadata": {
    "ExecuteTime": {
     "end_time": "2022-12-20T02:25:13.737175Z",
     "start_time": "2022-12-20T02:25:13.313555Z"
    },
    "code_folding": [
     0
    ],
    "execution": {
     "iopub.execute_input": "2024-04-27T09:53:13.491061Z",
     "iopub.status.busy": "2024-04-27T09:53:13.490679Z",
     "iopub.status.idle": "2024-04-27T09:53:14.324378Z",
     "shell.execute_reply": "2024-04-27T09:53:14.323855Z"
    }
   },
   "outputs": [
    {
     "name": "stdout",
     "output_type": "stream",
     "text": [
      "Top 10 = 109.3522309711286\n",
      "Others = 9.195654052185935\n"
     ]
    },
    {
     "data": {
      "image/png": "[encoded data removed]",
      "text/plain": [
       "<Figure size 468x374.4 with 1 Axes>"
      ]
     },
     "metadata": {},
     "output_type": "display_data"
    }
   ],
   "source": [
    "# (fold cell) Plot top 10 vs others\n",
    "scale = 0.65\n",
    "fig, ax = plt.subplots(figsize=(10 * scale, 8 * scale), facecolor=\"white\")\n",
    "\n",
    "sns.barplot(\n",
    "    x=\"top10\",\n",
    "    y=\"visit_duration\",\n",
    "    data=df_plot_top10,\n",
    "    order=[\"Top 10\", \"Others\"],\n",
    "    facecolor=(0, 0, 0, 0),\n",
    "    linewidth=3,\n",
    "    edgecolor=\".5\",\n",
    "    errcolor=\".5\",\n",
    "    ax=ax,\n",
    ")\n",
    "change_width(ax, 0.5)\n",
    "ax.set_ylabel(\"Time spent\", size=14)\n",
    "ax.set_xlabel(\"\", size=14)\n",
    "\n",
    "sns.despine(left=True)\n",
    "plt.tight_layout()\n",
    "save_mpl_fig(os.path.join(FIGSAVEDIR, \"concentration_porn_consumption\"))\n",
    "\n",
    "_mean = df_plot_top10.query(\"top10=='Top 10'\").visit_duration.mean()\n",
    "print(f\"Top 10 = {_mean}\")\n",
    "_mean = df_plot_top10.query(\"top10=='Others'\").visit_duration.mean()\n",
    "print(f\"Others = {_mean}\")"
   ]
  },
  {
   "cell_type": "code",
   "execution_count": 8,
   "id": "6f495cc2",
   "metadata": {
    "ExecuteTime": {
     "end_time": "2022-12-20T02:25:14.082368Z",
     "start_time": "2022-12-20T02:25:13.738175Z"
    },
    "code_folding": [
     0
    ],
    "execution": {
     "iopub.execute_input": "2024-04-27T09:53:14.326537Z",
     "iopub.status.busy": "2024-04-27T09:53:14.326368Z",
     "iopub.status.idle": "2024-04-27T09:53:15.026141Z",
     "shell.execute_reply": "2024-04-27T09:53:15.025687Z"
    }
   },
   "outputs": [
    {
     "data": {
      "image/png": "[encoded data removed]",
      "text/plain": [
       "<Figure size 468x374.4 with 1 Axes>"
      ]
     },
     "metadata": {},
     "output_type": "display_data"
    }
   ],
   "source": [
    "# (fold cell) Plot top 10 vs others by party\n",
    "scale = 0.65\n",
    "fig, ax = plt.subplots(figsize=(10 * scale, 8 * scale), facecolor=\"white\")\n",
    "\n",
    "sns.barplot(\n",
    "    x=\"top10\",\n",
    "    y=\"visit_duration\",\n",
    "    data=df_plot_top10.query(\"party!='I'\"),\n",
    "    order=[\"Top 10\", \"Others\"],\n",
    "    hue=\"party\",\n",
    "    hue_order=[\"D\", \"R\"],\n",
    "    alpha=0.7,\n",
    "    ax=ax,\n",
    ")\n",
    "ax.set_yticks(range(0, 200, 30))\n",
    "legend = plt.legend()\n",
    "plt.legend(fontsize=15, frameon=False)\n",
    "ax.set_ylabel(\"Time spent\", size=14)\n",
    "ax.set_xlabel(\"\", size=14)\n",
    "sns.despine(left=True)\n",
    "plt.tight_layout()\n",
    "save_mpl_fig(os.path.join(FIGSAVEDIR, \"concentration_porn_consumption_by_party\"))"
   ]
  },
  {
   "cell_type": "markdown",
   "id": "3078d6bb",
   "metadata": {},
   "source": [
    "### Generalize that\n",
    "* For each individual, get their ranked consumption\n",
    "* So each individual will have 25 rows, one for each of their own top 25 adult sites, "
   ]
  },
  {
   "cell_type": "code",
   "execution_count": 9,
   "id": "187b5972",
   "metadata": {
    "ExecuteTime": {
     "end_time": "2022-12-20T02:25:20.089067Z",
     "start_time": "2022-12-20T02:25:14.083369Z"
    },
    "code_folding": [
     0
    ],
    "execution": {
     "iopub.execute_input": "2024-04-27T09:53:15.028374Z",
     "iopub.status.busy": "2024-04-27T09:53:15.028022Z",
     "iopub.status.idle": "2024-04-27T09:53:20.893329Z",
     "shell.execute_reply": "2024-04-27T09:53:20.892895Z"
    }
   },
   "outputs": [
    {
     "data": {
      "text/html": [
       "<div>\n",
       "<style scoped>\n",
       "    .dataframe tbody tr th:only-of-type {\n",
       "        vertical-align: middle;\n",
       "    }\n",
       "\n",
       "    .dataframe tbody tr th {\n",
       "        vertical-align: top;\n",
       "    }\n",
       "\n",
       "    .dataframe thead th {\n",
       "        text-align: right;\n",
       "    }\n",
       "</style>\n",
       "<table border=\"1\" class=\"dataframe\">\n",
       "  <thead>\n",
       "    <tr style=\"text-align: right;\">\n",
       "      <th></th>\n",
       "      <th>caseid</th>\n",
       "      <th>private_domain</th>\n",
       "      <th>visit_duration</th>\n",
       "      <th>perc</th>\n",
       "      <th>rank</th>\n",
       "      <th>party</th>\n",
       "    </tr>\n",
       "  </thead>\n",
       "  <tbody>\n",
       "    <tr>\n",
       "      <th>0</th>\n",
       "      <td>201302005</td>\n",
       "      <td>adameve.com</td>\n",
       "      <td>6166.0</td>\n",
       "      <td>100.0</td>\n",
       "      <td>1</td>\n",
       "      <td>NaN</td>\n",
       "    </tr>\n",
       "    <tr>\n",
       "      <th>1</th>\n",
       "      <td>201302005</td>\n",
       "      <td>NaN</td>\n",
       "      <td>NaN</td>\n",
       "      <td>0.0</td>\n",
       "      <td>2</td>\n",
       "      <td>NaN</td>\n",
       "    </tr>\n",
       "    <tr>\n",
       "      <th>2</th>\n",
       "      <td>201302005</td>\n",
       "      <td>NaN</td>\n",
       "      <td>NaN</td>\n",
       "      <td>0.0</td>\n",
       "      <td>3</td>\n",
       "      <td>NaN</td>\n",
       "    </tr>\n",
       "    <tr>\n",
       "      <th>3</th>\n",
       "      <td>201302005</td>\n",
       "      <td>NaN</td>\n",
       "      <td>NaN</td>\n",
       "      <td>0.0</td>\n",
       "      <td>4</td>\n",
       "      <td>NaN</td>\n",
       "    </tr>\n",
       "    <tr>\n",
       "      <th>4</th>\n",
       "      <td>201302005</td>\n",
       "      <td>NaN</td>\n",
       "      <td>NaN</td>\n",
       "      <td>0.0</td>\n",
       "      <td>5</td>\n",
       "      <td>NaN</td>\n",
       "    </tr>\n",
       "    <tr>\n",
       "      <th>...</th>\n",
       "      <td>...</td>\n",
       "      <td>...</td>\n",
       "      <td>...</td>\n",
       "      <td>...</td>\n",
       "      <td>...</td>\n",
       "      <td>...</td>\n",
       "    </tr>\n",
       "    <tr>\n",
       "      <th>3605</th>\n",
       "      <td>250950981</td>\n",
       "      <td>NaN</td>\n",
       "      <td>NaN</td>\n",
       "      <td>0.0</td>\n",
       "      <td>6</td>\n",
       "      <td>D</td>\n",
       "    </tr>\n",
       "    <tr>\n",
       "      <th>3606</th>\n",
       "      <td>250950981</td>\n",
       "      <td>NaN</td>\n",
       "      <td>NaN</td>\n",
       "      <td>0.0</td>\n",
       "      <td>7</td>\n",
       "      <td>D</td>\n",
       "    </tr>\n",
       "    <tr>\n",
       "      <th>3607</th>\n",
       "      <td>250950981</td>\n",
       "      <td>NaN</td>\n",
       "      <td>NaN</td>\n",
       "      <td>0.0</td>\n",
       "      <td>8</td>\n",
       "      <td>D</td>\n",
       "    </tr>\n",
       "    <tr>\n",
       "      <th>3608</th>\n",
       "      <td>250950981</td>\n",
       "      <td>NaN</td>\n",
       "      <td>NaN</td>\n",
       "      <td>0.0</td>\n",
       "      <td>9</td>\n",
       "      <td>D</td>\n",
       "    </tr>\n",
       "    <tr>\n",
       "      <th>3609</th>\n",
       "      <td>250950981</td>\n",
       "      <td>NaN</td>\n",
       "      <td>NaN</td>\n",
       "      <td>0.0</td>\n",
       "      <td>10</td>\n",
       "      <td>D</td>\n",
       "    </tr>\n",
       "  </tbody>\n",
       "</table>\n",
       "<p>3610 rows × 6 columns</p>\n",
       "</div>"
      ],
      "text/plain": [
       "         caseid private_domain  visit_duration   perc  rank party\n",
       "0     201302005    adameve.com          6166.0  100.0     1   NaN\n",
       "1     201302005            NaN             NaN    0.0     2   NaN\n",
       "2     201302005            NaN             NaN    0.0     3   NaN\n",
       "3     201302005            NaN             NaN    0.0     4   NaN\n",
       "4     201302005            NaN             NaN    0.0     5   NaN\n",
       "...         ...            ...             ...    ...   ...   ...\n",
       "3605  250950981            NaN             NaN    0.0     6     D\n",
       "3606  250950981            NaN             NaN    0.0     7     D\n",
       "3607  250950981            NaN             NaN    0.0     8     D\n",
       "3608  250950981            NaN             NaN    0.0     9     D\n",
       "3609  250950981            NaN             NaN    0.0    10     D\n",
       "\n",
       "[3610 rows x 6 columns]"
      ]
     },
     "execution_count": 9,
     "metadata": {},
     "output_type": "execute_result"
    }
   ],
   "source": [
    "# (fold cell) Get top 10 sites per individual\n",
    "df_results = pd.DataFrame()\n",
    "\n",
    "for caseid in df[\"caseid\"].unique():\n",
    "    # Retrieve individual data\n",
    "    _df_ind = (\n",
    "        df\n",
    "        #         .merge(df_ind[[\"caseid\", \"party\"]], how=\"left\", on=\"caseid\", validate=\"m:1\")\n",
    "        # Collapse to individual-domain level\n",
    "        .groupby([\"caseid\", \"private_domain\"])[\"visit_duration\"]\n",
    "        .sum()\n",
    "        .reset_index()\n",
    "        .query(f\"caseid=={caseid}\")\n",
    "    )\n",
    "\n",
    "    _df_ind_top10 = (\n",
    "        _df_ind.sort_values(\"visit_duration\", ascending=False, ignore_index=True)\n",
    "        .assign(perc=lambda df: 100 * df[\"visit_duration\"] / df[\"visit_duration\"].sum())\n",
    "        .reindex(labels=range(10))\n",
    "        .assign(\n",
    "            caseid=lambda df: df[\"caseid\"].ffill().astype(int),\n",
    "            #             party=lambda df: df[\"party\"].ffill(),\n",
    "            rank=lambda df: 1 + df.index,\n",
    "            perc=lambda df: df[\"perc\"].fillna(0),\n",
    "        )\n",
    "    )\n",
    "\n",
    "    df_results = pd.concat([df_results, _df_ind_top10])\n",
    "# # _df_ind_top10\n",
    "df_results = df_results.merge(\n",
    "    df_ind[[\"caseid\", \"party\"]], how=\"left\", on=\"caseid\", validate=\"m:1\"\n",
    ")\n",
    "df_results"
   ]
  },
  {
   "cell_type": "code",
   "execution_count": 10,
   "id": "b01173b8",
   "metadata": {
    "ExecuteTime": {
     "end_time": "2022-12-20T02:25:20.878185Z",
     "start_time": "2022-12-20T02:25:20.091019Z"
    },
    "code_folding": [
     0
    ],
    "execution": {
     "iopub.execute_input": "2024-04-27T09:53:20.896285Z",
     "iopub.status.busy": "2024-04-27T09:53:20.895501Z",
     "iopub.status.idle": "2024-04-27T09:53:22.564098Z",
     "shell.execute_reply": "2024-04-27T09:53:22.563561Z"
    }
   },
   "outputs": [
    {
     "data": {
      "image/png": "[encoded data removed]",
      "text/plain": [
       "<Figure size 468x374.4 with 1 Axes>"
      ]
     },
     "metadata": {},
     "output_type": "display_data"
    }
   ],
   "source": [
    "# (fold cell) plot\n",
    "scale = 0.65\n",
    "fig, ax = plt.subplots(figsize=(10 * scale, 8 * scale), facecolor=\"white\")\n",
    "\n",
    "sns.lineplot(\n",
    "    x=\"rank\",\n",
    "    y=\"perc\",\n",
    "    data=df_results.query(\"party!='I'\"),\n",
    "    hue=\"party\",\n",
    "    style=\"party\",\n",
    "    markers=True,\n",
    "    markersize=12,\n",
    "    markeredgewidth=1,\n",
    "    palette=[\"navy\", \"maroon\"],\n",
    "    lw=2,\n",
    "    alpha=0.5,\n",
    "    legend=False,\n",
    "    ax=ax,\n",
    ")\n",
    "ax.set_xticks(range(1, 11))\n",
    "\n",
    "ax.set_xlabel(\"Top x most frequented\", size=14)\n",
    "ax.set_ylabel(\"Percentage of time\", size=14)\n",
    "\n",
    "rep_hand = mlines.Line2D(\n",
    "    [], [], color=\"maroon\", marker=\"x\", ls=\"--\", markersize=7, label=\"Republican\"\n",
    ")\n",
    "dem_hand = mlines.Line2D(\n",
    "    [],\n",
    "    [],\n",
    "    color=\"navy\",\n",
    "    marker=\"o\",\n",
    "    ls=\"-\",\n",
    "    markersize=7,\n",
    "    label=\"Democrat\",\n",
    ")\n",
    "custom_legend = plt.legend(\n",
    "    handles=[rep_hand, dem_hand],\n",
    "    handlelength=4,\n",
    "    handletextpad=0.3,\n",
    "    labelspacing=0.3,\n",
    "    title=\"Party\",\n",
    "    frameon=False,\n",
    "    loc=\"best\",\n",
    "    prop={\"weight\": \"bold\", \"size\": 13},\n",
    ")\n",
    "custom_legend._legend_box.align = \"left\"\n",
    "custom_legend.get_title().set_weight(\"bold\")\n",
    "\n",
    "sns.despine(left=True, bottom=True)\n",
    "plt.tight_layout()\n",
    "save_mpl_fig(os.path.join(FIGSAVEDIR, \"concentration_porn_consumption_topX_by_party\"))"
   ]
  },
  {
   "cell_type": "code",
   "execution_count": null,
   "id": "7eee26d2",
   "metadata": {},
   "outputs": [],
   "source": []
  }
 ],
 "metadata": {
  "kernelspec": {
   "display_name": "Python 3 (ipykernel)",
   "language": "python",
   "name": "python3"
  },
  "language_info": {
   "codemirror_mode": {
    "name": "ipython",
    "version": 3
   },
   "file_extension": ".py",
   "mimetype": "text/x-python",
   "name": "python",
   "nbconvert_exporter": "python",
   "pygments_lexer": "ipython3",
   "version": "3.10.11"
  },
  "toc": {
   "base_numbering": 1,
   "nav_menu": {},
   "number_sections": true,
   "sideBar": true,
   "skip_h1_title": false,
   "title_cell": "Table of Contents",
   "title_sidebar": "Contents",
   "toc_cell": false,
   "toc_position": {},
   "toc_section_display": true,
   "toc_window_display": false
  },
  "varInspector": {
   "cols": {
    "lenName": 16,
    "lenType": 16,
    "lenVar": 40
   },
   "kernels_config": {
    "python": {
     "delete_cmd_postfix": "",
     "delete_cmd_prefix": "del ",
     "library": "var_list.py",
     "varRefreshCmd": "print(var_dic_list())"
    },
    "r": {
     "delete_cmd_postfix": ") ",
     "delete_cmd_prefix": "rm(",
     "library": "var_list.r",
     "varRefreshCmd": "cat(var_dic_list()) "
    }
   },
   "types_to_exclude": [
    "module",
    "function",
    "builtin_function_or_method",
    "instance",
    "_Feature"
   ],
   "window_display": false
  }
 },
 "nbformat": 4,
 "nbformat_minor": 5
}
